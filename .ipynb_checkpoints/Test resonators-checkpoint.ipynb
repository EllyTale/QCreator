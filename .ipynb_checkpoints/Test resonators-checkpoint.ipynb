{
 "cells": [
  {
   "cell_type": "markdown",
   "metadata": {},
   "source": [
    "# Import design libraries"
   ]
  },
  {
   "cell_type": "code",
   "execution_count": 1,
   "metadata": {
    "ExecuteTime": {
     "end_time": "2020-08-30T22:37:33.903536Z",
     "start_time": "2020-08-30T22:37:33.392804Z"
    }
   },
   "outputs": [],
   "source": [
    "import gdspy\n",
    "import numpy as np\n",
    "from importlib import reload\n",
    "import libraries.general_design_functions as gdf\n",
    "import libraries.general_sample_creator as creator\n",
    "from copy import deepcopy"
   ]
  },
  {
   "cell_type": "code",
   "execution_count": 2,
   "metadata": {
    "ExecuteTime": {
     "end_time": "2020-08-30T22:37:40.650948Z",
     "start_time": "2020-08-30T22:37:40.645885Z"
    }
   },
   "outputs": [],
   "source": [
    "watch=lambda: gdspy.LayoutViewer(depth=0,pattern={'default': 8},background='#FFFFFF') #this opens a viewer"
   ]
  },
  {
   "cell_type": "markdown",
   "metadata": {},
   "source": [
    "# Specify constants, everything in microns"
   ]
  },
  {
   "cell_type": "code",
   "execution_count": 3,
   "metadata": {
    "ExecuteTime": {
     "end_time": "2020-08-30T22:37:41.357313Z",
     "start_time": "2020-08-30T22:37:41.351329Z"
    }
   },
   "outputs": [],
   "source": [
    "tl_core = 11\n",
    "tl_gap = 6\n",
    "tl_ground = 20"
   ]
  },
  {
   "cell_type": "markdown",
   "metadata": {},
   "source": [
    "# Sample generation"
   ]
  },
  {
   "cell_type": "markdown",
   "metadata": {},
   "source": [
    "## borders with pads"
   ]
  },
  {
   "cell_type": "code",
   "execution_count": 48,
   "metadata": {
    "ExecuteTime": {
     "end_time": "2020-08-30T22:45:07.052299Z",
     "start_time": "2020-08-30T22:45:07.033090Z"
    }
   },
   "outputs": [],
   "source": [
    "reload(gdspy)\n",
    "reload(creator)\n",
    "reload(gdf)\n",
    "layers_configuration={\n",
    "    'total':0,\n",
    "    'restricted area':10,\n",
    "    'for removing':100,\n",
    "    'JJs':1,\n",
    "    'air bridges':2,\n",
    "    'air bridge pads':3,\n",
    "    'vertical gridlines':15,\n",
    "    'horizontal gridlines':16\n",
    "}\n",
    "sample = creator.Sample('Resonators',layers_configuration)\n",
    "\n",
    "#specify sample vertical and horizontal lengths\n",
    "sample.sample_vertical_size=4.7e3\n",
    "sample.sample_horizontal_size=9.7e3\n",
    "\n",
    "#specify pads for the sample\n",
    "sample.add_pad(tl_core,tl_gap,tl_ground,(810,2350))\n",
    "sample.add_pad(tl_core,tl_gap,tl_ground,(8890, 2350))\n",
    "\n",
    "#generate borders with pads\n",
    "sample.generate_sample_edges_and_pads()"
   ]
  },
  {
   "cell_type": "markdown",
   "metadata": {},
   "source": [
    "## Feedline"
   ]
  },
  {
   "cell_type": "code",
   "execution_count": 49,
   "metadata": {
    "ExecuteTime": {
     "end_time": "2020-08-30T22:45:07.547923Z",
     "start_time": "2020-08-30T22:45:07.540971Z"
    }
   },
   "outputs": [],
   "source": [
    "points = [sample.pads[0].coordinate,sample.pads[1].coordinate]\n",
    "sample.generate_line(deepcopy(points),tl_core,tl_gap,tl_ground,None)"
   ]
  },
  {
   "cell_type": "code",
   "execution_count": 50,
   "metadata": {
    "ExecuteTime": {
     "end_time": "2020-08-30T22:45:07.912112Z",
     "start_time": "2020-08-30T22:45:07.899146Z"
    }
   },
   "outputs": [
    {
     "data": {
      "text/plain": [
       "([<gdspy.PolygonSet at 0x1d36dc18448>,\n",
       "  <gdspy.PolygonSet at 0x1d36df78f88>,\n",
       "  <gdspy.PolygonSet at 0x1d36debd088>,\n",
       "  <gdspy.PolygonSet at 0x1d36dcedd88>,\n",
       "  <gdspy.PolygonSet at 0x1d36dcf1a48>,\n",
       "  <gdspy.PolygonSet at 0x1d36dce0808>,\n",
       "  <gdspy.PolygonSet at 0x1d36db52fc8>,\n",
       "  <gdspy.PolygonSet at 0x1d36dec5bc8>,\n",
       "  <gdspy.PolygonSet at 0x1d36df845c8>,\n",
       "  <gdspy.PolygonSet at 0x1d36dca1b48>,\n",
       "  <gdspy.PolygonSet at 0x1d36dc77808>,\n",
       "  <gdspy.PolygonSet at 0x1d36c25e448>,\n",
       "  <gdspy.PolygonSet at 0x1d36dc695c8>,\n",
       "  <gdspy.PolygonSet at 0x1d36df98208>,\n",
       "  <gdspy.PolygonSet at 0x1d36df926c8>],\n",
       " [Rectangle((847.5, 2320.0), (832.5, 2380.0), 2, 0),\n",
       "  Rectangle((1397.5, 2320.0), (1382.5, 2380.0), 2, 0),\n",
       "  Rectangle((1947.5, 2320.0), (1932.5, 2380.0), 2, 0),\n",
       "  Rectangle((2497.5, 2320.0), (2482.5, 2380.0), 2, 0),\n",
       "  Rectangle((3047.5, 2320.0), (3032.5, 2380.0), 2, 0),\n",
       "  Rectangle((3597.5, 2320.0), (3582.5, 2380.0), 2, 0),\n",
       "  Rectangle((4147.5, 2320.0), (4132.5, 2380.0), 2, 0),\n",
       "  Rectangle((4697.5, 2320.0), (4682.5, 2380.0), 2, 0),\n",
       "  Rectangle((5247.5, 2320.0), (5232.5, 2380.0), 2, 0),\n",
       "  Rectangle((5797.5, 2320.0), (5782.5, 2380.0), 2, 0),\n",
       "  Rectangle((6347.5, 2320.0), (6332.5, 2380.0), 2, 0),\n",
       "  Rectangle((6897.5, 2320.0), (6882.5, 2380.0), 2, 0),\n",
       "  Rectangle((7447.5, 2320.0), (7432.5, 2380.0), 2, 0),\n",
       "  Rectangle((7997.5, 2320.0), (7982.5, 2380.0), 2, 0),\n",
       "  Rectangle((8547.5, 2320.0), (8532.5, 2380.0), 2, 0)])"
      ]
     },
     "execution_count": 50,
     "metadata": {},
     "output_type": "execute_result"
    }
   ],
   "source": [
    "feedline_bridge_params=creator.Bridges_over_line_param(distance=550, offset=30,\n",
    "                    width=15, length=60, padsize=(30,30), line_type=None)\n",
    "\n",
    "sample.generate_array_of_bridges(deepcopy(points),feedline_bridge_params)"
   ]
  },
  {
   "cell_type": "markdown",
   "metadata": {},
   "source": [
    "## Resonators"
   ]
  },
  {
   "cell_type": "code",
   "execution_count": 51,
   "metadata": {
    "ExecuteTime": {
     "end_time": "2020-08-30T22:45:08.987053Z",
     "start_time": "2020-08-30T22:45:08.980072Z"
    }
   },
   "outputs": [],
   "source": [
    "widths=[6,11,6,6,4,7,4]\n",
    "ratio=0.0348 # to have 100th quality factor https://smm.misis.ru/CPW-resonator-coupling/\n",
    "def coupler_length(frequency, ratio):\n",
    "    c = 299792458\n",
    "    epsilon_eff = (11.45+1)/2\n",
    "    return c/(4*np.sqrt(epsilon_eff)*frequency)*ratio/(ratio+1)*1e6"
   ]
  },
  {
   "cell_type": "code",
   "execution_count": 52,
   "metadata": {
    "ExecuteTime": {
     "end_time": "2020-08-30T22:45:09.311325Z",
     "start_time": "2020-08-30T22:45:09.307362Z"
    }
   },
   "outputs": [],
   "source": [
    "resonators_bridge_params=creator.Bridges_over_line_param(distance=250, offset=70,\n",
    "                    width=10, length=45, padsize=(20,30), line_type='resonator')\n",
    "\n",
    "# sample.generate_array_of_bridges(deepcopy(sample.resonators[0].points[2:]),feedline_bridge_params)\n",
    "# sample.generate_array_of_bridges(deepcopy(sample.resonators[1].points[2:]),feedline_bridge_params)"
   ]
  },
  {
   "cell_type": "code",
   "execution_count": 53,
   "metadata": {
    "ExecuteTime": {
     "end_time": "2020-08-30T22:45:10.492744Z",
     "start_time": "2020-08-30T22:45:09.722543Z"
    }
   },
   "outputs": [
    {
     "name": "stdout",
     "output_type": "stream",
     "text": [
      "The biggest coupler length is: 202.0430208645248\n",
      "The smallest coupler length is: 101.0215104322624\n",
      "The total number of resonators is:  26\n"
     ]
    }
   ],
   "source": [
    "import random\n",
    "open_end={\n",
    "    'type':'open',\n",
    "    'ground':4,\n",
    "    'gap':20,\n",
    "    'end':False,\n",
    "    'begin':True\n",
    "}\n",
    "\n",
    "distance=550\n",
    "offset_up=210\n",
    "offset_down=distance-offset_up\n",
    "\n",
    "start_freq = 5.0e9\n",
    "stop_freq = 10e9\n",
    "num=31\n",
    "freqs=np.linspace(start_freq,stop_freq,num)\n",
    "\n",
    "print('The biggest coupler length is:',coupler_length(min(freqs),ratio))\n",
    "print('The smallest coupler length is:',coupler_length(max(freqs),ratio))\n",
    "\n",
    "for start,finish in [[sample.pads[0].coordinate,sample.pads[1].coordinate]]:\n",
    "    if finish[0] - start[0] == 0:\n",
    "        line_angle = np.pi / 2\n",
    "    else:\n",
    "        line_angle = np.arctan((finish[1] - start[1]) / (finish[0] - start[0]))\n",
    "    if finish[1] - start[1] < 0 or finish[1] - start[1] == 0 and finish[0] - start[0] < 0:\n",
    "        line_angle += np.pi\n",
    "    line_length = np.sqrt((finish[0] - start[0]) ** 2 + (finish[1] - start[1]) ** 2)\n",
    "    total_number = int((line_length - 2 * offset_up) / distance)\n",
    "    print(\"The total number of resonators is: \",total_number*2)\n",
    "    for num_resonator in range(total_number):\n",
    "        resonator_center = (start[0] + np.cos(line_angle) * (offset_down + num_resonator * distance),\n",
    "                         start[1] + np.sin(line_angle) * (offset_down + num_resonator * distance))\n",
    "        freq_num=random.randint(0,len(freqs)-2)\n",
    "        sample.generate_round_resonator(freqs[freq_num] ,(deepcopy(resonator_center)[0],deepcopy(resonator_center)[1]-27.5+2.5) ,\n",
    "                               core = 7,\n",
    "                               gap = 4,\n",
    "                               ground = 4,\n",
    "                               open_end_length = 800,open_end=open_end,\n",
    "                               coupler_length = coupler_length(freqs[freq_num],ratio),\n",
    "                               l1=100, l2=coupler_length(freqs[freq_num],ratio)-52, l3=700,l4 =70 ,l5=600, h_end=10, \n",
    "                               corner_type='flush',angle=line_angle,bridge_params=resonators_bridge_params)\n",
    "        freqs=np.delete(freqs,freq_num)\n",
    "        freq_num=random.randint(0,len(freqs)-2)\n",
    "        resonator_center = (start[0] + np.cos(line_angle) * (offset_up + num_resonator * distance),\n",
    "                         start[1] + np.sin(line_angle) * (offset_up + num_resonator * distance))\n",
    "        sample.generate_round_resonator( freqs[freq_num],(deepcopy(resonator_center)[0],deepcopy(resonator_center)[1]+27.5-2.5),\n",
    "                               core = 7,\n",
    "                               gap = 4,\n",
    "                               ground = 4,\n",
    "                               open_end_length = 800,open_end=open_end,\n",
    "                               coupler_length = coupler_length(freqs[freq_num],ratio),\n",
    "                               l1=100, l2=coupler_length(freqs[freq_num],ratio)-52, l3=700,l4 =70 ,l5=600, h_end=10, \n",
    "                               corner_type='flush',angle=line_angle+np.pi,bridge_params=resonators_bridge_params)\n",
    "        freqs=np.delete(freqs,freq_num)"
   ]
  },
  {
   "cell_type": "markdown",
   "metadata": {
    "ExecuteTime": {
     "end_time": "2020-08-13T17:39:28.487072Z",
     "start_time": "2020-08-13T17:39:28.482088Z"
    }
   },
   "source": [
    "## Fill holes"
   ]
  },
  {
   "cell_type": "code",
   "execution_count": 58,
   "metadata": {
    "ExecuteTime": {
     "end_time": "2020-08-30T22:46:00.980312Z",
     "start_time": "2020-08-30T22:46:00.149369Z"
    }
   },
   "outputs": [],
   "source": [
    "sample.create_grid(20,20)"
   ]
  },
  {
   "cell_type": "code",
   "execution_count": 59,
   "metadata": {
    "ExecuteTime": {
     "end_time": "2020-08-30T22:46:01.899595Z",
     "start_time": "2020-08-30T22:46:01.783222Z"
    }
   },
   "outputs": [
    {
     "name": "stdout",
     "output_type": "stream",
     "text": [
      "The result cell is generated\n"
     ]
    }
   ],
   "source": [
    "sample.finish_him()\n",
    "# watch()"
   ]
  },
  {
   "cell_type": "code",
   "execution_count": 60,
   "metadata": {
    "ExecuteTime": {
     "end_time": "2020-08-30T22:46:03.852068Z",
     "start_time": "2020-08-30T22:46:03.568982Z"
    }
   },
   "outputs": [],
   "source": [
    "gdspy.write_gds('resonators.gds', cells=None, name='library', unit=1e-06, precision=1e-09, timestamp=None, binary_cells=None)"
   ]
  },
  {
   "cell_type": "markdown",
   "metadata": {},
   "source": [
    "# Resonator analysis"
   ]
  },
  {
   "cell_type": "code",
   "execution_count": 61,
   "metadata": {
    "ExecuteTime": {
     "end_time": "2020-08-30T22:46:59.399595Z",
     "start_time": "2020-08-30T22:46:57.330182Z"
    }
   },
   "outputs": [
    {
     "data": {
      "text/plain": [
       "<module 'libraries.resonator_analysis' from 'E:\\\\Github\\\\QCreator\\\\libraries\\\\resonator_analysis.py'>"
      ]
     },
     "execution_count": 61,
     "metadata": {},
     "output_type": "execute_result"
    }
   ],
   "source": [
    "import libraries.resonator_analysis\n",
    "reload(libraries.resonator_analysis)"
   ]
  },
  {
   "cell_type": "code",
   "execution_count": 62,
   "metadata": {
    "ExecuteTime": {
     "end_time": "2020-08-30T22:49:19.306021Z",
     "start_time": "2020-08-30T22:46:59.401591Z"
    }
   },
   "outputs": [
    {
     "name": "stdout",
     "output_type": "stream",
     "text": [
      "full numeric frequency, GHz:  5.157874582213993 , Q:  102265.82454898681\n",
      "full numeric frequency, GHz:  7.82420566625689 , Q:  102224.23900223496\n",
      "full numeric frequency, GHz:  9.325276584888952 , Q:  102210.1901151546\n",
      "full numeric frequency, GHz:  5.491009327514655 , Q:  102259.35011284625\n",
      "full numeric frequency, GHz:  9.825835295770325 , Q:  102206.84482440265\n",
      "full numeric frequency, GHz:  7.4907575777758035 , Q:  102228.242104963\n",
      "full numeric frequency, GHz:  8.157698554102822 , Q:  102220.60330659451\n",
      "full numeric frequency, GHz:  9.658971180357808 , Q:  102207.89104647592\n",
      "full numeric frequency, GHz:  8.991626829058081 , Q:  102212.80274832628\n",
      "full numeric frequency, GHz:  7.15735427945467 , Q:  102232.54106733705\n",
      "full numeric frequency, GHz:  8.49123625004427 , Q:  102217.23691000057\n",
      "full numeric frequency, GHz:  5.3244363633630485 , Q:  102262.55912527897\n",
      "full numeric frequency, GHz:  8.324461800448558 , Q:  102218.85164973026\n",
      "full numeric frequency, GHz:  9.15844610259541 , Q:  102211.44591662777\n",
      "full numeric frequency, GHz:  6.657333294077373 , Q:  102239.66438498415\n",
      "full numeric frequency, GHz:  8.658021903898186 , Q:  102215.6735205177\n",
      "full numeric frequency, GHz:  7.657476022631418 , Q:  102226.18056990077\n",
      "full numeric frequency, GHz:  6.990669423831371 , Q:  102234.82852004988\n",
      "full numeric frequency, GHz:  6.324041932139084 , Q:  102244.84607707741\n",
      "full numeric frequency, GHz:  9.49211827711128 , Q:  102209.00438661042\n",
      "full numeric frequency, GHz:  4.991323982851672 , Q:  102269.24528984279\n",
      "full numeric frequency, GHz:  6.157413036287272 , Q:  102247.58805399948\n",
      "full numeric frequency, GHz:  7.324050330371279 , Q:  102230.33008432775\n",
      "full numeric frequency, GHz:  5.990795329051028 , Q:  102250.3671241017\n",
      "full numeric frequency, GHz:  6.8239957624058345 , Q:  102237.20456707179\n",
      "full numeric frequency, GHz:  8.824818763225421 , Q:  102214.18395131035\n"
     ]
    }
   ],
   "source": [
    "Resonators=[]\n",
    "freqs=[]\n",
    "Qs=[]\n",
    "for resonator in sample.resonators:\n",
    "    Resonators.append(libraries.resonator_analysis.ResonatorAnalyser(resonator))\n",
    "    Resonators[-1].widths=widths\n",
    "    Resonators[-1].get_conformal_tables(0,2)\n",
    "    f,q=Resonators[-1].simulate_S21()\n",
    "    freqs.append(f)\n",
    "    Qs.append(q)"
   ]
  },
  {
   "cell_type": "code",
   "execution_count": 79,
   "metadata": {
    "ExecuteTime": {
     "end_time": "2020-08-30T22:59:44.761463Z",
     "start_time": "2020-08-30T22:59:44.757393Z"
    }
   },
   "outputs": [],
   "source": [
    "f = open(\"res.txt\", \"a\")"
   ]
  },
  {
   "cell_type": "code",
   "execution_count": 80,
   "metadata": {
    "ExecuteTime": {
     "end_time": "2020-08-30T22:59:45.078496Z",
     "start_time": "2020-08-30T22:59:45.073496Z"
    }
   },
   "outputs": [
    {
     "data": {
      "text/plain": [
       "26"
      ]
     },
     "execution_count": 80,
     "metadata": {},
     "output_type": "execute_result"
    }
   ],
   "source": [
    "len(sample.resonators)"
   ]
  },
  {
   "cell_type": "code",
   "execution_count": 81,
   "metadata": {
    "ExecuteTime": {
     "end_time": "2020-08-30T22:59:45.399159Z",
     "start_time": "2020-08-30T22:59:45.393210Z"
    }
   },
   "outputs": [],
   "source": [
    "i=1\n",
    "for fr,Q in zip(freqs,Qs):\n",
    "    line=[\"Resonator \", str(i),\" frequency, GHz: \",str(np.round(fr/1e9,3)),\" Q,1e3: \",str(np.round(-Q/1e3,3)),'\\n']\n",
    "    i+=1\n",
    "    f.writelines(line)\n",
    "f.close()"
   ]
  },
  {
   "cell_type": "markdown",
   "metadata": {},
   "source": [
    "# Validation"
   ]
  },
  {
   "cell_type": "code",
   "execution_count": 62,
   "metadata": {
    "ExecuteTime": {
     "end_time": "2020-08-30T21:13:16.068644Z",
     "start_time": "2020-08-30T21:13:12.835713Z"
    }
   },
   "outputs": [
    {
     "data": {
      "image/png": "[encoded data removed]",
      "text/plain": [
       "<Figure size 1080x360 with 3 Axes>"
      ]
     },
     "metadata": {
      "needs_background": "light"
     },
     "output_type": "display_data"
    }
   ],
   "source": [
    "res=Resonators[0]\n",
    "res.plot_S21()"
   ]
  },
  {
   "cell_type": "code",
   "execution_count": 63,
   "metadata": {
    "ExecuteTime": {
     "end_time": "2020-08-30T21:13:19.894719Z",
     "start_time": "2020-08-30T21:13:19.084245Z"
    }
   },
   "outputs": [],
   "source": [
    "fitter=res.fit_S21()"
   ]
  },
  {
   "cell_type": "code",
   "execution_count": 64,
   "metadata": {
    "ExecuteTime": {
     "end_time": "2020-08-30T21:13:21.333692Z",
     "start_time": "2020-08-30T21:13:19.899673Z"
    }
   },
   "outputs": [
    {
     "data": {
      "image/png": "[encoded data removed]",
      "text/plain": [
       "<Figure size 720x720 with 3 Axes>"
      ]
     },
     "metadata": {
      "needs_background": "light"
     },
     "output_type": "display_data"
    }
   ],
   "source": [
    "from pylab import rcParams\n",
    "rcParams['figure.figsize'] = 10, 10\n",
    "fitter.plotall()"
   ]
  },
  {
   "cell_type": "code",
   "execution_count": 65,
   "metadata": {
    "ExecuteTime": {
     "end_time": "2020-08-30T21:13:21.520327Z",
     "start_time": "2020-08-30T21:13:21.512950Z"
    }
   },
   "outputs": [
    {
     "data": {
      "text/plain": [
       "{'Qi_dia_corr': 15418000769.93105,\n",
       " 'Qi_no_corr': 16112461265.75595,\n",
       " 'absQc': 102091.3140789556,\n",
       " 'Qc_dia_corr': 102091.34321531653,\n",
       " 'Ql': 102090.66721500357,\n",
       " 'fr': 8618429456.222677,\n",
       " 'theta0': 3.1408371470929097,\n",
       " 'phi0': -0.0007555064968832906,\n",
       " 'phi0_err': 0.027247279022577606,\n",
       " 'Ql_err': 11851.623643854491,\n",
       " 'absQc_err': 93.19414513232793,\n",
       " 'fr_err': 1152.6561259441908,\n",
       " 'chi_square': 1.2835856548728216e-05,\n",
       " 'Qi_no_corr_err': 295799100517036.4,\n",
       " 'Qi_dia_corr_err': 270822705373951.1}"
      ]
     },
     "execution_count": 65,
     "metadata": {},
     "output_type": "execute_result"
    }
   ],
   "source": [
    "fitter.fitresults"
   ]
  },
  {
   "cell_type": "code",
   "execution_count": 66,
   "metadata": {
    "ExecuteTime": {
     "end_time": "2020-08-30T21:13:21.962325Z",
     "start_time": "2020-08-30T21:13:21.954298Z"
    }
   },
   "outputs": [
    {
     "data": {
      "text/plain": [
       "(8.618429456222676, 1.1526561259441908e-06)"
      ]
     },
     "execution_count": 66,
     "metadata": {},
     "output_type": "execute_result"
    }
   ],
   "source": [
    "(fitter.fitresults['fr']/1e9,fitter.fitresults['fr_err']/1e9)"
   ]
  },
  {
   "cell_type": "code",
   "execution_count": 67,
   "metadata": {
    "ExecuteTime": {
     "end_time": "2020-08-30T21:13:22.333320Z",
     "start_time": "2020-08-30T21:13:22.324343Z"
    }
   },
   "outputs": [
    {
     "data": {
      "text/plain": [
       "(102090.66721500357, 11851.623643854491)"
      ]
     },
     "execution_count": 67,
     "metadata": {},
     "output_type": "execute_result"
    }
   ],
   "source": [
    "(fitter.fitresults['Ql'],fitter.fitresults['Ql_err'])"
   ]
  },
  {
   "cell_type": "code",
   "execution_count": null,
   "metadata": {},
   "outputs": [],
   "source": []
  }
 ],
 "metadata": {
  "kernelspec": {
   "display_name": "Python 3",
   "language": "python",
   "name": "python3"
  },
  "language_info": {
   "codemirror_mode": {
    "name": "ipython",
    "version": 3
   },
   "file_extension": ".py",
   "mimetype": "text/x-python",
   "name": "python",
   "nbconvert_exporter": "python",
   "pygments_lexer": "ipython3",
   "version": "3.7.3"
  },
  "toc": {
   "base_numbering": 1,
   "nav_menu": {},
   "number_sections": true,
   "sideBar": true,
   "skip_h1_title": false,
   "title_cell": "Table of Contents",
   "title_sidebar": "Contents",
   "toc_cell": false,
   "toc_position": {},
   "toc_section_display": true,
   "toc_window_display": false
  }
 },
 "nbformat": 4,
 "nbformat_minor": 4
}
