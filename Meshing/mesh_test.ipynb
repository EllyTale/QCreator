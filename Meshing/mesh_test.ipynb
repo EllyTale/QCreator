{
 "cells": [
  {
   "cell_type": "code",
   "execution_count": 1,
   "metadata": {
    "ExecuteTime": {
     "end_time": "2020-08-08T18:39:20.057431Z",
     "start_time": "2020-08-08T18:39:19.076482Z"
    }
   },
   "outputs": [],
   "source": [
    "import sys\n",
    "\n",
    "# sys.path.append(\"/usr/local/lib/python3.7/site-packages/meshpy\")\n",
    "import meshpy.triangle as triangle\n",
    "import meshpy.tet as tet\n",
    "# %matplotlib inline\n",
    "import numpy as np\n",
    "import matplotlib.pyplot as plt\n",
    "\n",
    "# sys.path.append(\"/usr/local/lib/python3.7/site-packages/gdspy\")\n",
    "import gdspy\n",
    "import subprocess\n",
    "import pandas as pd\n",
    "import pyclipper\n",
    "\n",
    "# module for detecting inner points\n",
    "from shapely.geometry.polygon import Polygon\n",
    "from shapely.geometry import Point"
   ]
  },
  {
   "cell_type": "markdown",
   "metadata": {},
   "source": [
    "# Read conductors from a gds file"
   ]
  },
  {
   "cell_type": "code",
   "execution_count": 11,
   "metadata": {
    "ExecuteTime": {
     "end_time": "2020-08-08T18:41:07.308645Z",
     "start_time": "2020-08-08T18:41:07.272674Z"
    }
   },
   "outputs": [],
   "source": [
    "layers=[0,1,2,3]\n",
    "new_cells=[gdspy.GdsLibrary()]*len(layers)\n",
    "cells=[]\n",
    "cell_name='result'\n",
    "path=r\"E:\\Github\\QCreator\\Meshing\\test1.gds\"\n",
    "for i,num_layer in enumerate(layers):\n",
    "    cells.append(new_cells[i].read_gds(infile=path).cell_dict[cell_name])\n",
    "    cells[i].remove_polygons(lambda pts, layer, datatype:layer != i)"
   ]
  },
  {
   "cell_type": "code",
   "execution_count": 2,
   "metadata": {
    "ExecuteTime": {
     "end_time": "2020-08-08T18:11:42.050078Z",
     "start_time": "2020-08-08T18:11:41.698601Z"
    }
   },
   "outputs": [],
   "source": [
    "layers=[0,1]\n",
    "new_cells=[gdspy.GdsLibrary()]*len(layers)\n",
    "cells=[]\n",
    "cell_name='result'\n",
    "path=r\"E:\\Github\\Mesh\\test.gds\"\n",
    "for i,num_layer in enumerate(layers):\n",
    "    cells.append(new_cells[i].read_gds(infile=path).cell_dict[cell_name])\n",
    "    cells[i].remove_polygons(lambda pts, layer, datatype:layer == i)"
   ]
  },
  {
   "cell_type": "code",
   "execution_count": 12,
   "metadata": {
    "ExecuteTime": {
     "end_time": "2020-08-08T18:41:11.647511Z",
     "start_time": "2020-08-08T18:41:08.773333Z"
    }
   },
   "outputs": [
    {
     "data": {
      "text/plain": [
       "<gdspy.viewer.LayoutViewer object .!layoutviewer>"
      ]
     },
     "execution_count": 12,
     "metadata": {},
     "output_type": "execute_result"
    }
   ],
   "source": [
    "num=0\n",
    "gdspy.LayoutViewer(cells=cells[num])"
   ]
  },
  {
   "cell_type": "markdown",
   "metadata": {},
   "source": [
    "# Preparation"
   ]
  },
  {
   "cell_type": "code",
   "execution_count": 13,
   "metadata": {
    "ExecuteTime": {
     "end_time": "2020-08-08T18:41:14.652495Z",
     "start_time": "2020-08-08T18:41:14.639056Z"
    }
   },
   "outputs": [],
   "source": [
    "conductors=[]\n",
    "def create_cond(cell):\n",
    "    polygons=[]\n",
    "    for fig in cell.get_polygons():\n",
    "        polygons.append([tuple(fig[i]) for i in range(len(fig))])\n",
    "    return polygons\n",
    "for i in range(len(layers)):\n",
    "    conductors.append(create_cond(cells[i]))"
   ]
  },
  {
   "cell_type": "markdown",
   "metadata": {},
   "source": [
    "# Meshing"
   ]
  },
  {
   "cell_type": "code",
   "execution_count": 29,
   "metadata": {
    "ExecuteTime": {
     "end_time": "2020-08-08T18:46:38.676405Z",
     "start_time": "2020-08-08T18:46:38.470892Z"
    }
   },
   "outputs": [
    {
     "name": "stdout",
     "output_type": "stream",
     "text": [
      "For 0 conductor total length is:  22734\n",
      "For 1 conductor total length is:  929\n",
      "For 2 conductor total length is:  1193\n",
      "For 3 conductor total length is:  1177\n",
      "Sum : 26033\n"
     ]
    }
   ],
   "source": [
    "# volumes = [1000]*len(conductors)\n",
    "mesh_figures_points=[]\n",
    "mesh_figures_tris=[]\n",
    "total=0\n",
    "for num, polygons in enumerate(conductors):\n",
    "    mesh_points_list = []\n",
    "    mesh_tris_list = []\n",
    "    total_length=0\n",
    "    for conductor, volume in zip(polygons, [50]*len(polygons)):\n",
    "        data = create_mesh(conductor, max_volume=volume)\n",
    "        mesh_points_list.append(data[0])\n",
    "        mesh_tris_list.append(data[1])\n",
    "        total_length+=len(data[1])\n",
    "    total+=total_length\n",
    "    mesh_figures_points.append(mesh_points_list)\n",
    "    mesh_figures_tris.append(mesh_tris_list)\n",
    "    print('For '+str(num)+' conductor '+'total length is: ', total_length)\n",
    "print(\"Sum :\",total)"
   ]
  },
  {
   "cell_type": "code",
   "execution_count": 30,
   "metadata": {
    "ExecuteTime": {
     "end_time": "2020-08-08T18:46:40.248490Z",
     "start_time": "2020-08-08T18:46:39.993198Z"
    }
   },
   "outputs": [
    {
     "data": {
      "image/png": "[encoded data removed]",
      "text/plain": [
       "<Figure size 432x288 with 1 Axes>"
      ]
     },
     "metadata": {
      "needs_background": "light"
     },
     "output_type": "display_data"
    }
   ],
   "source": [
    "colors=['r','b','k','g']\n",
    "for num,color in enumerate(colors):\n",
    "    for i in range(len(conductors[num])):\n",
    "        plot_mesh(mesh_figures_points[num][i],mesh_figures_tris[num][i],color)\n",
    "# for cond in range(len(conductors[0])):\n",
    "#     plot_mesh(mesh_figures_points[0][cond],mesh_figures_tris[0][cond],'r')\n",
    "# for cond in range(len(conductors[1])):\n",
    "#     plot_mesh(mesh_figures_points[1][cond],mesh_figures_tris[1][cond],'b')"
   ]
  },
  {
   "cell_type": "code",
   "execution_count": 53,
   "metadata": {
    "ExecuteTime": {
     "end_time": "2020-08-08T10:34:24.260638Z",
     "start_time": "2020-08-08T10:34:24.255585Z"
    }
   },
   "outputs": [],
   "source": [
    "# conductor_num=0\n",
    "# plot_mesh(mesh_points_list[conductor_num],mesh_tris_list[conductor_num])"
   ]
  },
  {
   "cell_type": "code",
   "execution_count": 54,
   "metadata": {
    "ExecuteTime": {
     "end_time": "2020-08-08T10:34:32.200502Z",
     "start_time": "2020-08-08T10:34:32.195519Z"
    }
   },
   "outputs": [],
   "source": [
    "# for cond in range(len(conductors)):\n",
    "#     plot_mesh(mesh_points_list[cond],mesh_tris_list[cond])"
   ]
  },
  {
   "cell_type": "markdown",
   "metadata": {},
   "source": [
    "# Write into a file"
   ]
  },
  {
   "cell_type": "code",
   "execution_count": 31,
   "metadata": {
    "ExecuteTime": {
     "end_time": "2020-08-08T18:46:45.865935Z",
     "start_time": "2020-08-08T18:46:45.753990Z"
    }
   },
   "outputs": [],
   "source": [
    "list_of_conductors_to_fastcap=[]\n",
    "for num in range(len(conductors)):\n",
    "    for mesh_points,mesh_tris in zip(mesh_figures_points[num],mesh_figures_tris[num]):\n",
    "    #     number+=1\n",
    "        list_of_conductors_to_fastcap.append(to_fastcap(mesh_points,mesh_tris,num+1))\n",
    "joined_data=np.concatenate(tuple(list_of_conductors_to_fastcap))"
   ]
  },
  {
   "cell_type": "code",
   "execution_count": 32,
   "metadata": {
    "ExecuteTime": {
     "end_time": "2020-08-08T18:46:46.678314Z",
     "start_time": "2020-08-08T18:46:46.163403Z"
    }
   },
   "outputs": [],
   "source": [
    "filename = r\"E:\\Github\\QCreator\\Meshing\\1_attempt\"\n",
    "write_dat(joined_data,filename)"
   ]
  },
  {
   "cell_type": "markdown",
   "metadata": {},
   "source": [
    "# Run fastcap with the created mesh file"
   ]
  },
  {
   "cell_type": "code",
   "execution_count": 33,
   "metadata": {
    "ExecuteTime": {
     "end_time": "2020-08-08T18:47:56.137494Z",
     "start_time": "2020-08-08T18:46:47.978809Z"
    }
   },
   "outputs": [],
   "source": [
    "output_file_name=r\"E:\\Github\\QCreator\\Meshing\\1_attempt_results\"\n",
    "output_file = open(output_file_name, 'w')\n",
    "args = [r\"C:\\Program Files (x86)\\LayoutEditor\\bin\\fastcap.exe\",filename]\n",
    "ret=subprocess.call(args,stdout=output_file, shell=False)\n",
    "output_file.close()"
   ]
  },
  {
   "cell_type": "markdown",
   "metadata": {},
   "source": [
    "# Look into this table"
   ]
  },
  {
   "cell_type": "code",
   "execution_count": 35,
   "metadata": {
    "ExecuteTime": {
     "end_time": "2020-08-08T18:49:13.810328Z",
     "start_time": "2020-08-08T18:49:13.792840Z"
    }
   },
   "outputs": [
    {
     "name": "stdout",
     "output_type": "stream",
     "text": [
      "Capacitance value in:  femtofarads\n"
     ]
    },
    {
     "data": {
      "text/html": [
       "<div>\n",
       "<style scoped>\n",
       "    .dataframe tbody tr th:only-of-type {\n",
       "        vertical-align: middle;\n",
       "    }\n",
       "\n",
       "    .dataframe tbody tr th {\n",
       "        vertical-align: top;\n",
       "    }\n",
       "\n",
       "    .dataframe thead th {\n",
       "        text-align: right;\n",
       "    }\n",
       "</style>\n",
       "<table border=\"1\" class=\"dataframe\">\n",
       "  <thead>\n",
       "    <tr style=\"text-align: right;\">\n",
       "      <th></th>\n",
       "      <th>0</th>\n",
       "      <th>1</th>\n",
       "      <th>2</th>\n",
       "      <th>3</th>\n",
       "    </tr>\n",
       "  </thead>\n",
       "  <tbody>\n",
       "    <tr>\n",
       "      <th>0</th>\n",
       "      <td>423.17550</td>\n",
       "      <td>-125.49600</td>\n",
       "      <td>-46.29532</td>\n",
       "      <td>-46.48830</td>\n",
       "    </tr>\n",
       "    <tr>\n",
       "      <th>1</th>\n",
       "      <td>-125.49600</td>\n",
       "      <td>155.06475</td>\n",
       "      <td>-7.32060</td>\n",
       "      <td>-7.33305</td>\n",
       "    </tr>\n",
       "    <tr>\n",
       "      <th>2</th>\n",
       "      <td>-46.29532</td>\n",
       "      <td>-7.32060</td>\n",
       "      <td>63.24600</td>\n",
       "      <td>-0.12923</td>\n",
       "    </tr>\n",
       "    <tr>\n",
       "      <th>3</th>\n",
       "      <td>-46.48830</td>\n",
       "      <td>-7.33305</td>\n",
       "      <td>-0.12923</td>\n",
       "      <td>63.43275</td>\n",
       "    </tr>\n",
       "  </tbody>\n",
       "</table>\n",
       "</div>"
      ],
      "text/plain": [
       "           0          1         2         3\n",
       "0  423.17550 -125.49600 -46.29532 -46.48830\n",
       "1 -125.49600  155.06475  -7.32060  -7.33305\n",
       "2  -46.29532   -7.32060  63.24600  -0.12923\n",
       "3  -46.48830   -7.33305  -0.12923  63.43275"
      ]
     },
     "execution_count": 35,
     "metadata": {},
     "output_type": "execute_result"
    }
   ],
   "source": [
    "number_of_conductors=len(conductors)\n",
    "with open(output_file_name) as file: \n",
    "    text=file.readlines()\n",
    "    text=[line.rstrip('\\n') for line in text]\n",
    "    value=text[-(number_of_conductors+2)].split(' ')[-1]\n",
    "if value[:4]=='nano': value='femtofarads' ## wtf? keep it like this\n",
    "if value[:4]=='pico': value='femtofarads'\n",
    "print('Capacitance value in: ',value)\n",
    "table=[]\n",
    "def convert(value):\n",
    "    epsilon=(11.45+1)/2\n",
    "    return round(epsilon*float(value),2)/1e3\n",
    "for i in range(-(number_of_conductors),0):\n",
    "    table.append(map(convert,[word for word in text[i].split(' ') if word !=''][-number_of_conductors:]))\n",
    "results=pd.DataFrame(table)\n",
    "results"
   ]
  },
  {
   "cell_type": "markdown",
   "metadata": {},
   "source": [
    "# Functions"
   ]
  },
  {
   "cell_type": "code",
   "execution_count": 15,
   "metadata": {
    "ExecuteTime": {
     "end_time": "2020-08-08T18:41:21.258030Z",
     "start_time": "2020-08-08T18:41:21.243068Z"
    }
   },
   "outputs": [],
   "source": [
    "def simplify(points):\n",
    "    \"\"\"\n",
    "    Parameters\n",
    "    ----------\n",
    "    pol_points : list(list(coord_x, coord_y))\n",
    "    list of points of WSP\n",
    "    \n",
    "    Returns\n",
    "    -------\n",
    "    list(new_polygon_1, ...), where\n",
    "    new_polygon_i : list(list(coord_x, coord_y))\n",
    "    \"\"\"\n",
    "    return pyclipper.SimplifyPolygon(points)\n",
    "\n",
    "\n",
    "def round_trip_connect(start, end):\n",
    "    return [(i, i + 1) for i in range(start, end)] + [(end, start)]\n",
    "\n",
    "\n",
    "def inner_point(polygon):\n",
    "    point = Polygon(polygon).representative_point()\n",
    "    x, y = point.x, point.y\n",
    "    return x, y\n",
    "\n",
    "\n",
    "def create_mesh(WSP_points, max_volume=10000, min_angle=25):\n",
    "    outer_polygon, *inner_polygons = simplify(WSP_points)\n",
    "    inner_points_of_holes = [inner_point(pol) for pol in inner_polygons]\n",
    "    \n",
    "    points = outer_polygon\n",
    "    \n",
    "    last_point_number = len(outer_polygon) - 1\n",
    "    facets = round_trip_connect(0, last_point_number)\n",
    "    \n",
    "    for pol in inner_polygons:\n",
    "        points.extend(pol)\n",
    "        facets.extend(round_trip_connect(last_point_number+1, last_point_number+len(pol)))\n",
    "        last_point_number = last_point_number + len(pol)\n",
    "        \n",
    "    info = triangle.MeshInfo()\n",
    "    info.set_points(points)\n",
    "    info.set_holes(inner_points_of_holes)\n",
    "    info.set_facets(facets)\n",
    "    \n",
    "    mesh = triangle.build(info, max_volume=max_volume, min_angle=min_angle)\n",
    "    \n",
    "    mesh_points = np.array(mesh.points)\n",
    "    mesh_tris = np.array(mesh.elements)\n",
    "    mesh_facets = np.array(mesh.facets)\n",
    "    \n",
    "    return mesh_points, mesh_tris\n",
    "\n",
    "    \n",
    "def plot_mesh(mesh_points,mesh_tris,*arg):\n",
    "    plt.triplot(mesh_points[:, 0], mesh_points[:, 1], mesh_tris,arg)\n",
    "#     plt.show()\n",
    "    \n",
    "  "
   ]
  },
  {
   "cell_type": "code",
   "execution_count": 16,
   "metadata": {
    "ExecuteTime": {
     "end_time": "2020-08-08T18:41:21.682362Z",
     "start_time": "2020-08-08T18:41:21.673351Z"
    }
   },
   "outputs": [],
   "source": [
    "def write_dat(points,f):\n",
    "    if type(f) is str:\n",
    "            f = open(f, 'w')\n",
    "    counts=len(points)\n",
    "    f.write('0 exported from the LayoutEditor ( www.LayoutEditor.net )\\n')\n",
    "    f.write('* **************************************************\\n')\n",
    "    f.write('* \\n')\n",
    "    f.write('* input file for FastCap automaticly generated by the LayoutEditor\\n')\n",
    "    f.write('* \\n')\n",
    "    f.write('* **************************************************\\n')\n",
    "    for i in range(counts):\n",
    "        f.write('T ')\n",
    "        for j in range(10):\n",
    "            f.write(str(points[i][j]))\n",
    "            f.write(' ')\n",
    "        f.write('\\n')\n",
    "    f.write('*')\n",
    "    f.close()\n",
    "def to_fastcap(mesh_points,mesh_tris,number):\n",
    "    z=np.zeros((len(mesh_points[:, 0]),))\n",
    "    to_output=list()\n",
    "    for i in range(len(mesh_points[:, 0])):\n",
    "        to_output.append([mesh_points[i, 0], mesh_points[i, 1],z[i]])\n",
    "    test=[]\n",
    "    for index in range(len(mesh_tris)):\n",
    "        test.append(np.asarray([to_output[mesh_tris[index][2]],to_output[mesh_tris[index][1]],to_output[mesh_tris[index][0]]]))\n",
    "    test=np.asarray(test)\n",
    "    points_file=test.reshape((len(mesh_tris),9))\n",
    "    points_to_file=np.insert(points_file,0,number,axis=1)\n",
    "    return points_to_file"
   ]
  }
 ],
 "metadata": {
  "kernelspec": {
   "display_name": "Python 3",
   "language": "python",
   "name": "python3"
  },
  "language_info": {
   "codemirror_mode": {
    "name": "ipython",
    "version": 3
   },
   "file_extension": ".py",
   "mimetype": "text/x-python",
   "name": "python",
   "nbconvert_exporter": "python",
   "pygments_lexer": "ipython3",
   "version": "3.7.3"
  },
  "toc": {
   "base_numbering": 1,
   "nav_menu": {},
   "number_sections": true,
   "sideBar": true,
   "skip_h1_title": false,
   "title_cell": "Table of Contents",
   "title_sidebar": "Contents",
   "toc_cell": false,
   "toc_position": {},
   "toc_section_display": true,
   "toc_window_display": false
  }
 },
 "nbformat": 4,
 "nbformat_minor": 4
}
