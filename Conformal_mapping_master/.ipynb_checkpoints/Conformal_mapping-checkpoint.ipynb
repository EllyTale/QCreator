{
 "cells": [
  {
   "cell_type": "code",
   "execution_count": 19,
   "metadata": {},
   "outputs": [],
   "source": [
    "from Conformal_mapping_of_a_coupler import *\n",
    "import numpy as np\n",
    "from sympy import *"
   ]
  },
  {
   "cell_type": "code",
   "execution_count": 10,
   "metadata": {},
   "outputs": [],
   "source": [
    "result=ConformalMapping([100,6,7,9, 9])"
   ]
  },
  {
   "cell_type": "code",
   "execution_count": 11,
   "metadata": {},
   "outputs": [
    {
     "name": "stdout",
     "output_type": "stream",
     "text": [
      "Initial points [  1. 101. 107. 114. 123. 132.]\n",
      "Q_list_of_limits [[101.0, 107.0], [114.0, 123.0]]\n",
      "Phi_list_of_limits [[1.0, 101.0], [107.0, 114.0]]\n",
      "Top points [132.0, 1.0]\n",
      "counter_phi 0.046480160873494866\n",
      "counter_phi 0.06814299645440836\n",
      "Top points [101.0, 107.0]\n",
      "Q =  [[ 0.0113931  -0.08171546]\n",
      " [ 0.06494278  0.0288135 ]]\n",
      "Phi =  [[ 0.04648016 -0.0890971 ]\n",
      " [ 0.068143   -0.01262061]]\n",
      "Phi_inv =  [[ -2.30104285  16.24455776]\n",
      " [-12.42411744   8.47445823]]\n",
      "None\n"
     ]
    },
    {
     "data": {
      "text/plain": [
       "array([[ 1.11652088e-10, -5.72829180e-11],\n",
       "       [-5.72829180e-11,  1.46661695e-10]])"
      ]
     },
     "execution_count": 11,
     "metadata": {},
     "output_type": "execute_result"
    }
   ],
   "source": [
    "result.cl()"
   ]
  },
  {
   "cell_type": "code",
   "execution_count": 12,
   "metadata": {},
   "outputs": [
    {
     "name": "stdout",
     "output_type": "stream",
     "text": [
      "[[ 1.11652088e-10 -5.72829180e-11]\n",
      " [-5.72829180e-11  1.46661695e-10]]\n"
     ]
    },
    {
     "data": {
      "text/plain": [
       "array([[7.94495384e-07, 3.10312887e-07],\n",
       "       [3.10312887e-07, 6.04841427e-07]])"
      ]
     },
     "execution_count": 12,
     "metadata": {},
     "output_type": "execute_result"
    }
   ],
   "source": [
    "result.Ll()"
   ]
  },
  {
   "cell_type": "code",
   "execution_count": 15,
   "metadata": {},
   "outputs": [
    {
     "name": "stdout",
     "output_type": "stream",
     "text": [
      "[[0.355, -1.361, 0.239], [0.499, -0.20700000000000007, -1.677], [0.782, -0.07650000000000007, -0.18900000000000006]]\n"
     ]
    }
   ],
   "source": [
    "Phi=[[0.355, -1.361, 0.239],\n",
    " [0.355+ 0.144, -1.361+1.154, -1.916+0.239],\n",
    "    [0.355+ 0.144+0.283, -1.361+1.154+0.1305, -1.916+0.239+1.488]]\n",
    "print(Phi)"
   ]
  },
  {
   "cell_type": "code",
   "execution_count": 20,
   "metadata": {},
   "outputs": [
    {
     "ename": "NameError",
     "evalue": "name 'sympy' is not defined",
     "output_type": "error",
     "traceback": [
      "\u001b[0;31m---------------------------------------------------------------------------\u001b[0m",
      "\u001b[0;31mNameError\u001b[0m                                 Traceback (most recent call last)",
      "\u001b[0;32m<ipython-input-20-2fb347fa164c>\u001b[0m in \u001b[0;36m<module>\u001b[0;34m\u001b[0m\n\u001b[0;32m----> 1\u001b[0;31m \u001b[0mPhi_\u001b[0m\u001b[0;34m=\u001b[0m \u001b[0msympy\u001b[0m\u001b[0;34m.\u001b[0m\u001b[0mMatrix\u001b[0m\u001b[0;34m(\u001b[0m\u001b[0mPhi\u001b[0m\u001b[0;34m)\u001b[0m\u001b[0;34m\u001b[0m\u001b[0;34m\u001b[0m\u001b[0m\n\u001b[0m\u001b[1;32m      2\u001b[0m \u001b[0mPhi_\u001b[0m\u001b[0;34m\u001b[0m\u001b[0;34m\u001b[0m\u001b[0m\n",
      "\u001b[0;31mNameError\u001b[0m: name 'sympy' is not defined"
     ]
    }
   ],
   "source": [
    "Phi_= Matrix(Phi)\n",
    "Phi_"
   ]
  },
  {
   "cell_type": "code",
   "execution_count": 4,
   "metadata": {},
   "outputs": [],
   "source": [
    "a=[1,2,3,4,5,6,7,8,9,10]"
   ]
  },
  {
   "cell_type": "code",
   "execution_count": 13,
   "metadata": {},
   "outputs": [
    {
     "data": {
      "text/plain": [
       "10"
      ]
     },
     "execution_count": 13,
     "metadata": {},
     "output_type": "execute_result"
    }
   ],
   "source": [
    "a[-1]"
   ]
  },
  {
   "cell_type": "code",
   "execution_count": 117,
   "metadata": {},
   "outputs": [],
   "source": [
    "i=3"
   ]
  },
  {
   "cell_type": "code",
   "execution_count": 118,
   "metadata": {},
   "outputs": [
    {
     "data": {
      "text/plain": [
       "[1, 2, 3, 4]"
      ]
     },
     "execution_count": 118,
     "metadata": {},
     "output_type": "execute_result"
    }
   ],
   "source": [
    "a[: 2*i-2]"
   ]
  },
  {
   "cell_type": "code",
   "execution_count": 119,
   "metadata": {},
   "outputs": [
    {
     "data": {
      "text/plain": [
       "[1, 2, 3, 4]"
      ]
     },
     "execution_count": 119,
     "metadata": {},
     "output_type": "execute_result"
    }
   ],
   "source": [
    "points_under_ground=a[: 2*i-2]\n",
    "points_under_ground"
   ]
  },
  {
   "cell_type": "code",
   "execution_count": 120,
   "metadata": {},
   "outputs": [
    {
     "data": {
      "text/plain": [
       "[7, 8, 9, 10]"
      ]
     },
     "execution_count": 120,
     "metadata": {},
     "output_type": "execute_result"
    }
   ],
   "source": [
    "points_over_ground=a[2*i :]\n",
    "points_over_ground"
   ]
  },
  {
   "cell_type": "code",
   "execution_count": 124,
   "metadata": {},
   "outputs": [
    {
     "data": {
      "text/plain": [
       "[6, 7]"
      ]
     },
     "execution_count": 124,
     "metadata": {},
     "output_type": "execute_result"
    }
   ],
   "source": [
    "ground_points=a[2*i-1:2*i+1]\n",
    "ground_points"
   ]
  },
  {
   "cell_type": "code",
   "execution_count": 81,
   "metadata": {},
   "outputs": [],
   "source": [
    "Q =  [[0.176732  , -1.64419864, 1.03067126],\n",
    " [0.15575465, 0.34490304 , -2.15838541],\n",
    " [0.75953991, 0.10422509, 0.44786335]]"
   ]
  },
  {
   "cell_type": "code",
   "execution_count": 101,
   "metadata": {},
   "outputs": [
    {
     "name": "stdout",
     "output_type": "stream",
     "text": [
      "[[1.44095e-10, -4.7755e-11, -9.445e-12], [-4.7755e-11, 1.43839e-10, -4.7755e-11], [-9.445e-12, -4.7755e-11, 1.44095e-10]]\n"
     ]
    }
   ],
   "source": [
    "C_teor=([[1.44095e-10,  -0.47755e-10, -0.09445e-10],\n",
    "         [ -0.47755e-10, 1.43839e-10, -0.47755e-10],\n",
    "         [ -0.09445e-10, -0.47755e-10, 1.44095e-10 ]])\n",
    "print(C_teor)"
   ]
  },
  {
   "cell_type": "code",
   "execution_count": 102,
   "metadata": {},
   "outputs": [
    {
     "name": "stdout",
     "output_type": "stream",
     "text": [
      "[[0.355, -1.361, 0.239], [0.499, -0.20700000000000007, -1.677], [0.782, -0.07650000000000007, -0.18900000000000006]]\n"
     ]
    }
   ],
   "source": [
    "Phi=[[0.355, -1.361, 0.239],\n",
    " [0.355+ 0.144, -1.361+1.154, -1.916+0.239],\n",
    "    [0.355+ 0.144+0.283, -1.361+1.154+0.1305, -1.916+0.239+1.488]]\n",
    "print(Phi)"
   ]
  },
  {
   "cell_type": "code",
   "execution_count": 103,
   "metadata": {},
   "outputs": [
    {
     "name": "stdout",
     "output_type": "stream",
     "text": [
      "[[8.11366084e+09 3.22519834e+09 1.60070005e+09]\n",
      " [3.22519834e+09 9.09376938e+09 3.22519834e+09]\n",
      " [1.60070005e+09 3.22519834e+09 8.11366084e+09]]\n"
     ]
    }
   ],
   "source": [
    "C_teor_inv=np.linalg.inv(C_teor)\n",
    "print(C_teor_inv)"
   ]
  },
  {
   "cell_type": "code",
   "execution_count": 104,
   "metadata": {},
   "outputs": [
    {
     "data": {
      "text/plain": [
       "array([[ 0.17661292, -1.6432279 ,  1.03027747],\n",
       "       [ 0.15482405,  0.34434256, -2.15788664],\n",
       "       [ 0.75736462,  0.10378749,  0.44816568]])"
      ]
     },
     "execution_count": 104,
     "metadata": {},
     "output_type": "execute_result"
    }
   ],
   "source": [
    "C_teor@np.array(Phi)/((epsilon+1)*epsilon_0)"
   ]
  },
  {
   "cell_type": "code",
   "execution_count": 85,
   "metadata": {},
   "outputs": [
    {
     "data": {
      "text/plain": [
       "array([[ 3.13417338, -4.53950179,  0.28063968],\n",
       "       [ 2.29492425, -2.4688514 , -1.59921574],\n",
       "       [ 3.40998593, -3.71206412,  0.00482713]])"
      ]
     },
     "execution_count": 85,
     "metadata": {},
     "output_type": "execute_result"
    }
   ],
   "source": [
    "(epsilon+1)*epsilon_0*np.array(C_teor_inv)@np.array(Q)"
   ]
  },
  {
   "cell_type": "code",
   "execution_count": 94,
   "metadata": {},
   "outputs": [
    {
     "data": {
      "text/plain": [
       "1.589"
      ]
     },
     "execution_count": 94,
     "metadata": {},
     "output_type": "execute_result"
    }
   ],
   "source": [
    "1.4+0.189"
   ]
  },
  {
   "cell_type": "code",
   "execution_count": 105,
   "metadata": {},
   "outputs": [
    {
     "ename": "SyntaxError",
     "evalue": "invalid syntax (<ipython-input-105-401e04bbed17>, line 1)",
     "output_type": "error",
     "traceback": [
      "\u001b[0;36m  File \u001b[0;32m\"<ipython-input-105-401e04bbed17>\"\u001b[0;36m, line \u001b[0;32m1\u001b[0m\n\u001b[0;31m    integrate ((x-5)(x-2)(x-4)(x-8)(x-3)(x-6))^(-1/2)((x-7)(x-1))^(1/2) from 1  to 2\u001b[0m\n\u001b[0m                                                                           ^\u001b[0m\n\u001b[0;31mSyntaxError\u001b[0m\u001b[0;31m:\u001b[0m invalid syntax\n"
     ]
    }
   ],
   "source": [
    "integrate ((x-5)(x-2)(x-4)(x-8)(x-3)(x-6))^(-1/2)((x-7)(x-1))^(1/2) from 1  to 2"
   ]
  },
  {
   "cell_type": "code",
   "execution_count": null,
   "metadata": {},
   "outputs": [],
   "source": []
  }
 ],
 "metadata": {
  "kernelspec": {
   "display_name": "Python 3",
   "language": "python",
   "name": "python3"
  },
  "language_info": {
   "codemirror_mode": {
    "name": "ipython",
    "version": 3
   },
   "file_extension": ".py",
   "mimetype": "text/x-python",
   "name": "python",
   "nbconvert_exporter": "python",
   "pygments_lexer": "ipython3",
   "version": "3.7.3"
  }
 },
 "nbformat": 4,
 "nbformat_minor": 2
}
