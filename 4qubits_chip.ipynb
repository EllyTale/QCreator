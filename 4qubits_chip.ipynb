{
 "cells": [
  {
   "cell_type": "markdown",
   "metadata": {},
   "source": [
    "# Import design libraries"
   ]
  },
  {
   "cell_type": "code",
   "execution_count": 8,
   "metadata": {
    "ExecuteTime": {
     "end_time": "2020-08-04T21:55:55.904728Z",
     "start_time": "2020-08-04T21:55:55.898353Z"
    }
   },
   "outputs": [],
   "source": [
    "import gdspy\n",
    "from importlib import reload\n",
    "import general_design_functions as gdf\n",
    "import transmon_sample_creator as creator\n",
    "import squid3JJ\n",
    "import JJ4q\n",
    "# reload(gdspy)\n",
    "# from design_coaxmons import *\n",
    "\n",
    "# from loops_and_JJs_coaxmons import*\n",
    "# from coaxmons import *\n",
    "# from airbridges import *"
   ]
  },
  {
   "cell_type": "code",
   "execution_count": 9,
   "metadata": {
    "ExecuteTime": {
     "end_time": "2020-08-04T21:55:56.336312Z",
     "start_time": "2020-08-04T21:55:56.304643Z"
    }
   },
   "outputs": [
    {
     "data": {
      "text/plain": [
       "<module 'general_design_functions' from 'C:\\\\Users\\\\Ivan\\\\Documents\\\\notebooks\\\\Resonators-master\\\\Resonators-master\\\\library\\\\general_design_functions.py'>"
      ]
     },
     "execution_count": 9,
     "metadata": {},
     "output_type": "execute_result"
    }
   ],
   "source": [
    "reload(gdspy)\n",
    "reload(creator)\n",
    "reload(gdf)"
   ]
  },
  {
   "cell_type": "markdown",
   "metadata": {},
   "source": [
    "# Specify constants, everything in microns"
   ]
  },
  {
   "cell_type": "markdown",
   "metadata": {},
   "source": [
    "Parameters for the transmission lines"
   ]
  },
  {
   "cell_type": "code",
   "execution_count": 10,
   "metadata": {
    "ExecuteTime": {
     "end_time": "2020-08-04T21:55:58.153656Z",
     "start_time": "2020-08-04T21:55:58.148950Z"
    }
   },
   "outputs": [],
   "source": [
    "tl_core = 10\n",
    "tl_gap = 10\n",
    "tl_ground = 20"
   ]
  },
  {
   "cell_type": "markdown",
   "metadata": {},
   "source": [
    "# Sample generation"
   ]
  },
  {
   "cell_type": "markdown",
   "metadata": {},
   "source": [
    "## borders with pads"
   ]
  },
  {
   "cell_type": "markdown",
   "metadata": {},
   "source": [
    "Function names should be lowercase, with words separated by underscores as necessary to improve readability.\n",
    "\n",
    "Variable names follow the same convention as function name"
   ]
  },
  {
   "cell_type": "code",
   "execution_count": 11,
   "metadata": {
    "ExecuteTime": {
     "end_time": "2020-08-04T21:56:00.268643Z",
     "start_time": "2020-08-04T21:56:00.240876Z"
    }
   },
   "outputs": [],
   "source": [
    "reload(gdspy)\n",
    "reload(creator)\n",
    "reload(gdf)\n",
    "sample = creator.Sample('4_qubits')\n",
    "\n",
    "#specify sample vertical and horizontal lengths\n",
    "sample.sample_vertical_size=4.7e3\n",
    "sample.sample_horizontal_size=4.7e3\n",
    "# be aware of the fact that the minimum distance beetween structures must be bigger than 4um\n",
    "# min_distance = 4\n",
    "\n",
    "#specify pads for the sample\n",
    "sample.add_pad(tl_core,tl_gap,tl_ground,(760,2360))\n",
    "sample.add_pad(tl_core,tl_gap,tl_ground,(3930, 2360))\n",
    "sample.add_pad(tl_core,tl_gap,tl_ground,(1111,3905-10))\n",
    "sample.add_pad(tl_core,tl_gap,tl_ground,(1111+1250,3905-10))\n",
    "sample.add_pad(tl_core,tl_gap,tl_ground,(1111+1250*2,3905-10))\n",
    "sample.add_pad(tl_core,tl_gap,tl_ground,(1111,770))\n",
    "sample.add_pad(tl_core,tl_gap,tl_ground,(1111+1250,770))\n",
    "sample.add_pad(tl_core,tl_gap,tl_ground,(1111+1250*2,770))\n",
    "\n",
    "#generate borders with pads\n",
    "sample.generate_sample_edges_and_pads()"
   ]
  },
  {
   "cell_type": "code",
   "execution_count": null,
   "metadata": {},
   "outputs": [],
   "source": []
  },
  {
   "cell_type": "code",
   "execution_count": 11,
   "metadata": {
    "ExecuteTime": {
     "end_time": "2020-08-04T17:56:00.867497Z",
     "start_time": "2020-08-04T17:54:38.659318Z"
    },
    "scrolled": true
   },
   "outputs": [
    {
     "data": {
      "text/plain": [
       "<gdspy.viewer.LayoutViewer object .!layoutviewer>"
      ]
     },
     "execution_count": 11,
     "metadata": {},
     "output_type": "execute_result"
    }
   ],
   "source": [
    "\n",
    "\n",
    "\n",
    "\n",
    "\n",
    "\n",
    "\n",
    "\n",
    "\n",
    "#fist coaxmon qubit\n",
    "shift=-1/10\n",
    "phi1=1/5\n",
    "couplers=[QubitCoupler(arc_start=-1/6-1/100+shift,arc_finish=-3/6+1/100+shift,phi=-1/2, w =4),\n",
    "          QubitCoupler(arc_start=3/6+1/100+shift,arc_finish=5/6-1/100+shift,phi=phi1, w =4),\n",
    "          QubitCoupler(arc_start=1/6+1/100+shift,arc_finish=3/6-1/100+shift,phi=1/2, w =4),\n",
    "          QubitCoupler(arc_start=-1/6+1/100+1+shift,arc_finish=1/6-1/100+1+shift,phi=1, w =10),\n",
    "          QubitCoupler(arc_start=-1/6+1/100+shift,arc_finish=1/6-1/100+shift,phi=0, w =10)]\n",
    "JJ_coaxmon1 = {'a1':10,\n",
    "               'b1':0.8,\n",
    "               'a2':0.45,\n",
    "               'b2':0.243,\n",
    "               'c1':0.243,\n",
    "               'c2':10,\n",
    "               'angle_qubit':3*np.pi/2-1*np.pi/3,\n",
    "               'angle_JJ':0}\n",
    "sample.generate_coaxmon(coordinates(1750,1750),r1=100,r2=140,r3=200,r4=230,outer_ground = 300, \n",
    "                        Couplers = couplers, JJ=JJ_coaxmon1,angle=0)\n",
    "\n",
    "\n",
    "#second coaxmon\n",
    "# phi2=6/7\n",
    "# couplers=[QubitCoupler(arc_start=7/6+1/100,arc_finish=9/6+1/100,phi=3/7, w =10),\n",
    "#           QubitCoupler(arc_start=3/6+1/100,arc_finish=5/6-1/100,phi=phi2, w =10),\n",
    "#           QubitCoupler(arc_start=1/6+1/100,arc_finish=3/6-1/100,phi=3/7, w =10),\n",
    "#           QubitCoupler(arc_start=-1/6+1/100+1,arc_finish=1/6-1/100+1,phi=1, w =10),\n",
    "#           QubitCoupler(arc_start=-1/6+1/100,arc_finish=1/6-1/100,phi=0, w =10)]\n",
    "\n",
    "# JJ_coaxmon1 = {'a1':10,\n",
    "#                'b1':0.8,\n",
    "#                'a2':0.45,\n",
    "#                'b2':0.243,\n",
    "#                'c1':0.243,\n",
    "#                'c2':10,\n",
    "#                'angle_qubit':-np.pi/4,\n",
    "#                'angle_JJ':0}\n",
    "# sample.generate_coaxmon(coordinates(1750+1250,1750),r1=100,r2=140,r3=200,r4=230,outer_ground = 300, \n",
    "#                         Couplers = couplers, JJ=JJ_coaxmon1,angle=0)\n",
    "\n",
    "# #3 coaxmon\n",
    "# couplers=[QubitCoupler(arc_start=-1/6-1/100,arc_finish=-3/6+1/100,phi=1, w =10),\n",
    "#           QubitCoupler(arc_start=3/3+1/100,arc_finish=4/3-1/100,phi=1/2, w =10),\n",
    "#           QubitCoupler(arc_start=2/3+1/100,arc_finish=3/3-1/100,phi=0, w =10),\n",
    "#           QubitCoupler(arc_start=-1/6+1/100+1,arc_finish=1/6-1/100+1,phi=0, w =10),\n",
    "#           QubitCoupler(arc_start=-1/6+1/100,arc_finish=1/6-1/100,phi=0, w =10)]\n",
    "# JJ_coaxmon1 = {'a1':0.5,\n",
    "#                'b1':0.2,\n",
    "#                'a2':0.5,\n",
    "#                'b2':0.2,\n",
    "#                'c1':10,\n",
    "#                'c2':10,\n",
    "#                'angle_qubit':np.pi/4,\n",
    "#                'angle_JJ':np.pi}\n",
    "# sample.generate_coaxmon(coordinates(1750+1250,1750+1250),r1=100,r2=140,r3=200,r4=230,outer_ground = 300, \n",
    "#                         Couplers = couplers, JJ=JJ_coaxmon1,angle=0)\n",
    "# #4 coaxmon\n",
    "# couplers=[QubitCoupler(arc_start=-1/6-1/100,arc_finish=-3/6+1/100,phi=3/7, w =10),\n",
    "#           QubitCoupler(arc_start=3/3+1/100,arc_finish=4/3-1/100,phi=5/7, w =10),\n",
    "#           QubitCoupler(arc_start=2/3+1/100,arc_finish=3/3-1/100,phi=3/7, w =10),\n",
    "#           QubitCoupler(arc_start=1/3+1/100,arc_finish=2/3-1/100,phi=3/7, w =10),\n",
    "#           QubitCoupler(arc_start=-1/6+1/100,arc_finish=1/6-1/100,phi=0, w =10)]\n",
    "# JJ_coaxmon1 = {'a1':0.5,\n",
    "#                'b1':0.2,\n",
    "#                'a2':0.5,\n",
    "#                'b2':0.2,\n",
    "#                'c1':10,\n",
    "#                'c2':10,\n",
    "#                'angle_qubit':np.pi-np.pi/4,\n",
    "#                'angle_JJ': np.pi}\n",
    "# sample.generate_coaxmon(coordinates(1750,1750+1250),r1=100,r2=140,r3=200,r4=230,outer_ground = 300, \n",
    "#                         Couplers = couplers, JJ=JJ_coaxmon1,angle=0)\n",
    "\n",
    "\n",
    "# #qubit couplers\n",
    "# coupler_core=10\n",
    "# coupler_gap=25\n",
    "# coupler_ground=20\n",
    "# JJ={'indent':60,\n",
    "#    'angle_JJ':0,\n",
    "#    'a1':0.5,\n",
    "#    'a2':0.5}\n",
    "# squid={'x':2360,\n",
    "#        'y':1750+1,\n",
    "#        'a1':0.5,\n",
    "#        'b1':0.5,\n",
    "#        'a2':0.5,\n",
    "#        'b2':0.5,\n",
    "#        'c1':10,\n",
    "#        'c2':10,\n",
    "#       \"angle\":0}\n",
    "# sample.generate_qubit_coupler(coupler_core,coupler_gap,coupler_ground,sample.coaxmons[0],sample.coaxmons[1],JJ,squid)\n",
    "# JJ={'indent':60,\n",
    "#    'angle_JJ':0,\n",
    "#    'a1':0.5,\n",
    "#    'a2':0.5}\n",
    "# squid={'x':3036,\n",
    "#        'y':2156,\n",
    "#        'a1':0.5,\n",
    "#        'b1':0.5,\n",
    "#        'a2':0.5,\n",
    "#        'b2':0.5,\n",
    "#        'c1':10,\n",
    "#        'c2':10,\n",
    "#       \"angle\":0}\n",
    "# sample.generate_qubit_coupler(coupler_core,coupler_gap,coupler_ground,sample.coaxmons[1],sample.coaxmons[2],JJ,squid)\n",
    "# JJ={'indent':60,\n",
    "#    'angle_JJ':0,\n",
    "#    'a1':0.5,\n",
    "#    'a2':0.5}\n",
    "# squid={'x':2360,\n",
    "#        'y':3000,\n",
    "#        'a1':0.5,\n",
    "#        'b1':0.5,\n",
    "#        'a2':0.5,\n",
    "#        'b2':0.5,\n",
    "#        'c1':10,\n",
    "#        'c2':10,\n",
    "#       \"angle\":np.pi}\n",
    "# sample.generate_qubit_coupler(coupler_core,coupler_gap,coupler_ground,sample.coaxmons[2],sample.coaxmons[3],JJ,squid)\n",
    "\n",
    "\n",
    "\n",
    "#first coaxmon fluxline\n",
    "# points = [(1111,770),(1111,1230),(1500,1400)]\n",
    "# sample.generate_line(points,TL_core,TL_gap,TL_ground,None)\n",
    "# fluxline=[4,3,4]\n",
    "# point = sample.generate_narrowing_part(sample.lines[-1],fluxline)\n",
    "# end = {'type':'fluxline',\n",
    "#        'JJ': sample.coaxmons[0].JJ,\n",
    "#         'length':20,\n",
    "#         \"width\":4}\n",
    "# points = [point,(point[0]+10*np.cos(sample.lines[-1].angle),point[1]+10*np.sin(sample.lines[-1].angle)),\n",
    "#          (1663,1450),(1663,1530)]\n",
    "# sample.generate_line(points,4,3,4,None,end)\n",
    "# sample.generate_bridge((sample.lines[-1].end[0],sample.lines[-1].end[1]-25),15, 90, 30,0)\n",
    "# print(sample.lines[-1].angle)\n",
    "\n",
    "# #second coaxmon fluxline\n",
    "# points = [(1111+1250*2,770),(1111+1250*2,1230),(3206,1311)]\n",
    "# sample.generate_line(points,TL_core,TL_gap,TL_ground,None)\n",
    "# fluxline=[4,3,4]\n",
    "# # point = sample.lines[-1].end\n",
    "# point = sample.generate_narrowing_part(sample.lines[-1],fluxline)\n",
    "\n",
    "# end = {'type':'fluxline',\n",
    "#        'JJ': sample.coaxmons[1].JJ,\n",
    "#         'length':20,\n",
    "#         \"width\":4}\n",
    "# points = [point,(point[0]+50*np.cos(sample.lines[-1].angle),point[1]+50*np.sin(sample.lines[-1].angle)),\n",
    "#          (3073,1610)]\n",
    "\n",
    "# sample.generate_line(points,4,3,4,None,end)\n",
    "\n",
    "# #first coupler  fluxline\n",
    "# points = [(2360,770),(2360,1500)]\n",
    "# sample.generate_line(points,TL_core,TL_gap,TL_ground,None)\n",
    "# fluxline=[4,3,4]\n",
    "# point = sample.generate_narrowing_part(sample.lines[-1],fluxline)\n",
    "# end = {'type':'fluxline',\n",
    "#        'JJ': sample.couplers[0].squid,\n",
    "#         'length':20,\n",
    "#         \"width\":4}\n",
    "# points = [point,(point[0]+10*np.cos(sample.lines[-1].angle),point[1]+10*np.sin(sample.lines[-1].angle)),\n",
    "#          (2360,1650)]\n",
    "# sample.generate_line(points,4,3,4,None,end)\n",
    "# sample.generate_bridge((sample.lines[-1].end[0],sample.lines[-1].end[1]-25),15, 90, 30,0)\n",
    "# # print(sample.lines[-1].angle)\n",
    "\n",
    "# #second coupler  fluxline\n",
    "# points = [(3930, 2360),(3800,2360),(3209,2090)]\n",
    "# sample.generate_line(points,TL_core,TL_gap,TL_ground,None)\n",
    "# fluxline=[4,3,4]\n",
    "# point = sample.generate_narrowing_part(sample.lines[-1],fluxline)\n",
    "# end = {'type':'fluxline',\n",
    "#        'JJ': sample.couplers[1].squid,\n",
    "#         'length':20,\n",
    "#         \"width\":4}\n",
    "# points = [point,(point[0]+10*np.cos(sample.lines[-1].angle),point[1]+10*np.sin(sample.lines[-1].angle)),\n",
    "#          (3060,2090)]\n",
    "# sample.generate_line(points,4,3,4,None,end)\n",
    "# # sample.generate_bridge((sample.lines[-1].end[0],sample.lines[-1].end[1]-25),15, 90, 30,3*np.pi/2)\n",
    "\n",
    "# #third coupler  fluxline\n",
    "# points = [(3930, 2360),(3800,2360),(3209,2090)]\n",
    "# sample.generate_line(points,TL_core,TL_gap,TL_ground,None)\n",
    "# fluxline=[4,3,4]\n",
    "# point = sample.generate_narrowing_part(sample.lines[-1],fluxline)\n",
    "# end = {'type':'fluxline',\n",
    "#        'JJ': sample.couplers[1].squid,\n",
    "#         'length':20,\n",
    "#         \"width\":4}\n",
    "# points = [point,(point[0]+10*np.cos(sample.lines[-1].angle),point[1]+10*np.sin(sample.lines[-1].angle)),\n",
    "#          (3060,2090)]\n",
    "# sample.generate_line(points,4,3,4,None,end)\n",
    "# # sample.generate_bridge((sample.lines[-1].end[0],sample.lines[-1].end[1]-25),15, 90, 30,3*np.pi/2)\n",
    "\n",
    "\n",
    "\n",
    "\n",
    "\n",
    "\n",
    "\n",
    "# feedline\n",
    "points = [(760,2360),(1920,2360),(2010,2560),(2100,2400)]\n",
    "sample.generate_line(points,TL_core,TL_gap,TL_ground,None)\n",
    "# couplers = sample.generate_resonator_coupler(sample.lines[-1].end,(2320,2360),TL_core,TL_gap,TL_ground,4,4,4,2.5,0,'1')\n",
    "\n",
    "# #resonator-purcell\n",
    "# #purcell\n",
    "# start_x=-20\n",
    "# start_y=40\n",
    "# ap=130\n",
    "# bp=510\n",
    "# purcell_point=(2340.75,2340.5)\n",
    "# par_end, par_begin = sample.generate_purcell(purcell_begin = (purcell_point[0]-ap-start_x,purcell_point[1]-bp+150-start_y),\n",
    "#                         purcell_end=(purcell_point[0]-start_x,purcell_point[1]-start_y), \n",
    "#                         restricted_area_points0=(purcell_point[0]-ap-start_x,purcell_point[1]-bp-start_y),\n",
    "#                         a_restricted_area=ap, b_restricted_area=bp,  \n",
    "#                         purcell_core=4, purcell_ground=4, purcell_gap=4, length_of_purcell_meander=3000,\n",
    "#              begin_coupler=None)\n",
    "\n",
    "# points = [par_begin,(par_begin[0]+5,par_begin[1]),\n",
    "#          (par_begin[0]+5,par_begin[1]+17),(couplers[1][0],par_begin[1]+17),couplers[1]]\n",
    "# sample.generate_line(points,4,4,4,None,corner_type=None)\n",
    "\n",
    "\n",
    "# points = [couplers[0],(couplers[0][0],couplers[0][1]-200),(couplers[0][0]+20,couplers[0][1]-200),\n",
    "#          (couplers[0][0]+20,couplers[0][1]-10),(couplers[0][0]+150,couplers[0][1]-10)]\n",
    "# end_type={'type':'open',\n",
    "#           'gap':10,\n",
    "#           'ground':10}\n",
    "# sample.generate_line(points,4,4,4,None,end=end_type,corner_type=None)\n",
    "\n",
    "# #resonator\n",
    "# ar=180\n",
    "# br=400\n",
    "# coupler_length=70\n",
    "# resonator_point=(2340.75,2340.5)\n",
    "# res_begin, res_end =sample.generate_resonator(resonator_begin=(resonator_point[0]-ap-coupler_length-ar-start_x,\n",
    "#                                                                resonator_point[1]-br+250-start_y-200), \n",
    "#                           resonator_end=(resonator_point[0]-ap-coupler_length-start_x,\n",
    "#                                          resonator_point[1]-bp-start_y+150), \n",
    "#                           restricted_area_points0=(resonator_point[0]-ap-coupler_length-ar-start_x,\n",
    "#                                                    resonator_point[1]-br-start_y), \n",
    "#                           a_restricted_area=ar, \n",
    "#                           b_restricted_area=br,\n",
    "#                           resonator_core=4, resonator_ground=4, resonator_gap=4, length_of_all_resonator=3800,\n",
    "#                angle=0)\n",
    "\n",
    "\n",
    "# sample.generate_coupler_purcell_resonator(res_end,par_end,\n",
    "#                                          [4,4,4],\n",
    "#                                          [4,4,4],\n",
    "#                                          5,20,20+10)# тут косяк, надо починить\n",
    "\n",
    "# distance=(res_begin[0]-\n",
    "#          (sample.coaxmons[0].center.x+(sample.coaxmons[0].R4)*np.cos(np.pi*phi1)))/np.cos(np.pi*phi1)\n",
    "# points = [(res_begin[0],res_begin[1]),\n",
    "#           (res_begin[0],res_begin[1]-20),\n",
    "#           (sample.coaxmons[0].center.x+(sample.coaxmons[0].R4+distance)*np.cos(np.pi*phi1),\n",
    "#          sample.coaxmons[0].center.y+(sample.coaxmons[0].R4+distance)*np.sin(np.pi*phi1)),\n",
    "#          (sample.coaxmons[0].center.x+(sample.coaxmons[0].R4-0.1)*np.cos(np.pi*phi1),\n",
    "#          sample.coaxmons[0].center.y+(sample.coaxmons[0].R4-0.1)*np.sin(np.pi*phi1))]\n",
    "# sample.generate_line(points,4,4,4,None,corner_type='rect')\n",
    "\n",
    "\n",
    "# #second resonator and purcell \n",
    "# points = [(2320,2360),(2400,2360)]\n",
    "# sample.generate_line(points,TL_core,TL_gap,TL_ground,None)\n",
    "\n",
    "# start_x=-20\n",
    "# start_y=40\n",
    "# ap=130\n",
    "# bp=510\n",
    "# # coupler_end=(2820,2360)\n",
    "# couplers = sample.generate_resonator_coupler(sample.lines[-1].end,(2820,2360),TL_core,TL_gap,TL_ground,4,4,4,2.5,0,'1')\n",
    "# par_begin,par_end = sample.generate_purcell(purcell_begin = (2440.75-ap-start_x,2340.5-bp+150-start_y),\n",
    "#                         purcell_end=(2440.75-start_x,2340.5-start_y), \n",
    "#                         restricted_area_points0=(2440.75-ap-start_x,2340.5-bp-start_y),\n",
    "#                         a_restricted_area=ap, b_restricted_area=bp,  \n",
    "#                         purcell_core=4, purcell_ground=4, purcell_gap=4, length_of_purcell_meander=3000,\n",
    "#              begin_coupler=None,type_mirror=\"mirror\")\n",
    "\n",
    "# points = [par_begin,(par_begin[0]-5,par_begin[1]),\n",
    "#          (par_begin[0]-5,par_begin[1]+17),(couplers[1][0],par_begin[1]+17),couplers[1]]\n",
    "# sample.generate_line(points,4,4,4,None,corner_type=None)\n",
    "\n",
    "# points = [couplers[0],(couplers[0][0],couplers[0][1]-500)]\n",
    "# end_type={'type':'open',\n",
    "#           'gap':10,\n",
    "#           'ground':10}\n",
    "# sample.generate_line(points,4,4,4,None,end=end_type,corner_type=None)\n",
    "\n",
    "# ar=240\n",
    "# br=325\n",
    "# coupler_length=70\n",
    "# res_begin, res_end =sample.generate_resonator(resonator_begin=(2850.75-ap-coupler_length-ar-start_x,2340.5-br+250-start_y-200), \n",
    "#                           resonator_end=(2850.75-ap-coupler_length-start_x,2340.5-bp+150-start_y+100), \n",
    "#                           restricted_area_points0=(2850.75-ap-coupler_length-ar-start_x,2340.5-br-start_y), \n",
    "#                           a_restricted_area=ar, \n",
    "#                           b_restricted_area=br,\n",
    "#                           resonator_core=4, resonator_ground=4, resonator_gap=4, length_of_all_resonator=3800,\n",
    "#                angle=0,type_mirror=\"mirror\")\n",
    "\n",
    "\n",
    "# points = [res_begin,(res_begin[0],par_end[1])]\n",
    "\n",
    "# sample.generate_line(points,4,4,4,None)\n",
    "\n",
    "# sample.generate_coupler_purcell_resonator(par_end,\n",
    "#                                           points[-1],\n",
    "#                                          [4,4,4],\n",
    "#                                          [4,4,4],\n",
    "#                                          10,20,20+10)# тут косяк, надо починить\n",
    "\n",
    "# points = [res_begin,(res_begin[0],par_end[1])]\n",
    "# sample.generate_line(points,4,4,4,None)\n",
    "\n",
    "# points = [coupler_end,(coupler_end[0]+105,coupler_end[1])]\n",
    "# sample.generate_line(points,TL_core,TL_gap,TL_ground,None)\n",
    "# end_point, center_point = sample.generate_bridge_over_feedline(sample.lines[-1], \n",
    "#                                              [15, 90, 30],\n",
    "#                                              [TL_core,TL_gap,TL_ground],\n",
    "#                                              5)\n",
    "# points = [end_point,(3400,2360)]\n",
    "# end = {'type':'open',\n",
    "#        'ground':10,\n",
    "#        'gap':10}\n",
    "# sample.generate_line(points,TL_core,TL_gap,TL_ground,None,end)\n",
    "\n",
    "\n"
   ]
  },
  {
   "cell_type": "code",
   "execution_count": 13,
   "metadata": {
    "ExecuteTime": {
     "end_time": "2020-08-04T21:56:46.688325Z",
     "start_time": "2020-08-04T21:56:46.672920Z"
    }
   },
   "outputs": [
    {
     "ename": "KeyError",
     "evalue": "(2, 0)",
     "output_type": "error",
     "traceback": [
      "\u001b[1;31m---------------------------------------------------------------------------\u001b[0m",
      "\u001b[1;31mKeyError\u001b[0m                                  Traceback (most recent call last)",
      "\u001b[1;32m<ipython-input-13-2471cc176203>\u001b[0m in \u001b[0;36m<module>\u001b[1;34m\u001b[0m\n\u001b[1;32m----> 1\u001b[1;33m \u001b[0msample\u001b[0m\u001b[1;33m.\u001b[0m\u001b[0mfinish_him\u001b[0m\u001b[1;33m(\u001b[0m\u001b[1;33m)\u001b[0m\u001b[1;33m\u001b[0m\u001b[1;33m\u001b[0m\u001b[0m\n\u001b[0m\u001b[0;32m      2\u001b[0m \u001b[1;31m#\u001b[0m\u001b[1;33m\u001b[0m\u001b[1;33m\u001b[0m\u001b[1;33m\u001b[0m\u001b[0m\n\u001b[0;32m      3\u001b[0m \u001b[1;31m# sample.create_grid(100,100)\u001b[0m\u001b[1;33m\u001b[0m\u001b[1;33m\u001b[0m\u001b[1;33m\u001b[0m\u001b[0m\n\u001b[0;32m      4\u001b[0m \u001b[1;33m\u001b[0m\u001b[0m\n\u001b[0;32m      5\u001b[0m \u001b[0mgdspy\u001b[0m\u001b[1;33m.\u001b[0m\u001b[0mLayoutViewer\u001b[0m\u001b[1;33m(\u001b[0m\u001b[0mdepth\u001b[0m\u001b[1;33m=\u001b[0m\u001b[1;36m0\u001b[0m\u001b[1;33m,\u001b[0m\u001b[0mpattern\u001b[0m\u001b[1;33m=\u001b[0m\u001b[1;33m{\u001b[0m\u001b[1;34m'default'\u001b[0m\u001b[1;33m:\u001b[0m \u001b[1;36m8\u001b[0m\u001b[1;33m}\u001b[0m\u001b[1;33m,\u001b[0m\u001b[0mbackground\u001b[0m\u001b[1;33m=\u001b[0m\u001b[1;34m'#FFFFFF'\u001b[0m\u001b[1;33m)\u001b[0m \u001b[1;31m#this opens a viewer\u001b[0m\u001b[1;33m\u001b[0m\u001b[1;33m\u001b[0m\u001b[0m\n",
      "\u001b[1;32m~\\Documents\\notebooks\\Resonators-master\\Resonators-master\\library\\transmon_sample_creator.py\u001b[0m in \u001b[0;36mfinish_him\u001b[1;34m(self)\u001b[0m\n\u001b[0;32m    136\u001b[0m     \u001b[1;32mdef\u001b[0m \u001b[0mfinish_him\u001b[0m\u001b[1;33m(\u001b[0m\u001b[0mself\u001b[0m\u001b[1;33m)\u001b[0m\u001b[1;33m:\u001b[0m\u001b[1;33m\u001b[0m\u001b[1;33m\u001b[0m\u001b[0m\n\u001b[0;32m    137\u001b[0m         self.result.add(gdspy.boolean(self.total_cell.get_polygons(by_spec=True)[(self.total_layer, 0)],\n\u001b[1;32m--> 138\u001b[1;33m                                       \u001b[0mself\u001b[0m\u001b[1;33m.\u001b[0m\u001b[0mcell_to_remove\u001b[0m\u001b[1;33m.\u001b[0m\u001b[0mget_polygons\u001b[0m\u001b[1;33m(\u001b[0m\u001b[0mby_spec\u001b[0m\u001b[1;33m=\u001b[0m\u001b[1;32mTrue\u001b[0m\u001b[1;33m)\u001b[0m\u001b[1;33m[\u001b[0m\u001b[1;33m(\u001b[0m\u001b[1;36m2\u001b[0m\u001b[1;33m,\u001b[0m \u001b[1;36m0\u001b[0m\u001b[1;33m)\u001b[0m\u001b[1;33m]\u001b[0m\u001b[1;33m,\u001b[0m \u001b[1;34m'not'\u001b[0m\u001b[1;33m,\u001b[0m\u001b[1;33m\u001b[0m\u001b[1;33m\u001b[0m\u001b[0m\n\u001b[0m\u001b[0;32m    139\u001b[0m                                       layer=self.total_layer))\n\u001b[0;32m    140\u001b[0m         self.result.add(gdspy.boolean(self.total_cell.get_polygons(by_spec=True)[(self.total_layer, 0)],\n",
      "\u001b[1;31mKeyError\u001b[0m: (2, 0)"
     ]
    }
   ],
   "source": [
    "sample.finish_him()\n",
    "# \n",
    "# sample.create_grid(100,100)\n",
    "\n",
    "gdspy.LayoutViewer(depth=0,pattern={'default': 8},background='#FFFFFF') #this opens a viewer"
   ]
  },
  {
   "cell_type": "code",
   "execution_count": 49,
   "metadata": {},
   "outputs": [
    {
     "data": {
      "text/plain": [
       "((2460.75, 2300.5), (2910.75, 2025.5), (2670.75, 2040.5), (2590.75, 1940.5))"
      ]
     },
     "execution_count": 49,
     "metadata": {},
     "output_type": "execute_result"
    }
   ],
   "source": [
    "par_begin,res_end,res_begin,par_end"
   ]
  },
  {
   "cell_type": "code",
   "execution_count": 38,
   "metadata": {},
   "outputs": [
    {
     "data": {
      "text/plain": [
       "((2590.75, 1940.5), (2670.75, 1940.5))"
      ]
     },
     "execution_count": 38,
     "metadata": {},
     "output_type": "execute_result"
    }
   ],
   "source": [
    "par_end,points[-1]"
   ]
  },
  {
   "cell_type": "code",
   "execution_count": 64,
   "metadata": {},
   "outputs": [
    {
     "data": {
      "text/plain": [
       "((2650.75, 1955.5), (2400.75, 2200.5), (2400.75, 1950.5))"
      ]
     },
     "execution_count": 64,
     "metadata": {},
     "output_type": "execute_result"
    }
   ],
   "source": [
    "(2850.75-ap-intendx-coupler_length-start_x,2340.5-bp-intendy+150-start_y+15),(2850.75-ap-intendx-coupler_length-ar-start_x,2340.5-br-intendy+250-start_y), (2850.75-ap-intendx-coupler_length-ar-start_x,2340.5-br-intendy-start_y)"
   ]
  },
  {
   "cell_type": "code",
   "execution_count": 46,
   "metadata": {},
   "outputs": [],
   "source": [
    "def length(freq):\n",
    "    c=299792458\n",
    "    n=np.sqrt((11.45+1)/2)\n",
    "    return c/(4*n*freq*1e9)*1e3"
   ]
  },
  {
   "cell_type": "code",
   "execution_count": 48,
   "metadata": {},
   "outputs": [
    {
     "data": {
      "text/plain": [
       "(4.291340681252264, 3.3377094187517606)"
      ]
     },
     "execution_count": 48,
     "metadata": {},
     "output_type": "execute_result"
    }
   ],
   "source": [
    "length(7),length(9)"
   ]
  },
  {
   "cell_type": "code",
   "execution_count": 37,
   "metadata": {},
   "outputs": [
    {
     "data": {
      "text/plain": [
       "1062.6718739192922"
      ]
     },
     "execution_count": 37,
     "metadata": {},
     "output_type": "execute_result"
    }
   ],
   "source": [
    "calculate_total_length(points)"
   ]
  },
  {
   "cell_type": "code",
   "execution_count": null,
   "metadata": {},
   "outputs": [],
   "source": [
    "cl=3.8/141"
   ]
  },
  {
   "cell_type": "code",
   "execution_count": 6,
   "metadata": {
    "scrolled": true
   },
   "outputs": [
    {
     "data": {
      "text/plain": [
       "<gdspy.viewer.LayoutViewer object .!layoutviewer>"
      ]
     },
     "execution_count": 6,
     "metadata": {},
     "output_type": "execute_result"
    }
   ],
   "source": [
    "gdspy.LayoutViewer(depth=0,pattern={'default': 8},background='#FFFFFF') #this opens a viewer"
   ]
  },
  {
   "cell_type": "code",
   "execution_count": 4,
   "metadata": {},
   "outputs": [],
   "source": [
    "import squid3JJ as s"
   ]
  },
  {
   "cell_type": "code",
   "execution_count": 5,
   "metadata": {},
   "outputs": [],
   "source": [
    "j_2=s.JJ_2(x0=0, y0=0, Hb=10, parametr2=0.8, parametr3=0.45, parametr4=0.243, parametr5=0.243, parametr6=0)"
   ]
  },
  {
   "cell_type": "code",
   "execution_count": 6,
   "metadata": {},
   "outputs": [],
   "source": [
    "sp2=j_2.generate_JJ()"
   ]
  },
  {
   "cell_type": "code",
   "execution_count": null,
   "metadata": {},
   "outputs": [],
   "source": []
  },
  {
   "cell_type": "code",
   "execution_count": 10,
   "metadata": {
    "ExecuteTime": {
     "end_time": "2020-07-26T14:01:08.432060Z",
     "start_time": "2020-07-26T14:01:08.415630Z"
    }
   },
   "outputs": [],
   "source": [
    "gdspy.write_gds('test.gds', cells=None, name='library', unit=1e-06, precision=1e-09, timestamp=None, binary_cells=None)"
   ]
  },
  {
   "cell_type": "code",
   "execution_count": 5,
   "metadata": {},
   "outputs": [],
   "source": [
    "# sample.Generate_Grid(sample_size_x,sample_size_y,4,5)\n",
    "#gdspy.LayoutViewer(depth = 2)"
   ]
  },
  {
   "cell_type": "code",
   "execution_count": null,
   "metadata": {},
   "outputs": [],
   "source": [
    "points=[(0,0),(0,5),(-10,10),(-20,10)]\n",
    "fl=Feedline()"
   ]
  },
  {
   "cell_type": "code",
   "execution_count": null,
   "metadata": {},
   "outputs": [],
   "source": [
    "gdspy.boolean()"
   ]
  },
  {
   "cell_type": "code",
   "execution_count": null,
   "metadata": {},
   "outputs": [],
   "source": []
  },
  {
   "cell_type": "code",
   "execution_count": null,
   "metadata": {},
   "outputs": [],
   "source": [
    "#     def Generate_Qubit_Couplers(self,width,gap,length,Qubits):\n",
    "#         for _,qubit_pair in Qubits.items():\n",
    "#             coupler_center = coordinates((qubit_pair['qubits'][1].center.x+qubit_pair['qubits'][0].center.x)/2,\n",
    "#                                          (qubit_pair['qubits'][1].center.y+qubit_pair['qubits'][0].center.y)/2)\n",
    "#             print(coupler_center)\n",
    "#             if qubit_pair['qubits'][1].center.x!=qubit_pair['qubits'][0].center.x:\n",
    "#                 angle = np.arctan((qubit_pair['qubits'][1].center.y-qubit_pair['qubits'][0].center.y)/\n",
    "#                                   (qubit_pair['qubits'][1].center.x-qubit_pair['qubits'][0].center.x))\n",
    "#             else:\n",
    "#                 angle=np.pi/2\n",
    "#             self.QubitCouplers = ILYAcoupler(coupler_center,width,gap,length,self.outside_ground,20,\n",
    "#                                              qubit_pair['qubits'][0],qubit_pair['qubits'][1])\n",
    "#             add,toremove=self.QubitCouplers.Generate_Coupler(angle,qubit_pair['arcs'][0], qubit_pair['arcs'][1])\n",
    "#             self.cell.add(add)\n",
    "#             self.cell.add(gdspy.boolean(sample.cell.get_polygons(by_spec=True)[(self.totalLayer,0)],\n",
    "#                                          toremove,'not',layer = 12))\n",
    "#             self.cell.remove_polygons(lambda pts, layer, datatype: layer == 0)\n",
    "#             self.cell.add(gdspy.boolean(sample.cell.get_polygons(by_spec=True)[(12,0)],\n",
    "#                                          sample.cell.get_polygons(by_spec=True)[(12,0)],'or',layer = 0))\n",
    "#             self.cell.remove_polygons(lambda pts, layer, datatype: layer == 12)\n",
    "  \n",
    "#sdef Generate_Grid(self, a, b, l1, l2):\n",
    "#         self.grid_cell = gdspy.Cell('Grid')\n",
    "#         res1 = gdspy.Rectangle((400, 400), (404, b - 400), layer = l1) \n",
    "#         x = 447\n",
    "#         while x < a - 400:\n",
    "#             r1 = gdspy.Rectangle((x, 400), (x + 2, b - 400), layer = l1) \n",
    "#             x += 47\n",
    "#             res1 = gdspy.boolean(res1, r1, 'or')\n",
    "#             #self.grid_cell.add(r1)\n",
    "#         y = 400\n",
    "#         res2 = gdspy.Rectangle((400, 400), (400, 404), layer = l2) \n",
    "#         while y < b - 400:\n",
    "#             r1 = gdspy.Rectangle((400, y), (a - 400, y + 2), layer = l2) \n",
    "#             y += 47\n",
    "#             res2 = gdspy.boolean(res2, r1, 'or')\n",
    "#             #self.grid_cell.add(r1)\n",
    "#         res2 = gdspy.boolean(res2, res1, 'not')\n",
    "#         for area in self.Pads.restricted_area:\n",
    "#             res1 = gdspy.boolean(res1, area, 'not', layer = l1)\n",
    "#             res2 = gdspy.boolean(res2, area, 'not', layer = l2)\n",
    "#         for area in sample.restricted_area:\n",
    "#             res1 = gdspy.boolean(res1, area, 'not', layer = l1)\n",
    "#             res2 = gdspy.boolean(res2, area, 'not', layer = l2)\n",
    "#         #res = gdspy.boolean(res, self.Pads_cell.get_polygonsets(), 'not')\n",
    "#         for i in range(len(self.loops)):\n",
    "#             area = self.loops[i].restricted_area\n",
    "#             res1 = gdspy.boolean(res1, area, 'not', layer = l1)\n",
    "#             res2 = gdspy.boolean(res2, area, 'not', layer = l2)\n",
    "#         self.grid_h = res1\n",
    "#         self.grid_v = res2\n",
    "#         self.grid_cell.add(res1)\n",
    "#         self.grid_cell.add(res2)\n",
    "#         self.cell.add(gdspy.CellReference(self.grid_cell, (0, 0)))\n",
    "    \n",
    "\n",
    "    \n",
    "    "
   ]
  },
  {
   "cell_type": "code",
   "execution_count": 6,
   "metadata": {},
   "outputs": [],
   "source": [
    "# print(freq)"
   ]
  },
  {
   "cell_type": "code",
   "execution_count": 1,
   "metadata": {
    "scrolled": true
   },
   "outputs": [
    {
     "name": "stdout",
     "output_type": "stream",
     "text": [
      "100\n",
      "90\n",
      "Nmax= 268\n",
      "result_N 12\n",
      "b_new 95.16666666666667\n",
      "Number_of_curves 12\n",
      "horizontal_line 135.0\n",
      "delta_l= 10.384615384615385\n",
      "my_result 1532.0\n",
      "100\n",
      "Nmax= 266\n",
      "result_N 12\n",
      "b_new 94.33333333333333\n",
      "Number_of_curves 12\n",
      "horizontal_line 137.5\n",
      "delta_l= 10.576923076923077\n",
      "my_result 1432.0\n"
     ]
    }
   ],
   "source": [
    "import gdspy\n",
    "from importlib import reload\n",
    "reload(gdspy)\n",
    "# Path created with automatic bends of radius 5\n",
    "# main = gdspy.Cell(\"M\")\n",
    "import Purcell_idea1 as pur\n",
    "import numpy as np\n",
    "# N=Narrow1(x_begin=0, y_begin=0, width_central1=2, width_ground1=4, distance_between1=3, width_central2=1, width_ground2=3, distance_between2=2, h=5, rotation=0)\n",
    "# JJ=JJ4q.JJ_1(0,0,0.5,0.5)\n",
    "# sp2 = JJ.generate_JJ()\n",
    "# main.add(sp2)\n",
    "# points = [(0, 0), (0, 10), (20, 0), (18, 15), (8, 15)]\n",
    "# sp4 = gdspy.FlexPath(\n",
    "#     points, 0.5, corners=\"circular bend\", bend_radius=5, gdsii_path=True\n",
    "# )\n",
    "\n",
    "# # Same path, generated with natural corners, for comparison\n",
    "# sp5 = gdspy.FlexPath(points, 0.5, layer=1, gdsii_path=True)\n",
    "resonator_end=(210,20)\n",
    "import Resonator_idea1 as res\n",
    "\n",
    "c=res.Resonator(resonator_begin=(10,10), resonator_end=resonator_end, restricted_area_points0=(10,10), a_restricted_area=200, b_restricted_area=100,  resonator_core=1, resonator_ground=1, resonator_gap=1, length_of_all_resonator=1532)\n",
    "sp2=c.Generate_resonator()\n",
    "P=pur.Purcell(purcell_begin = (220,20), purcell_end=(420,120), restricted_area_points0=(220,20), a_restricted_area=200, b_restricted_area=100,  purcell_core=1, purcell_ground=1, purcell_gap=1, length_of_purcell_meander=1432)\n",
    "sp3=P.Generate_purcell()"
   ]
  },
  {
   "cell_type": "code",
   "execution_count": 2,
   "metadata": {},
   "outputs": [
    {
     "data": {
      "text/plain": [
       "<gdspy.Cell at 0x24093944728>"
      ]
     },
     "execution_count": 2,
     "metadata": {},
     "output_type": "execute_result"
    }
   ],
   "source": [
    "main = gdspy.Cell(\"MA11I1N\")\n",
    "main.add(sp2)\n",
    "# main.add(sp3)"
   ]
  },
  {
   "cell_type": "code",
   "execution_count": 3,
   "metadata": {},
   "outputs": [
    {
     "data": {
      "text/plain": [
       "<gdspy.viewer.LayoutViewer object .!layoutviewer>"
      ]
     },
     "execution_count": 3,
     "metadata": {},
     "output_type": "execute_result"
    }
   ],
   "source": [
    "gdspy.LayoutViewer(depth=0,pattern={'default': 8},background='#FFFFFF') #this opens a viewer"
   ]
  },
  {
   "cell_type": "code",
   "execution_count": 3,
   "metadata": {},
   "outputs": [],
   "source": [
    "import gdspy\n",
    "main = gdspy.Cell(\"MAIN111\")\n",
    "sp2 = gdspy.RobustPath(\n",
    "    [(12, 0), (8, 0), (8, 3), (10, 2)],\n",
    "    [0.3, 0.2, 0.4],\n",
    "    0.5,\n",
    "    ends=[\"extended\", \"extended\", \"extended\"],\n",
    ")\n",
    "sp1= gdspy.RobustPath(\n",
    "    (50, 0),\n",
    "    [2, 0.5, 1, 1],\n",
    "    [0, 0, -1, 1],\n",
    "    ends=[\"extended\", \"round\", \"flush\", \"flush\"],\n",
    "    layer=[0, 2, 1, 1],\n",
    ")"
   ]
  },
  {
   "cell_type": "code",
   "execution_count": 4,
   "metadata": {},
   "outputs": [
    {
     "data": {
      "text/plain": [
       "<gdspy.Cell at 0x181ab97c5c8>"
      ]
     },
     "execution_count": 4,
     "metadata": {},
     "output_type": "execute_result"
    }
   ],
   "source": [
    "main.add(sp1)"
   ]
  },
  {
   "cell_type": "code",
   "execution_count": 8,
   "metadata": {
    "scrolled": true
   },
   "outputs": [
    {
     "data": {
      "text/plain": [
       "<gdspy.viewer.LayoutViewer object .!layoutviewer>"
      ]
     },
     "execution_count": 8,
     "metadata": {},
     "output_type": "execute_result"
    }
   ],
   "source": [
    "gdspy.LayoutViewer(depth=0,pattern={'default': 8},background='#FFFFFF') #this opens a viewer"
   ]
  },
  {
   "cell_type": "code",
   "execution_count": 52,
   "metadata": {},
   "outputs": [],
   "source": []
  },
  {
   "cell_type": "code",
   "execution_count": 13,
   "metadata": {},
   "outputs": [],
   "source": [
    "import gdspy\n",
    "from importlib import reload\n",
    "reload(gdspy)\n",
    "# main = gdspy.Cell(\"MAIN\")\n",
    "import numpy\n",
    "# Create 4 parallel paths in different layers\n",
    "\n",
    "x1=1125\n",
    "x2=1125\n",
    "x3=1641\n",
    "y1=770\n",
    "y2=1100\n",
    "y3=1641\n",
    "lp = gdspy.RobustPath(\n",
    "    (x1, y1),\n",
    "    [5, 2, 5],\n",
    "    [-5,0,5],\n",
    "    ends=[\"flush\", \"flush\", \"flush\"],\n",
    "    layer=0\n",
    ")\n",
    "lp.segment((x2, y2))\n",
    "\n",
    "\n",
    "lp.turn(10,np.pi/15)\n",
    "lp.smooth(\n",
    "    [(x2+10*np.cos(0.25 * numpy.pi), y2+10*np.sin(0.25 * numpy.pi))],\n",
    "    angles=[0.5 * numpy.pi, 0.25 * numpy.pi],\n",
    "    width=0.5,    \n",
    ")\n",
    "lp.segment((x3,y3))\n",
    "lp.smooth([(x1,y1),(x2,y2),(x3,y3)])\n",
    "\n",
    "sp3 = gdspy.FlexPath(\n",
    "    [(0,0),(5, 5),(100,10)],\n",
    "    [0.5, 0.25, 0.5],\n",
    "    offset=[-0.5+0.25/2, 0, 0.5-0.25/2],\n",
    "    layer=[0, 1, 2],\n",
    "     corners=\"circular bend\", bend_radius=1, gdsii_path=True\n",
    ")\n",
    "\n",
    "N = Narrow1(x_begin=0, y_begin=0, width_central1=2, width_ground1=4, distance_between1=3, width_central2=1, width_ground2=3, distance_between2=2, h=5, rotation=0)\n",
    "nar = N.Generate_narrow()\n",
    "\n",
    "# lp.arc(10,numpy.pi/3,numpy.pi/2)\n",
    "# lp.turn(10,numpy.pi)\n",
    "# lp.parametric(\n",
    "#     lambda u: numpy.array((45 * u, 4 * numpy.sin(6 * numpy.pi * u))),\n",
    "#     offset=[\n",
    "#         lambda u: -0.25 * numpy.cos(24 * numpy.pi * u),\n",
    "# #         lambda u: 0.25 * numpy.cos(24 * numpy.pi * u),\n",
    "#         -0.75,\n",
    "#         0.75,\n",
    "#     ],\n",
    "# )\n",
    "# lp.turn(10,numpy.pi)\n",
    "# lp = gdspy.Round((1000,1000),10,inner_radius=0,\n",
    "#     initial_angle=0,\n",
    "#     final_angle=0,)"
   ]
  },
  {
   "cell_type": "code",
   "execution_count": 14,
   "metadata": {},
   "outputs": [
    {
     "data": {
      "text/plain": [
       "<gdspy.Cell at 0x2a051bf43b8>"
      ]
     },
     "execution_count": 14,
     "metadata": {},
     "output_type": "execute_result"
    }
   ],
   "source": [
    "main = gdspy.Cell(\"MAIN\")\n",
    "main.add(nar)"
   ]
  },
  {
   "cell_type": "code",
   "execution_count": 15,
   "metadata": {
    "scrolled": false
   },
   "outputs": [
    {
     "data": {
      "text/plain": [
       "<gdspy.viewer.LayoutViewer object .!layoutviewer>"
      ]
     },
     "execution_count": 15,
     "metadata": {},
     "output_type": "execute_result"
    }
   ],
   "source": [
    "gdspy.LayoutViewer(depth=0,pattern={'default': 8},background='#FFFFFF') #this opens a viewer"
   ]
  },
  {
   "cell_type": "code",
   "execution_count": 53,
   "metadata": {},
   "outputs": [
    {
     "data": {
      "text/plain": [
       "<gdspy.RobustPath at 0x221494d8868>"
      ]
     },
     "execution_count": 53,
     "metadata": {},
     "output_type": "execute_result"
    }
   ],
   "source": [
    "import gdspy\n",
    "from importlib import reload\n",
    "reload(gdspy)\n",
    "# main = gdspy.Cell(\"MAIN\")\n",
    "import numpy\n",
    "\n",
    "lp = gdspy.RobustPath(\n",
    "    (5, 0),\n",
    "    [0.5, 0.2, 0.5],\n",
    "    0.5,\n",
    "    ends=[\"flush\", \"flush\", \"flush\"],\n",
    "    layer=[0, 2, 1],\n",
    ")\n",
    "\n",
    "lp.smooth(\n",
    "    [(5, 10)],\n",
    "    angles=[0.5 * numpy.pi, 0.2* numpy.pi],\n",
    "#     width=0.5,\n",
    "    \n",
    ")\n"
   ]
  },
  {
   "cell_type": "code",
   "execution_count": 54,
   "metadata": {},
   "outputs": [
    {
     "ename": "SyntaxError",
     "evalue": "invalid syntax (<ipython-input-54-32afaab84a34>, line 4)",
     "output_type": "error",
     "traceback": [
      "\u001b[1;36m  File \u001b[1;32m\"<ipython-input-54-32afaab84a34>\"\u001b[1;36m, line \u001b[1;32m4\u001b[0m\n\u001b[1;33m    'segment': seg.add_point(100, 0),\u001b[0m\n\u001b[1;37m             ^\u001b[0m\n\u001b[1;31mSyntaxError\u001b[0m\u001b[1;31m:\u001b[0m invalid syntax\n"
     ]
    }
   ],
   "source": [
    "CreateTL(\n",
    "(50,0),\n",
    "[\n",
    "    'segment': points,\n",
    "    'air bridge': AirbridgeFeedline,\n",
    "    'segment': (100,200),\n",
    "    'segment': (100,300),\n",
    "    'meander': None,\n",
    "],\n",
    "    []\n",
    "\n",
    "\n",
    ")"
   ]
  },
  {
   "cell_type": "code",
   "execution_count": null,
   "metadata": {},
   "outputs": [],
   "source": []
  },
  {
   "cell_type": "code",
   "execution_count": 10,
   "metadata": {},
   "outputs": [],
   "source": [
    "gdspy.write_gds('at1.gds', cells=None, name='library', unit=1e-06, precision=1e-09, timestamp=None, binary_cells=None)"
   ]
  },
  {
   "cell_type": "code",
   "execution_count": 6,
   "metadata": {},
   "outputs": [],
   "source": [
    "myCell=gdspy.Cell(\"1\")"
   ]
  },
  {
   "cell_type": "code",
   "execution_count": 3,
   "metadata": {},
   "outputs": [
    {
     "data": {
      "text/plain": [
       "<gdspy.Cell at 0x1f28fd8b048>"
      ]
     },
     "execution_count": 3,
     "metadata": {},
     "output_type": "execute_result"
    }
   ],
   "source": [
    "triangle_pts = [(0, 0), (10, 0), (5, 5)]\n",
    "triangle = gdspy.Polygon(triangle_pts)\n",
    "myCell.add(triangle)"
   ]
  },
  {
   "cell_type": "code",
   "execution_count": 11,
   "metadata": {},
   "outputs": [],
   "source": [
    "a=gdspy.LayoutViewer(depth=0,pattern={'default': 8},background='#FFFFFF') #this opens a viewer"
   ]
  },
  {
   "cell_type": "code",
   "execution_count": 3,
   "metadata": {},
   "outputs": [],
   "source": [
    "d=TL_core\n",
    "d1=TL_core + 2*TL_vacuum\n",
    "d2=TL_core + 2*(TL_ground+TL_vacuum)\n",
    "x=1000\n",
    "y=sample_size_y-850"
   ]
  },
  {
   "cell_type": "code",
   "execution_count": 6,
   "metadata": {},
   "outputs": [
    {
     "data": {
      "text/plain": [
       "<gdspy.Cell at 0x1a07434c0f8>"
      ]
     },
     "execution_count": 6,
     "metadata": {},
     "output_type": "execute_result"
    }
   ],
   "source": [
    "myCell.add(gdspy.Polygon([(x, y), (x + d2, y), (x + d2 + 120, y - 160), (x + d2 + 120, y - 600),\n",
    "(x - 120, y - 600), (x - 120, y - 160)]))"
   ]
  },
  {
   "cell_type": "code",
   "execution_count": 9,
   "metadata": {},
   "outputs": [],
   "source": [
    "delta = 0.5*(d2 - d1)\n",
    "r2 = gdspy.Polygon([(x + delta, y), (x + d1 + delta, y), (x + d1 + delta + 120, y - 160),\n",
    "                (x + d1 + delta + 120, y - 600 + delta),\n",
    "                (x - 120 + delta, y - 600 + delta), (x - 120 + delta, y - 160)],layer=1)\n",
    "delta = 0.5*(d2 - d)\n",
    "r3 = gdspy.Polygon([(x + delta, y), (x + d + delta, y), (x + d + delta + 120, y - 160),\n",
    "                (x + d + delta + 120, y - 500 + delta),\n",
    "                (x - 120 + delta, y - 500 + delta), (x - 120 + delta, y - 160)],layer=2)"
   ]
  },
  {
   "cell_type": "code",
   "execution_count": 7,
   "metadata": {},
   "outputs": [
    {
     "data": {
      "text/plain": [
       "<gdspy.Cell at 0x2b6f3f0d258>"
      ]
     },
     "execution_count": 7,
     "metadata": {},
     "output_type": "execute_result"
    }
   ],
   "source": [
    "myCell.add(r1)"
   ]
  },
  {
   "cell_type": "code",
   "execution_count": 8,
   "metadata": {},
   "outputs": [
    {
     "data": {
      "text/plain": [
       "<gdspy.Cell at 0x2b6f3f0d258>"
      ]
     },
     "execution_count": 8,
     "metadata": {},
     "output_type": "execute_result"
    }
   ],
   "source": [
    "myCell.add(r2)"
   ]
  },
  {
   "cell_type": "code",
   "execution_count": 9,
   "metadata": {},
   "outputs": [
    {
     "data": {
      "text/plain": [
       "<gdspy.Cell at 0x2b6f3f0d258>"
      ]
     },
     "execution_count": 9,
     "metadata": {},
     "output_type": "execute_result"
    }
   ],
   "source": [
    "myCell.add(r3)"
   ]
  },
  {
   "cell_type": "code",
   "execution_count": 11,
   "metadata": {},
   "outputs": [],
   "source": [
    "# center point is a reference point"
   ]
  },
  {
   "cell_type": "code",
   "execution_count": 12,
   "metadata": {},
   "outputs": [],
   "source": [
    "TL_ground=40\n",
    "TL_core=9\n",
    "TL_vacuum=15\n",
    "pad_core=250\n",
    "pad_vacuum=146\n",
    "pad_ground=TL_ground\n",
    "pad_lenght=550\n",
    "pad_indent=50\n",
    "edge_indent=100\n",
    "narrowing=160\n",
    "x=1000\n",
    "y=sample_size_y-850\n",
    "outer_pad_width=(pad_core+(pad_vacuum+pad_ground)*2)\n",
    "inner_pad_width=(pad_core+pad_vacuum*2)\n",
    "outer_TL_width=2*(TL_ground+TL_vacuum)+TL_core\n",
    "inner_TL_width=2*TL_vacuum+TL_core"
   ]
  },
  {
   "cell_type": "code",
   "execution_count": 5,
   "metadata": {},
   "outputs": [],
   "source": [
    "r1 = gdspy.Polygon([(x, y), (x + outer_TL_width, y), \n",
    "                    (x + (outer_TL_width+outer_pad_width)/2, y - narrowing), \n",
    "                    (x + (outer_TL_width+outer_pad_width)/2, y - (narrowing+pad_lenght)),\n",
    "                    (x - (-outer_TL_width+outer_pad_width)/2, y - (narrowing+pad_lenght)),\n",
    "                    (x - (-outer_TL_width+outer_pad_width)/2, y - narrowing)])\n",
    "x+=TL_ground\n",
    "r2 = gdspy.Polygon([(x, y), (x + inner_TL_width , y), (x + (inner_TL_width+inner_pad_width)/2, y - narrowing),\n",
    "                    (x + (inner_TL_width+inner_pad_width)/2, y - (narrowing+pad_lenght-edge_indent)),\n",
    "                    (x - (-inner_TL_width+inner_pad_width)/2, y -(narrowing+pad_lenght-edge_indent)),\n",
    "                    (x - (-inner_TL_width+inner_pad_width)/2, y - narrowing)])\n",
    "x+=TL_vacuum\n",
    "r3 = gdspy.Polygon([(x , y), (x+ TL_core, y), \n",
    "                    (x + (pad_core+TL_core)/2, y - narrowing),\n",
    "                    (x + (pad_core+TL_core)/2, y- (narrowing+pad_lenght-pad_indent-edge_indent)),\n",
    "                    (x - (pad_core-TL_core)/2, y - (narrowing+pad_lenght-pad_indent-edge_indent)), \n",
    "                    (x - (pad_core-TL_core)/2, y - narrowing)])"
   ]
  },
  {
   "cell_type": "code",
   "execution_count": null,
   "metadata": {},
   "outputs": [],
   "source": [
    "gdspy.LayoutViewer(cells=a,depth=0,pattern={'default': 8},background='#FFFFFF') #this opens a viewer"
   ]
  },
  {
   "cell_type": "code",
   "execution_count": null,
   "metadata": {},
   "outputs": [],
   "source": [
    "d=TL_core\n",
    "d1=TL_core + 2*TL_vacuum\n",
    "d2=TL_core + 2*(TL_ground+TL_vacuum)\n",
    "x=1000\n",
    "y=sample_size_y-850"
   ]
  },
  {
   "cell_type": "code",
   "execution_count": 3,
   "metadata": {},
   "outputs": [],
   "source": [
    "import numpy"
   ]
  },
  {
   "cell_type": "code",
   "execution_count": 22,
   "metadata": {},
   "outputs": [],
   "source": [
    "circle = gdspy.Round((30, 5), 8)\n",
    "\n",
    "ell_ring = gdspy.Round((50, 5), (8, 7), inner_radius=(5, 4))\n",
    "\n",
    "arc = gdspy.Round((50, 25), 8, inner_radius=5,\n",
    "                       initial_angle=-6.0*numpy.pi/6.0/2,\n",
    "                       final_angle=6.0*numpy.pi/6.0/2)"
   ]
  },
  {
   "cell_type": "code",
   "execution_count": 19,
   "metadata": {
    "scrolled": true
   },
   "outputs": [
    {
     "data": {
      "text/plain": [
       "<gdspy.Cell at 0x15a82f1e468>"
      ]
     },
     "execution_count": 19,
     "metadata": {},
     "output_type": "execute_result"
    }
   ],
   "source": [
    "myCell.add(arc)"
   ]
  },
  {
   "cell_type": "code",
   "execution_count": null,
   "metadata": {},
   "outputs": [],
   "source": []
  },
  {
   "cell_type": "code",
   "execution_count": null,
   "metadata": {},
   "outputs": [],
   "source": []
  },
  {
   "cell_type": "markdown",
   "metadata": {},
   "source": [
    "### gds file readout"
   ]
  },
  {
   "cell_type": "code",
   "execution_count": 10,
   "metadata": {},
   "outputs": [
    {
     "name": "stdout",
     "output_type": "stream",
     "text": [
      "[[      0.       0.]\n",
      " [5000000. 5000000.]]\n"
     ]
    }
   ],
   "source": [
    "import gdspy\n",
    "\n",
    "gds = gdspy.GdsLibrary(infile=r\"C:\\Users\\Ivan\\Documents\\notebooks\\Resonators-master\\Resonators-master\\Resonator_Purcell.gds\", unit=1e-9, precision=1e-12, units='convert')\n",
    "c = gds.top_level()[0]\n",
    "print(c.get_bounding_box())"
   ]
  },
  {
   "cell_type": "code",
   "execution_count": 11,
   "metadata": {},
   "outputs": [
    {
     "data": {
      "text/plain": [
       "{'sample2': <gdspy.Cell at 0x1db5f0e4780>,\n",
       " 'Pads': <gdspy.Cell at 0x1db5f0e4150>,\n",
       " 'TL1': <gdspy.Cell at 0x1db5f0e4200>,\n",
       " 'TL2': <gdspy.Cell at 0x1db5f0e41a8>,\n",
       " 'TL3': <gdspy.Cell at 0x1db5f0e45c8>,\n",
       " 'RESONATORS1': <gdspy.Cell at 0x1db5f0e4830>,\n",
       " 'RESONATORS2': <gdspy.Cell at 0x1db5f136150>,\n",
       " 'RESONATORS3': <gdspy.Cell at 0x1db5f16dc50>,\n",
       " 'res0': <gdspy.Cell at 0x1db5f1729e8>,\n",
       " 'res1': <gdspy.Cell at 0x1db5f172e60>,\n",
       " 'res2': <gdspy.Cell at 0x1db5f1772b0>,\n",
       " 'COMBINATION': <gdspy.Cell at 0x1db5f177830>,\n",
       " 'CUT': <gdspy.Cell at 0x1db5f17c620>,\n",
       " 'CUTOUT': <gdspy.Cell at 0x1db5f186bf8>,\n",
       " 'FILL': <gdspy.Cell at 0x1db5f19e7d8>,\n",
       " 'CUTOUTFILL': <gdspy.Cell at 0x1db5f1a90a0>}"
      ]
     },
     "execution_count": 11,
     "metadata": {},
     "output_type": "execute_result"
    }
   ],
   "source": [
    "gds.cell_dict"
   ]
  },
  {
   "cell_type": "code",
   "execution_count": 12,
   "metadata": {},
   "outputs": [],
   "source": [
    "a=gds.extract('Pads')"
   ]
  },
  {
   "cell_type": "code",
   "execution_count": null,
   "metadata": {},
   "outputs": [],
   "source": [
    "gdspy.LayoutViewer(cells=a,depth=0,pattern={'default': 8},background='#FFFFFF') #this opens a viewer"
   ]
  },
  {
   "cell_type": "code",
   "execution_count": 2,
   "metadata": {
    "ExecuteTime": {
     "end_time": "2020-06-26T11:27:29.777663Z",
     "start_time": "2020-06-26T11:27:29.650762Z"
    }
   },
   "outputs": [],
   "source": [
    "class Sample:\n",
    "    \n",
    "    def __init__(self, number):\n",
    "        self.name = 'sample' + str(number)\n",
    "        self.result = gdspy.Cell('result')\n",
    "        self.total_cell = gdspy.Cell(self.name)\n",
    "        \n",
    "        \n",
    "        self.restricted_area_cell = gdspy.Cell(self.name+'resctricted area')\n",
    "        self.cell_to_remove = gdspy.Cell(self.name+' remove')\n",
    "        self.total_layer = 0\n",
    "        self.restricted_area_layer = 100\n",
    "        self.layer_to_remove = 2\n",
    "        self.JJ_layer=12\n",
    "        \n",
    "        self.sample_size_x = None\n",
    "        self.sample_size_y =None\n",
    "        \n",
    "        self.pads = []\n",
    "        self.coaxmons = []\n",
    "        self.lines = []\n",
    "        self.bridges = []\n",
    "        self.couplers = []\n",
    "        \n",
    "        self.MinDist=4/np.pi\n",
    "\n",
    "        self.AirbridgesPadLayer = 1\n",
    "        self.AirbridgesLayer = 2\n",
    "        self.outside_ground = 50\n",
    "        self.gridline_x_layer = 16\n",
    "        self.gridline_y_layer = 17\n",
    "        \n",
    "        \n",
    "        \n",
    "        \n",
    "    def generate_pad(self, TL_core, TL_gap, TL_ground, coordinate):\n",
    "        self.pads.append(Pads(TL_core, TL_gap, TL_ground,coordinate))\n",
    "    \n",
    "    def generate_sample_edges_and_pads(self):\n",
    "        results_total, restricted_area = Pads.generate_ground(self.pads,\n",
    "                      self.sample_size_x, self.sample_size_y, self.total_layer, self.restricted_area_layer)\n",
    "        self.total_cell.add(results_total)\n",
    "        self.restricted_area_cell.add(restricted_area)\n",
    "        \n",
    "    def generate_coaxmon(self,center_point,r1,r2,r3,r4,outer_ground,Couplers,JJ,angle=0,mirror=False):\n",
    "        self.coaxmons.append(Coaxmon(center_point, r1, r2, r3, r4,outer_ground,self.total_layer, \n",
    "                                     self.restricted_area_layer,self.JJ_layer, Couplers,JJ))\n",
    "        qubit_total, restricted_area,JJ_total = self.coaxmons[-1].generate_qubit()\n",
    "        self.total_cell.add(qubit_total.rotate(angle,(center_point.x,center_point.y)))\n",
    "        self.total_cell.add(JJ_total)#.rotate(angle,(center_point.x,center_point.y))\n",
    "        self.restricted_area_cell.add(restricted_area)\n",
    "        \n",
    "    def generate_line(self,points,core,gap,ground,nodes=None,end=None,R=40,corner_type='round'):\n",
    "        self.lines.append(Feedline(points,core,gap,ground,nodes,self.total_layer, self.restricted_area_layer,R))\n",
    "        line = self.lines[-1].generate_feedline(corner_type)\n",
    "        if end is not None:\n",
    "            end_line = self.lines[-1].generate_end(end)\n",
    "            self.total_cell.add(end_line[0])\n",
    "            self.restricted_area_cell.add(gdspy.boolean(end_line[1],end_line[1],'or',layer = self.restricted_area_layer))\n",
    "            self.cell_to_remove.add(gdspy.boolean(end_line[2],end_line[2],'or',layer = self.layer_to_remove))\n",
    "        self.total_cell.add(line[0])\n",
    "        self.restricted_area_cell.add(line[1])\n",
    "        self.cell_to_remove.add(line[2])\n",
    "    \n",
    "    def generate_qubit_coupler(self,core,gap,ground,Coaxmon1,Coaxmon2,JJ,squid):\n",
    "        coupler = IlyaCoupler(core,gap,ground,Coaxmon1,Coaxmon2,JJ, squid,\n",
    "                              self.total_layer, self.restricted_area_layer,self.JJ_layer,self.layer_to_remove)\n",
    "        self.couplers.append(coupler)\n",
    "        line,JJ = coupler.generate_coupler()\n",
    "        self.total_cell.add([line[0],JJ[0],JJ[1]])\n",
    "#         self.total_cell.add(line[1])\n",
    "        self.restricted_area_cell.add(line[1])\n",
    "        self.cell_to_remove.add([line[2],JJ[2]])\n",
    "    \n",
    "    def generate_bridge(self, point, width, length, padsize, angle ,line_type =None):\n",
    "        self.bridges.append(Airbridge(width,length, padsize, point, angle,line_type))\n",
    "        bridge = self.bridges[-1].generate_bridge(self.AirbridgesPadLayer, self.AirbridgesLayer)\n",
    "        self.total_cell.add(bridge)\n",
    "        self.result.add(gdspy.boolean(bridge[0],bridge[0],'or',layer = self.total_layer))\n",
    "        self.restricted_area_cell.add(gdspy.boolean(bridge[0],bridge[0],'or',layer = self.restricted_area_layer))\n",
    "    \n",
    "    def generate_narrowing_part(self,firstline, secondline):\n",
    "        narrowing_length=15\n",
    "        narrowing1 = Narrowing(firstline.end[0],firstline.end[1],\n",
    "                               firstline.core,firstline.gap, firstline.ground ,\n",
    "                               secondline[0],secondline[1],secondline[2],\n",
    "                               narrowing_length,firstline.angle+np.pi)\n",
    "        line1 = narrowing1.generate_narrowing()\n",
    "        self.total_cell.add(line1[0])\n",
    "        self.restricted_area_cell.add(line1[1])\n",
    "        self.cell_to_remove.add(line1[2])\n",
    "        return (firstline.end[0]+narrowing_length*np.cos(firstline.angle),\n",
    "                firstline.end[1]+narrowing_length*np.sin(firstline.angle))\n",
    "    \n",
    "    def generate_bridge_over_feedline(self,firstline, airbridge, secondline,distance_between_airbridges):\n",
    "        narrowing_length=15\n",
    "        narrowing1 = Narrowing(firstline.end[0],firstline.end[1],\n",
    "                               firstline.core,firstline.gap, firstline.ground ,\n",
    "                               airbridge[2],distance_between_airbridges,airbridge[2],\n",
    "                               narrowing_length,np.pi+firstline.angle)\n",
    "        narrowing2 = Narrowing(firstline.end[0]+np.cos(firstline.angle)*(narrowing_length+airbridge[0]*2+airbridge[1]),\n",
    "                               firstline.end[1]+np.sin(firstline.angle)*(narrowing_length+airbridge[0]*2+airbridge[1]),\n",
    "                               airbridge[2],distance_between_airbridges,airbridge[2],\n",
    "                               secondline[0],secondline[1],secondline[2],\n",
    "                               narrowing_length,np.pi+firstline.angle)\n",
    "        self.generate_bridge((firstline.end[0]+np.cos(firstline.angle)*narrowing_length-\n",
    "                              np.sin(firstline.angle)*(distance_between_airbridges+airbridge[2]),\n",
    "                              firstline.end[1]+np.cos(firstline.angle)*(distance_between_airbridges+airbridge[2])+\n",
    "                              np.sin(firstline.angle)*narrowing_length),\n",
    "                               airbridge[0],airbridge[1],airbridge[2],firstline.angle,'line')\n",
    "        self.generate_bridge((firstline.end[0]+np.cos(firstline.angle)*narrowing_length,\n",
    "                                np.sin(firstline.angle)*narrowing_length+firstline.end[1]),\n",
    "                                airbridge[0],airbridge[1],airbridge[2],firstline.angle,'line' )\n",
    "        self.generate_bridge((firstline.end[0]+np.cos(firstline.angle)*narrowing_length+\n",
    "                              np.sin(firstline.angle)*(distance_between_airbridges+airbridge[2]),\n",
    "                              firstline.end[1]-np.cos(firstline.angle)*(distance_between_airbridges+airbridge[2])+\n",
    "                            np.sin(firstline.angle)*narrowing_length),\n",
    "                                airbridge[0],airbridge[1],airbridge[2],firstline.angle,'line' )\n",
    "        line1 = narrowing1.generate_narrowing()\n",
    "        line2 = narrowing2.generate_narrowing()\n",
    "        self.total_cell.add(line1[0])\n",
    "        self.total_cell.add(line2[0])\n",
    "        self.restricted_area_cell.add(line1[1])\n",
    "        self.restricted_area_cell.add(line2[1])\n",
    "        self.cell_to_remove.add(line1[2])\n",
    "        self.cell_to_remove.add(line2[2])\n",
    "        return (firstline.end[0]+2*narrowing_length+airbridge[0]*2+airbridge[1],firstline.end[1]),None\n",
    "        \n",
    "        \n",
    "    def finish_him(self):\n",
    "        self.result.add(gdspy.boolean(sample.total_cell.get_polygons(by_spec=True)[(self.total_layer,0)],\n",
    "                                      sample.cell_to_remove.get_polygons(by_spec=True)[(2,0)],'not',\n",
    "                                      layer = self.total_layer))\n",
    "        self.result.add(gdspy.boolean(sample.total_cell.get_polygons(by_spec=True)[(self.total_layer,0)],\n",
    "                                      sample.cell_to_remove.get_polygons(by_spec=True)[(2,0)],'not',\n",
    "                                      layer = self.total_layer))\n",
    "        #костыль\n",
    "#         self.result.add(gdspy.boolean(sample.total_cell.get_polygons(by_spec=True)[(self.total_layer,0)],\n",
    "#                                       sample.total_cell.get_polygons(by_spec=True)[(3,0)],'not',\n",
    "#                                       layer = self.total_layer))\n",
    "#         self.result.add(gdspy.boolean(sample.total_cell.get_polygons(by_spec=True)[(3,0)],\n",
    "#                                       sample.total_cell.get_polygons(by_spec=True)[(3,0)],'or',\n",
    "#                                       layer = 3))\n",
    "#         self.result.add(gdspy.boolean(sample.total_cell.get_polygons(by_spec=True)[(0,0)],\n",
    "#                                       sample.total_cell.get_polygons(by_spec=True)[(3,0)],'not',\n",
    "#                                       layer = 10))\n",
    "        \n",
    "#         self.result.add(gdspy.boolean( sample.total_cell.get_polygons(by_spec=True)[(self.JJ_layer,0)],\n",
    "#                                        sample.total_cell.get_polygons(by_spec=True)[(self.JJ_layer,0)],'or',\n",
    "#                                        layer =self.JJ_layer))\n",
    "#         self.result.add(gdspy.boolean( sample.total_cell.get_polygons(by_spec=True)[(self.AirbridgesPadLayer,0)],\n",
    "#                                        sample.total_cell.get_polygons(by_spec=True)[(self.AirbridgesPadLayer,0)],'or',\n",
    "#                                        layer =self.AirbridgesPadLayer))\n",
    "#         self.result.add(gdspy.boolean( sample.total_cell.get_polygons(by_spec=True)[(self.AirbridgesLayer,0)],\n",
    "#                                        sample.total_cell.get_polygons(by_spec=True)[(self.AirbridgesLayer,0)],'or',\n",
    "#                                        layer =self.AirbridgesLayer))\n",
    "    def create_grid(self,a,b):\n",
    "        result_x = None\n",
    "        result_y = None\n",
    "        i=0\n",
    "        while b*i+a*(i+1)<self.sample_size_x:\n",
    "            rect_x= gdspy.Rectangle((b*i+a*i, 0),(b*i+a*(i+1),self.sample_size_y) , layer = self.gridline_x_layer)\n",
    "            rect_y= gdspy.Rectangle((0, b*i+a*i),(self.sample_size_x,b*i+a*(i+1)) , layer = self.gridline_y_layer)\n",
    "            i+=1\n",
    "            result_x= gdspy.boolean(rect_x, result_x,'or')\n",
    "            result_y= gdspy.boolean(rect_y, result_y,'or')\n",
    "        result_x = gdspy.boolean(result_x, result_y,'not',layer = self.gridline_y_layer)\n",
    "        rest_area = sample.restricted_area_cell.get_polygons(by_spec=True)[(self.restricted_area_layer,0)]\n",
    "        result_x = gdspy.boolean(result_x, rest_area,'not',layer = self.gridline_x_layer)\n",
    "        result_y = gdspy.boolean(result_y, rest_area,'not',layer = self.gridline_y_layer)\n",
    "        sample.result.add(result_x)\n",
    "        sample.result.add(result_y)\n",
    "        \n",
    "        \n",
    "    def generate_resonator_coupler(self,start, end, feedline_core,feedline_gap,feedline_ground, purcell_core, purcell_gap,\n",
    "                                   purcell_ground, gap_feedline_purcell, rotation, coupler_type):\n",
    "        import Coupler_feedline_purcell as coup\n",
    "        coupler = coup.Coupler_feedline_and_purcell(start[0],start[1],end[0],end[1],feedline_core,feedline_gap,feedline_ground,\n",
    "                                                   purcell_core,purcell_gap,\n",
    "                                                   purcell_ground,gap_feedline_purcell,rotation,coupler_type)\n",
    "        line, connectors=coupler.Generate_coupler_feedline_and_purcell()\n",
    "        self.total_cell.add(line)\n",
    "        return connectors\n",
    "    \n",
    "    def generate_purcell(self,purcell_begin, purcell_end, restricted_area_points0, a_restricted_area, b_restricted_area,  \n",
    "                         purcell_core, purcell_ground, purcell_gap, length_of_purcell_meander,begin_coupler=None,\n",
    "                        type_mirror=None):\n",
    "        import Purcell_idea1 as pur\n",
    "        P=pur.Purcell(purcell_begin, purcell_end, restricted_area_points0, a_restricted_area, b_restricted_area,  \n",
    "                      purcell_core, purcell_ground, purcell_gap, length_of_purcell_meander)\n",
    "        \n",
    "        line=P.Generate_purcell()\n",
    "        if begin_coupler != None:\n",
    "            line1 = P.Generate_purcell_add_element(begin_coupler)\n",
    "            self.total_cell.add(line1)\n",
    "#         self.total_cell.add(line[-1])\n",
    "        if type_mirror =='mirror':\n",
    "            self.total_cell.add(line[0].mirror(purcell_end,(purcell_end[0],purcell_end[1]-20)))\n",
    "            self.total_cell.add(line[1].mirror(purcell_end,(purcell_end[0],purcell_end[1]-20)))\n",
    "            self.cell_to_remove.add(line[2].mirror(purcell_end,(purcell_end[0],purcell_end[1]-20)))\n",
    "            par_begin = (purcell_begin[0]+(purcell_end[0]-purcell_begin[0]),purcell_end[1])\n",
    "            par_end = (purcell_end[0]+(purcell_end[0]-purcell_begin[0]),purcell_begin[1])\n",
    "        else:\n",
    "#             self.total_cell.add(line1.mirror(purcell_begin,(purcell_begin[0],purcell_begin[1]-20)))\n",
    "            self.total_cell.add(line[0])\n",
    "            self.total_cell.add(line[1])\n",
    "            self.cell_to_remove.add(line[2])\n",
    "            par_end = purcell_end\n",
    "            par_begin = purcell_begin\n",
    "        return par_begin, par_end\n",
    "        \n",
    "    def generate_resonator(self,resonator_begin, resonator_end, restricted_area_points0,\n",
    "                           a_restricted_area, b_restricted_area,  \n",
    "                           resonator_core, resonator_ground, resonator_gap, length_of_all_resonator,angle,\n",
    "                           type_mirror=None):\n",
    "        import Resonator_idea1 as res\n",
    "        c=res.Resonator(resonator_begin, resonator_end, restricted_area_points0,\n",
    "                        a_restricted_area, b_restricted_area, \n",
    "                        resonator_core, resonator_ground, resonator_gap, length_of_all_resonator)\n",
    "        line=c.Generate_resonator()\n",
    "        \n",
    "        if type_mirror =='mirror':\n",
    "            self.total_cell.add(line[0].mirror(resonator_end,(resonator_end[0],resonator_end[1]-20)))\n",
    "            self.total_cell.add(line[1].mirror(resonator_end,(resonator_end[0],resonator_end[1]-20)))\n",
    "            self.cell_to_remove.add(line[2].mirror(resonator_end,(resonator_end[0],resonator_end[1]-20)))\n",
    "            res_begin = (resonator_begin[0]+(resonator_end[0]-resonator_begin[0]),resonator_end[1])\n",
    "            res_end = (resonator_end[0]+(resonator_end[0]-resonator_begin[0]),resonator_begin[1])\n",
    "        else:\n",
    "            self.total_cell.add(line)\n",
    "            self.total_cell.add(line[1])\n",
    "            self.cell_to_remove.add(line[2])\n",
    "            res_end = resonator_end\n",
    "            res_begin = resonator_begin\n",
    "            \n",
    "        return res_begin, res_end\n",
    "    def generate_coupler_purcell_resonator(self,point1,point2,resonator_params,purcell_params,l,h,h_ground):\n",
    "        import Coupler_purcell_resonator_idea1 as coup\n",
    "        coupler = coup.Coupler_resonator_purcell(point1,point2,\n",
    "                                                 resonator_params[0],resonator_params[1],resonator_params[2],\n",
    "                                                 purcell_params[0],purcell_params[1],purcell_params[2],l,h,h_ground)\n",
    "        line = coupler.generate_coupler_resonator_purcell()\n",
    "        self.total_cell.add(line)\n",
    "        self.cell_to_remove.add(line[1])\n",
    "def calculate_total_length(points):\n",
    "    i0,j0=points[0]\n",
    "    length=0\n",
    "    for i,j in points[1:]:\n",
    "        length+= np.sqrt((i-i0)**2+(j-j0)**2)\n",
    "    return length"
   ]
  },
  {
   "cell_type": "code",
   "execution_count": 6,
   "metadata": {
    "ExecuteTime": {
     "end_time": "2020-07-22T09:17:23.333210Z",
     "start_time": "2020-07-22T09:17:23.324206Z"
    }
   },
   "outputs": [
    {
     "ename": "AttributeError",
     "evalue": "'GdsLibrary' object has no attribute 'new_cell'",
     "output_type": "error",
     "traceback": [
      "\u001b[1;31m---------------------------------------------------------------------------\u001b[0m",
      "\u001b[1;31mAttributeError\u001b[0m                            Traceback (most recent call last)",
      "\u001b[1;32m<ipython-input-6-adda151534bf>\u001b[0m in \u001b[0;36m<module>\u001b[1;34m\u001b[0m\n\u001b[0;32m      5\u001b[0m \u001b[1;33m\u001b[0m\u001b[0m\n\u001b[0;32m      6\u001b[0m \u001b[1;31m# Geometry must be placed in cells.\u001b[0m\u001b[1;33m\u001b[0m\u001b[1;33m\u001b[0m\u001b[1;33m\u001b[0m\u001b[0m\n\u001b[1;32m----> 7\u001b[1;33m \u001b[0mcell\u001b[0m \u001b[1;33m=\u001b[0m \u001b[0mlib\u001b[0m\u001b[1;33m.\u001b[0m\u001b[0mnew_cell\u001b[0m\u001b[1;33m(\u001b[0m\u001b[1;34m'FIRST'\u001b[0m\u001b[1;33m)\u001b[0m\u001b[1;33m\u001b[0m\u001b[1;33m\u001b[0m\u001b[0m\n\u001b[0m\u001b[0;32m      8\u001b[0m \u001b[1;33m\u001b[0m\u001b[0m\n\u001b[0;32m      9\u001b[0m \u001b[1;31m# Create the geometry (a single rectangle) and add it to the cell.\u001b[0m\u001b[1;33m\u001b[0m\u001b[1;33m\u001b[0m\u001b[1;33m\u001b[0m\u001b[0m\n",
      "\u001b[1;31mAttributeError\u001b[0m: 'GdsLibrary' object has no attribute 'new_cell'"
     ]
    }
   ],
   "source": [
    "import gdspy\n",
    "\n",
    "# The GDSII file is called a library, which contains multiple cells.\n",
    "lib = gdspy.GdsLibrary()\n",
    "\n",
    "# Geometry must be placed in cells.\n",
    "cell = lib.new_cell('FIRST')\n",
    "\n",
    "# Create the geometry (a single rectangle) and add it to the cell.\n",
    "rect = gdspy.Rectangle((0, 0), (2, 1))\n",
    "cell.add(rect)\n",
    "\n",
    "# Save the library in a file called 'first.gds'.\n",
    "lib.write_gds('first.gds')\n",
    "\n",
    "# Optionally, save an image of the cell as SVG.\n",
    "cell.write_svg('first.svg')\n",
    "\n",
    "# Display all cells using the internal viewer.\n",
    "gdspy.LayoutViewer()"
   ]
  },
  {
   "cell_type": "code",
   "execution_count": 12,
   "metadata": {
    "ExecuteTime": {
     "end_time": "2020-07-22T09:20:30.528962Z",
     "start_time": "2020-07-22T09:20:30.524974Z"
    }
   },
   "outputs": [],
   "source": [
    "rect=gdspy.Round((0,0),10)"
   ]
  },
  {
   "cell_type": "code",
   "execution_count": 13,
   "metadata": {
    "ExecuteTime": {
     "end_time": "2020-07-22T09:20:31.494299Z",
     "start_time": "2020-07-22T09:20:31.489311Z"
    }
   },
   "outputs": [
    {
     "data": {
      "text/plain": [
       "313.74937132056584"
      ]
     },
     "execution_count": 13,
     "metadata": {},
     "output_type": "execute_result"
    }
   ],
   "source": [
    "rect.area()"
   ]
  },
  {
   "cell_type": "code",
   "execution_count": 16,
   "metadata": {
    "ExecuteTime": {
     "end_time": "2020-07-22T09:20:48.409020Z",
     "start_time": "2020-07-22T09:20:48.402075Z"
    }
   },
   "outputs": [
    {
     "data": {
      "text/plain": [
       "[array([[10.        ,  0.        ],\n",
       "        [ 9.96086822,  0.88380105],\n",
       "        [ 9.84377914,  1.76068515],\n",
       "        [ 9.64964915,  2.62378951],\n",
       "        [ 9.37999756,  3.46635915],\n",
       "        [ 9.03693478,  4.28179984],\n",
       "        [ 8.62314573,  5.06372963],\n",
       "        [ 8.14186887,  5.80602888],\n",
       "        [ 7.59687085,  6.50288808],\n",
       "        [ 6.99241701,  7.14885336],\n",
       "        [ 6.33323803,  7.73886917],\n",
       "        [ 5.62449288,  8.26831784],\n",
       "        [ 4.87172844,  8.73305571],\n",
       "        [ 4.08083612,  9.12944558],\n",
       "        [ 3.25800573,  9.45438516],\n",
       "        [ 2.40967702,  9.70533135],\n",
       "        [ 1.54248933,  9.88032017],\n",
       "        [ 0.66322956,  9.97798209],\n",
       "        [-0.22122087,  9.99755277],\n",
       "        [-1.10393995,  9.93887904],\n",
       "        [-1.97801921,  9.80242011],\n",
       "        [-2.83661778,  9.58924395],\n",
       "        [-3.67301598,  9.30101896],\n",
       "        [-4.48066784,  8.94000088],\n",
       "        [-5.2532524 ,  8.50901517],\n",
       "        [-5.98472314,  8.01143489],\n",
       "        [-6.66935531,  7.45115426],\n",
       "        [-7.30179073,  6.83255825],\n",
       "        [-7.87707973,  6.1604882 ],\n",
       "        [-8.39071991,  5.44020398],\n",
       "        [-8.83869133,  4.67734279],\n",
       "        [-9.217488  ,  3.87787506],\n",
       "        [-9.52414533,  3.04805769],\n",
       "        [-9.75626332,  2.19438513],\n",
       "        [-9.91202531,  1.32353854],\n",
       "        [-9.99021227,  0.44233347],\n",
       "        [-9.99021227, -0.44233347],\n",
       "        [-9.91202531, -1.32353854],\n",
       "        [-9.75626332, -2.19438513],\n",
       "        [-9.52414533, -3.04805769],\n",
       "        [-9.217488  , -3.87787506],\n",
       "        [-8.83869133, -4.67734279],\n",
       "        [-8.39071991, -5.44020398],\n",
       "        [-7.87707973, -6.1604882 ],\n",
       "        [-7.30179073, -6.83255825],\n",
       "        [-6.66935531, -7.45115426],\n",
       "        [-5.98472314, -8.01143489],\n",
       "        [-5.2532524 , -8.50901517],\n",
       "        [-4.48066784, -8.94000088],\n",
       "        [-3.67301598, -9.30101896],\n",
       "        [-2.83661778, -9.58924395],\n",
       "        [-1.97801921, -9.80242011],\n",
       "        [-1.10393995, -9.93887904],\n",
       "        [-0.22122087, -9.99755277],\n",
       "        [ 0.66322956, -9.97798209],\n",
       "        [ 1.54248933, -9.88032017],\n",
       "        [ 2.40967702, -9.70533135],\n",
       "        [ 3.25800573, -9.45438516],\n",
       "        [ 4.08083612, -9.12944558],\n",
       "        [ 4.87172844, -8.73305571],\n",
       "        [ 5.62449288, -8.26831784],\n",
       "        [ 6.33323803, -7.73886917],\n",
       "        [ 6.99241701, -7.14885336],\n",
       "        [ 7.59687085, -6.50288808],\n",
       "        [ 8.14186887, -5.80602888],\n",
       "        [ 8.62314573, -5.06372963],\n",
       "        [ 9.03693478, -4.28179984],\n",
       "        [ 9.37999756, -3.46635915],\n",
       "        [ 9.64964915, -2.62378951],\n",
       "        [ 9.84377914, -1.76068515],\n",
       "        [ 9.96086822, -0.88380105]])]"
      ]
     },
     "execution_count": 16,
     "metadata": {},
     "output_type": "execute_result"
    }
   ],
   "source": [
    "rect.polygons"
   ]
  },
  {
   "cell_type": "code",
   "execution_count": null,
   "metadata": {},
   "outputs": [],
   "source": []
  }
 ],
 "metadata": {
  "kernelspec": {
   "display_name": "Python 3",
   "language": "python",
   "name": "python3"
  },
  "language_info": {
   "codemirror_mode": {
    "name": "ipython",
    "version": 3
   },
   "file_extension": ".py",
   "mimetype": "text/x-python",
   "name": "python",
   "nbconvert_exporter": "python",
   "pygments_lexer": "ipython3",
   "version": "3.7.3"
  },
  "toc": {
   "base_numbering": 1,
   "nav_menu": {},
   "number_sections": true,
   "sideBar": true,
   "skip_h1_title": false,
   "title_cell": "Table of Contents",
   "title_sidebar": "Contents",
   "toc_cell": false,
   "toc_position": {},
   "toc_section_display": true,
   "toc_window_display": false
  }
 },
 "nbformat": 4,
 "nbformat_minor": 2
}
