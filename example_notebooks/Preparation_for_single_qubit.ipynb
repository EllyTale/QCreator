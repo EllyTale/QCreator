{
 "cells": [
  {
   "cell_type": "code",
   "execution_count": 1,
   "metadata": {},
   "outputs": [],
   "source": [
    "import sys\n",
    "sys.path.append('..')\n",
    "import gdspy\n",
    "import numpy as np\n",
    "from importlib import reload\n",
    "#import libraries.conformal_mapping as cm\n",
    "#import libraries.general_design_functions as gdf\n",
    "#import libraries.general_sample_creator as creator\n",
    "#from  ..libraries import general_design_functions as gdf\n",
    "#fr\n",
    "from copy import deepcopy\n",
    "from QCreator import elements\n",
    "from QCreator import general_sample_creator as creator"
   ]
  },
  {
   "cell_type": "code",
   "execution_count": 13,
   "metadata": {},
   "outputs": [],
   "source": [
    "tl_core = 20\n",
    "tl_gap = 12\n",
    "tl_ground = 10\n",
    "\n",
    "resonator_core = 8\n",
    "resonator_gap = 7\n",
    "resonator_ground = 16\n",
    "\n",
    "pad_offset = 1000\n",
    "pad_element_offset = 1000\n",
    "\n",
    "coupler_start = pad_offset + pad_element_offset\n",
    "coupler_delta = 500\n",
    "coupler_length = 300\n",
    "num_couplers = 1\n",
    "\n",
    "grounding_width = 10\n",
    "reload(gdspy)\n",
    "reload(creator)\n",
    "reload(elements)\n",
    "\n",
    "layers_configuration = {\n",
    "    'total':0,\n",
    "    'restricted area':10,\n",
    "    'for removing':100,\n",
    "    'JJs':1,\n",
    "    'air bridges':2,\n",
    "    'air bridge pads':3,\n",
    "    'vertical gridlines':15,\n",
    "    'horizontal gridlines':16\n",
    "}\n",
    "sample = creator.Sample('4_qubits',layers_configuration)\n",
    "\n",
    "#specify sample vertical and horizontal lengths\n",
    "sample.chip_geometry.sample_vertical_size=4.7e3\n",
    "sample.chip_geometry.sample_horizontal_size=9.7e3\n",
    "\n",
    "central_line_y = sample.chip_geometry.sample_vertical_size/2\n",
    "\n",
    "ChichkovAB = elements.AirBridge(width=15, \n",
    "                                length=60, \n",
    "                                padsize=30, \n",
    "                                min_spacing = 30,\n",
    "                                layer_configuration=sample.layer_configuration)\n",
    "\n",
    "chip_edge_ground = elements.ChipEdgeGround(sample.chip_geometry, sample.layer_configuration, sample.pads)\n",
    "sample.add(chip_edge_ground)\n",
    "\n",
    "grid_ground = elements.GridGround(sample.chip_geometry, sample.layer_configuration, sample.objects, \n",
    "                                  width=4, period=500)\n",
    "sample.add(grid_ground)\n",
    "\n",
    "# 1. Create contact pads:\n",
    "\n",
    "p1 = elements.Pad('p1', (pad_offset,  central_line_y), np.pi, tl_core, tl_gap, tl_ground, \n",
    "                  layer_configuration=sample.layer_configuration, chip_geometry=sample.chip_geometry, \n",
    "                  **elements.default_pad_geometry())\n",
    "p2 = elements.Pad('p2', (sample.chip_geometry.sample_horizontal_size-pad_offset,  central_line_y), \n",
    "                  0, tl_core, tl_gap, tl_ground, \n",
    "                  layer_configuration=sample.layer_configuration, chip_geometry=sample.chip_geometry, \n",
    "                  **elements.default_pad_geometry())\n",
    "sample.add(p1)\n",
    "sample.add(p2)\n",
    "# 2. Create main coupler\n",
    "main_coupler = elements.CPWCoupler(name='TL-resonator coupler',\n",
    "                                   points=[(coupler_start, central_line_y), (coupler_start+coupler_length, central_line_y)],\n",
    "                                   w=[resonator_core, resonator_ground, tl_core],\n",
    "                                   s=[resonator_gap, resonator_gap, tl_gap, tl_gap],\n",
    "                                   g=tl_ground,\n",
    "                                   layer_configuration=sample.layer_configuration, r=100)\n",
    "sample.add(main_coupler)\n",
    "\n",
    "# 3. Create fanout to create closed end of resonator\n",
    "fanout_for_closed_end = sample.fanout(o=main_coupler, port='port1', name='closed end resonator fanout', grouping=[1,3])\n",
    "\n",
    "# 4. Create grounding for fanout closed end\n",
    "g1 = sample.ground(o=fanout_for_closed_end, port='center', name='cl1', grounding_width=grounding_width, grounding_between = [(2,3)])\n",
    "\n",
    "\n",
    "#5. Create a ground end for resonator\n",
    "\n",
    "resonator_ground = elements.RectGrounding(name='ground of resonator', position = (1989.0, 899.0), orientation= -1.571, w=8, s=7,\n",
    "                 g=10, grounding_width=grounding_width, grounding_between=[(0,2)],\n",
    "                 layer_configuration=sample.layer_configuration)\n",
    "\n",
    "sample.add(resonator_ground)\n",
    "\n",
    "#5. Create a meander from coupler to resonator ground\n",
    "\n",
    "resonator_meander = sample.connect_cpw(name='resonator meander', o1=fanout_for_closed_end, port1='up', o2=resonator_ground,\n",
    "                           port2='wide', points=[(2202, 1917), (1502, 2002)])\n",
    "\n",
    "#6. Create fanout for open end\n",
    "fanout_for_open_end = sample.fanout(o=main_coupler, port='port2', name='open end resonator fanout', grouping=[1, 3])\n",
    "\n",
    "#7.Create grounding for fanout openend\n",
    "g2 = sample.ground(o=fanout_for_open_end, port='center', name='cl2', grounding_width=10, grounding_between = [(0,1)])\n",
    "\n",
    "#8. Create open end\n",
    "open_end = elements.OpenEnd(name='open end',position=(2500,1729.0),\n",
    "                            w=[resonator_core],\n",
    "                            s=[resonator_gap, resonator_gap],\n",
    "                            g=tl_ground,\n",
    "                            orientation=-np.pi/2,\n",
    "                            layer_configuration=sample.layer_configuration,\n",
    "                            h1=20,\n",
    "                            h2=10)\n",
    "sample.add(open_end)\n",
    "\n",
    "#9. Create a meander from coupler to resonator ground\n",
    "\n",
    "resonator_open_end = sample.connect_cpw(name='open end', o1=fanout_for_open_end, port1='down', o2=open_end,\n",
    "                           port2='wide', points=[])\n",
    "#10. Create left and right TL to ports\n",
    "left_TL = sample.connect_cpw(o1=p1, o2=g1, port1='port', port2='narrow', name='left TL', points=[])\n",
    "right_TL = sample.connect_cpw(o1=p2, o2=g2, port1='port', port2='narrow', name='right TL', points=[])"
   ]
  },
  {
   "cell_type": "code",
   "execution_count": null,
   "metadata": {},
   "outputs": [],
   "source": [
    "design = sample.draw_design()\n",
    "sample.watch()"
   ]
  },
  {
   "cell_type": "code",
   "execution_count": 27,
   "metadata": {},
   "outputs": [
    {
     "data": {
      "text/plain": [
       "2411.5149949817414"
      ]
     },
     "execution_count": 27,
     "metadata": {},
     "output_type": "execute_result"
    }
   ],
   "source": [
    "resonator_meander.length"
   ]
  },
  {
   "cell_type": "code",
   "execution_count": 32,
   "metadata": {},
   "outputs": [
    {
     "data": {
      "text/plain": [
       "610.8072309317841"
      ]
     },
     "execution_count": 32,
     "metadata": {},
     "output_type": "execute_result"
    }
   ],
   "source": [
    "resonator_open_end.length"
   ]
  },
  {
   "cell_type": "code",
   "execution_count": 29,
   "metadata": {},
   "outputs": [
    {
     "data": {
      "text/plain": [
       "299.7979999326667"
      ]
     },
     "execution_count": 29,
     "metadata": {},
     "output_type": "execute_result"
    }
   ],
   "source": [
    "main_coupler.length"
   ]
  },
  {
   "cell_type": "code",
   "execution_count": 30,
   "metadata": {},
   "outputs": [
    {
     "data": {
      "text/plain": [
       "{'coupler': {'l': 11.0,\n",
       "  'w': [8, 16, 20],\n",
       "  's': [7, 7, 12, 12],\n",
       "  'g': 10,\n",
       "  'noc': 3},\n",
       " 'center': {'l': 11.0, 'w': [20, 16], 's': [12, 12, 7], 'g': 10, 'noc': 2},\n",
       " 'up': {'l': 21.0, 'w': [8], 's': [7, 7], 'g': 10, 'noc': 1}}"
      ]
     },
     "execution_count": 30,
     "metadata": {},
     "output_type": "execute_result"
    }
   ],
   "source": [
    "fanout_for_closed_end.finilize_points_for_tls()"
   ]
  },
  {
   "cell_type": "code",
   "execution_count": 31,
   "metadata": {},
   "outputs": [
    {
     "data": {
      "text/plain": [
       "{'coupler': {'l': 11.0,\n",
       "  'w': [8, 16, 20],\n",
       "  's': [7, 7, 12, 12],\n",
       "  'g': 10,\n",
       "  'noc': 3},\n",
       " 'center': {'l': 11.0, 'w': [16, 20], 's': [7, 12, 12], 'g': 10, 'noc': 2},\n",
       " 'down': {'l': 21.0, 'w': [8], 's': [7, 7], 'g': 10, 'noc': 1}}"
      ]
     },
     "execution_count": 31,
     "metadata": {},
     "output_type": "execute_result"
    }
   ],
   "source": [
    "fanout_for_open_end.finilize_points_for_tls()"
   ]
  },
  {
   "cell_type": "markdown",
   "metadata": {},
   "source": [
    "# Topology for https://smm.misis.ru/"
   ]
  },
  {
   "cell_type": "code",
   "execution_count": 25,
   "metadata": {},
   "outputs": [
    {
     "data": {
      "text/plain": [
       "'\\ncoupler w = [20, 16, 18], s = [12, 12, 7, 7]\\n'"
      ]
     },
     "execution_count": 25,
     "metadata": {},
     "output_type": "execute_result"
    }
   ],
   "source": [
    "'''\n",
    "coupler w = [20, 16, 18], s = [12, 12, 7, 7], l = 299 + 11 + 11\n",
    "closed end: l = 2411 + 21\n",
    "open end: l = 610.8 + 21\n",
    "'''"
   ]
  },
  {
   "cell_type": "code",
   "execution_count": 16,
   "metadata": {},
   "outputs": [
    {
     "data": {
      "text/plain": [
       "610.8072309317841"
      ]
     },
     "execution_count": 16,
     "metadata": {},
     "output_type": "execute_result"
    }
   ],
   "source": [
    "resonator_open_end.length"
   ]
  },
  {
   "cell_type": "code",
   "execution_count": 17,
   "metadata": {},
   "outputs": [],
   "source": [
    "sys, connections, elements_ = sample.get_tls()"
   ]
  },
  {
   "cell_type": "code",
   "execution_count": 18,
   "metadata": {},
   "outputs": [
    {
     "data": {
      "text/plain": [
       "[Port p1,\n",
       " Port p2,\n",
       " TL TL-resonator coupler (n=3),\n",
       " TL closed end resonator fanout_coupled_line_0 (n=3),\n",
       " TL closed end resonator fanout_line_1 (n=2),\n",
       " TL closed end resonator fanout_line_2 (n=1),\n",
       " R cl10,\n",
       " TL cl1 (n=1),\n",
       " Short ,\n",
       " TL resonator meander (n=1),\n",
       " TL open end resonator fanout_coupled_line_0 (n=3),\n",
       " TL open end resonator fanout_line_1 (n=2),\n",
       " TL open end resonator fanout_line_2 (n=1),\n",
       " R cl20,\n",
       " TL cl2 (n=1),\n",
       " C open_end,\n",
       " TL open end (n=1),\n",
       " TL left TL (n=1),\n",
       " TL right TL (n=1)]"
      ]
     },
     "execution_count": 18,
     "metadata": {},
     "output_type": "execute_result"
    }
   ],
   "source": [
    "sys.elements"
   ]
  },
  {
   "cell_type": "code",
   "execution_count": 19,
   "metadata": {},
   "outputs": [
    {
     "data": {
      "text/plain": [
       "[[15],\n",
       " [17],\n",
       " [1, 2, 3, 8, 9, 10],\n",
       " [1, 2, 3, 19, 20, 21],\n",
       " [19, 20, 4, 5],\n",
       " [21, 6],\n",
       " [5, 0],\n",
       " [4, 16],\n",
       " [7],\n",
       " [6, 7],\n",
       " [8, 9, 10, 22, 23, 24],\n",
       " [22, 23, 12, 11],\n",
       " [24, 13],\n",
       " [11, 0],\n",
       " [12, 18],\n",
       " [14, 0],\n",
       " [13, 14],\n",
       " [15, 16],\n",
       " [17, 18]]"
      ]
     },
     "execution_count": 19,
     "metadata": {},
     "output_type": "execute_result"
    }
   ],
   "source": [
    "sys.terminal_node_mapping"
   ]
  },
  {
   "cell_type": "code",
   "execution_count": 20,
   "metadata": {},
   "outputs": [
    {
     "name": "stdout",
     "output_type": "stream",
     "text": [
      "Port p1 [15]\n",
      "Port p2 [17]\n",
      "TL TL-resonator coupler (n=3) [1, 2, 3, 8, 9, 10]\n",
      "TL closed end resonator fanout_coupled_line_0 (n=3) [1, 2, 3, 19, 20, 21]\n",
      "TL closed end resonator fanout_line_1 (n=2) [19, 20, 4, 5]\n",
      "TL closed end resonator fanout_line_2 (n=1) [21, 6]\n",
      "R cl10 [5, 0]\n",
      "TL cl1 (n=1) [4, 16]\n",
      "Short  [7]\n",
      "TL resonator meander (n=1) [6, 7]\n",
      "TL open end resonator fanout_coupled_line_0 (n=3) [8, 9, 10, 22, 23, 24]\n",
      "TL open end resonator fanout_line_1 (n=2) [22, 23, 12, 11]\n",
      "TL open end resonator fanout_line_2 (n=1) [24, 13]\n",
      "R cl20 [11, 0]\n",
      "TL cl2 (n=1) [12, 18]\n",
      "C open_end [14, 0]\n",
      "TL open end (n=1) [13, 14]\n",
      "TL left TL (n=1) [15, 16]\n",
      "TL right TL (n=1) [17, 18]\n"
     ]
    }
   ],
   "source": [
    "for elem in range(len(sys.elements)):\n",
    "    print(sys.elements[elem], sys.terminal_node_mapping[elem])"
   ]
  },
  {
   "cell_type": "code",
   "execution_count": 21,
   "metadata": {},
   "outputs": [],
   "source": [
    "f, delta, modes = sys.get_modes()"
   ]
  },
  {
   "cell_type": "code",
   "execution_count": 46,
   "metadata": {},
   "outputs": [
    {
     "data": {
      "text/plain": [
       "8.888397382525735"
      ]
     },
     "execution_count": 46,
     "metadata": {},
     "output_type": "execute_result"
    }
   ],
   "source": [
    "f[1]/(2*np.pi) / 1e9 # frequency in GHz"
   ]
  },
  {
   "cell_type": "code",
   "execution_count": 37,
   "metadata": {},
   "outputs": [
    {
     "data": {
      "text/plain": [
       "728360.9067094625"
      ]
     },
     "execution_count": 37,
     "metadata": {},
     "output_type": "execute_result"
    }
   ],
   "source": [
    "delta[1]/(2*np.pi) / 2 # decay rate in MHz"
   ]
  },
  {
   "cell_type": "code",
   "execution_count": 39,
   "metadata": {},
   "outputs": [
    {
     "data": {
      "text/plain": [
       "12203.287272351161"
      ]
     },
     "execution_count": 39,
     "metadata": {},
     "output_type": "execute_result"
    }
   ],
   "source": [
    "Q = (f[1]/(2*np.pi)) / (delta[1]/(2*np.pi) / 2)\n",
    "Q # quality factor"
   ]
  },
  {
   "cell_type": "code",
   "execution_count": 24,
   "metadata": {},
   "outputs": [
    {
     "name": "stderr",
     "output_type": "stream",
     "text": [
      "../QCreator/general_sample_creator.py:387: FutureWarning: `rcond` parameter will change to the default of machine precision times ``max(M, N)`` where M and N are the input matrix dimensions.\n",
      "To use the future default and silence this warning we advise to pass `rcond=None`, to keep using the old, explicitly pass `rcond=-1`.\n",
      "  s.append(np.linalg.lstsq(m, boundary)[0][a2[0]])\n"
     ]
    },
    {
     "data": {
      "text/plain": [
       "[<matplotlib.lines.Line2D at 0x7f27cd93c438>]"
      ]
     },
     "execution_count": 24,
     "metadata": {},
     "output_type": "execute_result"
    },
    {
     "data": {
      "image/png": "[encoded data removed]",
      "text/plain": [
       "<Figure size 432x288 with 1 Axes>"
      ]
     },
     "metadata": {
      "needs_background": "light"
     },
     "output_type": "display_data"
    }
   ],
   "source": [
    "f_ = np.linspace(7.8e9, 9.0e9, 2001)\n",
    "s21 = sample.get_s21('p1', 'p2', f_)\n",
    "from matplotlib import pyplot as plt\n",
    "plt.plot(f_, np.abs(s21))"
   ]
  },
  {
   "cell_type": "code",
   "execution_count": 40,
   "metadata": {},
   "outputs": [
    {
     "data": {
      "text/plain": [
       "[<matplotlib.lines.Line2D at 0x7f27cc641f60>]"
      ]
     },
     "execution_count": 40,
     "metadata": {},
     "output_type": "execute_result"
    },
    {
     "data": {
      "image/png": "[encoded data removed]",
      "text/plain": [
       "<Figure size 432x288 with 1 Axes>"
      ]
     },
     "metadata": {
      "needs_background": "light"
     },
     "output_type": "display_data"
    }
   ],
   "source": [
    "plt.plot(f_, np.angle(s21))"
   ]
  },
  {
   "cell_type": "code",
   "execution_count": 41,
   "metadata": {},
   "outputs": [
    {
     "data": {
      "text/plain": [
       "[<matplotlib.lines.Line2D at 0x7f27cd916cc0>]"
      ]
     },
     "execution_count": 41,
     "metadata": {},
     "output_type": "execute_result"
    },
    {
     "data": {
      "image/png": "[encoded data removed]",
      "text/plain": [
       "<Figure size 432x288 with 1 Axes>"
      ]
     },
     "metadata": {
      "needs_background": "light"
     },
     "output_type": "display_data"
    }
   ],
   "source": [
    "plt.plot(s21.real, s21.imag)"
   ]
  },
  {
   "cell_type": "code",
   "execution_count": 42,
   "metadata": {},
   "outputs": [],
   "source": [
    "import resonator_tools\n",
    "from resonator_tools.circuit import notch_port, reflection_port"
   ]
  },
  {
   "cell_type": "code",
   "execution_count": 43,
   "metadata": {},
   "outputs": [],
   "source": [
    "fitter = notch_port(f_data=f_, z_data_raw=s21)"
   ]
  },
  {
   "cell_type": "code",
   "execution_count": 44,
   "metadata": {},
   "outputs": [],
   "source": [
    "fitter.autofit()"
   ]
  },
  {
   "cell_type": "code",
   "execution_count": 45,
   "metadata": {},
   "outputs": [
    {
     "data": {
      "text/plain": [
       "{'Qi_dia_corr': 1198095938.715782,\n",
       " 'Qi_no_corr': -6852903.184310759,\n",
       " 'absQc': 2706.0123598305254,\n",
       " 'Qc_dia_corr': 2707.087424212836,\n",
       " 'Ql': 2707.081307586006,\n",
       " 'fr': 8870154347.400578,\n",
       " 'theta0': -3.1134091184351247,\n",
       " 'phi0': 0.028183535181023102,\n",
       " 'chi_square': 9.801767279358804e-06,\n",
       " 'delay': 6.540304863217369e-11,\n",
       " 'a': 0.9996005334742273,\n",
       " 'alpha': -3.064180206622535}"
      ]
     },
     "execution_count": 45,
     "metadata": {},
     "output_type": "execute_result"
    }
   ],
   "source": [
    "fitter.fitresults"
   ]
  },
  {
   "cell_type": "code",
   "execution_count": null,
   "metadata": {},
   "outputs": [],
   "source": []
  }
 ],
 "metadata": {
  "kernelspec": {
   "display_name": "Python 3",
   "language": "python",
   "name": "python3"
  },
  "language_info": {
   "codemirror_mode": {
    "name": "ipython",
    "version": 3
   },
   "file_extension": ".py",
   "mimetype": "text/x-python",
   "name": "python",
   "nbconvert_exporter": "python",
   "pygments_lexer": "ipython3",
   "version": "3.7.3"
  }
 },
 "nbformat": 4,
 "nbformat_minor": 2
}
