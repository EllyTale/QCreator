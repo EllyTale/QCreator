{
 "cells": [
  {
   "cell_type": "code",
   "execution_count": 1,
   "metadata": {},
   "outputs": [],
   "source": [
    "import sys\n",
    "sys.path.append('..')\n",
    "import gdspy\n",
    "import numpy as np\n",
    "from importlib import reload\n",
    "#import libraries.conformal_mapping as cm\n",
    "#import libraries.general_design_functions as gdf\n",
    "#import libraries.general_sample_creator as creator\n",
    "#from  ..libraries import general_design_functions as gdf\n",
    "#fr\n",
    "from copy import deepcopy\n",
    "from QCreator import elements\n",
    "from QCreator import general_sample_creator as creator"
   ]
  },
  {
   "cell_type": "code",
   "execution_count": 2,
   "metadata": {},
   "outputs": [],
   "source": [
    "watch=lambda: gdspy.LayoutViewer(depth=0,pattern={'default': 8},background='#FFFFFF') #this opens a viewer"
   ]
  },
  {
   "cell_type": "code",
   "execution_count": 3,
   "metadata": {},
   "outputs": [],
   "source": [
    "tl_core = 20.\n",
    "tl_gap = 12.\n",
    "tl_ground = 10.\n",
    "\n",
    "resonator_core = 8\n",
    "resonator_gap = 7\n",
    "resonator_ground = 16\n",
    "\n",
    "pad_offset = 1000\n",
    "pad_element_offset = 1000\n",
    "\n",
    "coupler_start = pad_offset + pad_element_offset\n",
    "coupler_delta = 500\n",
    "coupler_length = 300\n",
    "num_couplers = 1"
   ]
  },
  {
   "cell_type": "markdown",
   "metadata": {},
   "source": [
    "# Transmission line with resonator (failed version)"
   ]
  },
  {
   "cell_type": "code",
   "execution_count": 4,
   "metadata": {},
   "outputs": [],
   "source": [
    "reload(gdspy)\n",
    "reload(creator)\n",
    "reload(elements)\n",
    "\n",
    "layers_configuration = {\n",
    "    'total':0,\n",
    "    'restricted area':10,\n",
    "    'for removing':100,\n",
    "    'JJs':1,\n",
    "    'air bridges':2,\n",
    "    'air bridge pads':3,\n",
    "    'vertical gridlines':15,\n",
    "    'horizontal gridlines':16\n",
    "}\n",
    "sample = creator.Sample('4_qubits',layers_configuration)\n",
    "\n",
    "#specify sample vertical and horizontal lengths\n",
    "sample.chip_geometry.sample_vertical_size=4.7e3\n",
    "sample.chip_geometry.sample_horizontal_size=9.7e3\n",
    "\n",
    "central_line_y = sample.chip_geometry.sample_vertical_size/2\n",
    "\n",
    "ChichkovAB = elements.AirBridge(width=15, \n",
    "                                length=60, \n",
    "                                padsize=30, \n",
    "                                min_spacing = 30,\n",
    "                                layer_configuration=sample.layer_configuration)\n",
    "\n",
    "chip_edge_ground = elements.ChipEdgeGround(sample.chip_geometry, sample.layer_configuration, sample.pads)\n",
    "sample.add(chip_edge_ground)\n",
    "\n",
    "grid_ground = elements.GridGround(sample.chip_geometry, sample.layer_configuration, sample.objects, \n",
    "                                  width=4, period=500)\n",
    "sample.add(grid_ground)\n",
    "\n",
    "# 1. Create contact pads:\n",
    "\n",
    "p1 = elements.Pad('p1', (pad_offset,  central_line_y), np.pi, tl_core, tl_gap, tl_ground, \n",
    "                  layer_configuration=sample.layer_configuration, chip_geometry=sample.chip_geometry, \n",
    "                  **elements.default_pad_geometry())\n",
    "p2 = elements.Pad('p2', (sample.chip_geometry.sample_horizontal_size-pad_offset,  central_line_y), \n",
    "                  0, tl_core, tl_gap, tl_ground, \n",
    "                  layer_configuration=sample.layer_configuration, chip_geometry=sample.chip_geometry, \n",
    "                  **elements.default_pad_geometry())\n",
    "sample.add(p1)\n",
    "sample.add(p2)\n",
    "\n",
    "def draw_single_resonator(coupler_start_x, coupler_start_y, coupler_length,\n",
    "                         resonator_core, resonator_ground, tl_core, resonator_gap, tl_gap, grounding_width,\n",
    "                         closed_end_meander_length, open_length):\n",
    "    # 2. Create main copler:\n",
    "\n",
    "    main_coupler = elements.CPWCoupler('TL-resonator coupler', [(coupler_start, central_line_y), \n",
    "                                                                (coupler_start+coupler_length, central_line_y)],\n",
    "                                       [resonator_core, resonator_ground, tl_core],[resonator_gap, resonator_gap, tl_gap, tl_gap],\n",
    "                                       tl_ground, sample.layer_configuration, r=100)\n",
    "    sample.add(main_coupler)\n",
    "\n",
    "    # 3. Create fanout to create closed enfd of resonator\n",
    "    fanout_for_closed_end = sample.fanout(o=main_coupler, port='port1', name='closed end resonator fanout', grouping=[1, 3])\n",
    "\n",
    "    # 4. \n",
    "    g1 = sample.ground(o=fanout_for_closed_end, port='center', name='cl1', grounding_width=grounding_width, grounding_between = [(2,3)])\n",
    "\n",
    "    # 6. Create closed meander of resonator\n",
    "    closed_end_meander = sample.connect_meander(name='closed end', o1=fanout_for_closed_end, port1='up',\n",
    "                                                meander_length=closed_end_meander_length,restricted_scale=400, constant_scale=900, radius=0)\n",
    "\n",
    "    # 7. Create fanout to create closed enfd of resonator\n",
    "    fanout_for_open_end = sample.fanout(o=main_coupler, port='port2', name='open end resonator fanout', grouping=[1, 3])\n",
    "\n",
    "    # 8. \n",
    "    g2 = sample.ground(o=fanout_for_open_end, port='center', name='cl2', grounding_width=10, grounding_between = [(0,1)])\n",
    "\n",
    "\n",
    "    # 10. Create closed meander of resonator\n",
    "    open_end_resonator = elements.CPW(name='open end resonator', points=[fanout_for_open_end.get_terminals()['down'].position, \n",
    "                                                                         (fanout_for_open_end.get_terminals()['down'].position[0],\n",
    "                                                                          fanout_for_open_end.get_terminals()['down'].position[1]-open_length)],\n",
    "                                      w=fanout_for_open_end.get_terminals()['down'].w, s=fanout_for_open_end.get_terminals()['down'].s,\n",
    "                                      g=fanout_for_open_end.get_terminals()['down'].g, layer_configuration=sample.layer_configuration, r=25)\n",
    "    sample.add(open_end_resonator)\n",
    "    sample.connections.append(((fanout_for_open_end, 'down', 0), (open_end_resonator, 'port1', 0)))\n",
    "\n",
    "    # 11. Create grounding of resonator\n",
    "    resonator_ground_ = sample.ground(o=closed_end_meander, port='port2', name='resonator ground', grounding_width=30, grounding_between = [(0,2)])\n",
    "    \n",
    "    return g1, g2"
   ]
  },
  {
   "cell_type": "code",
   "execution_count": 5,
   "metadata": {},
   "outputs": [],
   "source": [
    "def draw_double_resonator(coupler_start_x, coupler_start_y, coupler_length,\n",
    "                         resonator_core, resonator_ground, tl_core, resonator_gap, tl_gap, grounding_width,\n",
    "                         closed_end_meander_length1, open_length1, closed_end_meander_length2, open_length2):\n",
    "    # 2. Create main copler:\n",
    "\n",
    "    main_coupler = elements.CPWCoupler('TL-resonator coupler', [(coupler_start_x, central_line_y), \n",
    "                                                                (coupler_start_x+coupler_length, central_line_y)],\n",
    "                                       [resonator_core, resonator_ground, tl_core, resonator_ground, resonator_core],\n",
    "                                       [resonator_gap, resonator_gap, tl_gap, tl_gap, resonator_gap, resonator_gap],\n",
    "                                       tl_ground, sample.layer_configuration, r=100)\n",
    "    sample.add(main_coupler)\n",
    "\n",
    "    # 3. Create fanout to create closed end of resonator\n",
    "    fanout_for_closed_end = sample.fanout(o=main_coupler, port='port1', name='closed end resonator fanout', grouping=[1, 4])\n",
    "\n",
    "    # 4. \n",
    "    g1 = sample.ground(o=fanout_for_closed_end, port='center', name='cl1', grounding_width=grounding_width, grounding_between = [(0,1), (3,4)])\n",
    "\n",
    "    # 6. Create closed meander of resonator\n",
    "    closed_end_meander1 = sample.connect_meander(name='closed end 1', o1=fanout_for_closed_end, port1='up',\n",
    "                                                meander_length=closed_end_meander_length1,restricted_scale=400, constant_scale=900, radius=0)\n",
    "    \n",
    "    closed_end_meander2 = sample.connect_meander(name='closed end 2', o1=fanout_for_closed_end, port1='down',\n",
    "                                                meander_length=closed_end_meander_length2,restricted_scale=400, constant_scale=900, radius=0)\n",
    "\n",
    "    # 7. Create fanout to create closed enfd of resonator\n",
    "    fanout_for_open_end = sample.fanout(o=main_coupler, port='port2', name='open end resonator fanout', grouping=[1, 4])\n",
    "\n",
    "    # 8. \n",
    "    g2 = sample.ground(o=fanout_for_open_end, port='center', name='cl2', grounding_width=10, grounding_between = [(0,1), (3,4)])\n",
    "\n",
    "    # 10. Create closed meander of resonator\n",
    "    open_end_resonator1 = elements.CPW(name='open end resonator 1', points=[fanout_for_open_end.get_terminals()['down'].position, \n",
    "                                                                         (fanout_for_open_end.get_terminals()['down'].position[0],\n",
    "                                                                          fanout_for_open_end.get_terminals()['down'].position[1]-open_length1)],\n",
    "                                      w=fanout_for_open_end.get_terminals()['down'].w, s=fanout_for_open_end.get_terminals()['down'].s,\n",
    "                                      g=fanout_for_open_end.get_terminals()['down'].g, layer_configuration=sample.layer_configuration, r=25)\n",
    "    sample.add(open_end_resonator1)\n",
    "    sample.connections.append(((fanout_for_open_end, 'down', 0), (open_end_resonator1, 'port1', 0)))\n",
    "    sample.open_end(open_end_resonator1, 'port2', 'open end1')\n",
    "    \n",
    "    open_end_resonator2 = elements.CPW(name='open end resonator 2', points=[fanout_for_open_end.get_terminals()['up'].position, \n",
    "                                                                         (fanout_for_open_end.get_terminals()['up'].position[0],\n",
    "                                                                          fanout_for_open_end.get_terminals()['up'].position[1]+open_length2)],\n",
    "                                      w=fanout_for_open_end.get_terminals()['up'].w, s=fanout_for_open_end.get_terminals()['up'].s,\n",
    "                                      g=fanout_for_open_end.get_terminals()['up'].g, layer_configuration=sample.layer_configuration, r=25)\n",
    "    sample.add(open_end_resonator2)\n",
    "    sample.connections.append(((fanout_for_open_end, 'up', 0), (open_end_resonator2, 'port1', 0)))\n",
    "    sample.open_end(open_end_resonator2, 'port2', 'open end2')\n",
    "\n",
    "    # 11. Create grounding of resonator\n",
    "    resonator_ground_1 = sample.ground(o=closed_end_meander1, port='port2', name='resonator ground 1', grounding_width=30, grounding_between = [(0,2)])\n",
    "    resonator_ground_2 = sample.ground(o=closed_end_meander2, port='port2', name='resonator ground 2', grounding_width=30, grounding_between = [(0,2)])\n",
    "    \n",
    "    return g1, g2"
   ]
  },
  {
   "cell_type": "code",
   "execution_count": 6,
   "metadata": {},
   "outputs": [],
   "source": [
    "#g1, g2 = draw_single_resonator(coupler_start, central_line_y, coupler_length,\n",
    "#                         resonator_core, resonator_ground, tl_core, resonator_gap, tl_gap, grounding_width=10,\n",
    "#                         closed_end_meander_length=2300, open_length=1000)\n",
    "g1, g2 = draw_double_resonator(coupler_start, central_line_y, coupler_length,\n",
    "                         resonator_core, resonator_ground, tl_core, resonator_gap, tl_gap, grounding_width=10,\n",
    "                         closed_end_meander_length1=2300, open_length1=1000, \n",
    "                         closed_end_meander_length2=2400, open_length2=1100)\n",
    "\n",
    "g3, g4 = draw_double_resonator(coupler_start+2000, central_line_y, coupler_length,\n",
    "                         resonator_core, resonator_ground, tl_core, resonator_gap, tl_gap, grounding_width=10,\n",
    "                         closed_end_meander_length1=2500, open_length1=1000, \n",
    "                         closed_end_meander_length2=2600, open_length2=1100)\n",
    "\n",
    "# 5. Create left part of transmission line\n",
    "left_TL = sample.connect_cpw(o1=p1, o2=g1, port1='port', port2='narrow', name='left TL', points=[])\n",
    "\n",
    "middle_TL = sample.connect_cpw(o1=g2, o2=g3, port1='narrow', port2='narrow', name='center TL', points=[])\n",
    "# 9. Create left part of transmission line\n",
    "right_TL = sample.connect_cpw(o1=p2, o2=g4, port1='port', port2='narrow', name='right TL', points=[])"
   ]
  },
  {
   "cell_type": "code",
   "execution_count": 7,
   "metadata": {},
   "outputs": [
    {
     "name": "stderr",
     "output_type": "stream",
     "text": [
      "/home/alena/anaconda3/lib/python3.7/site-packages/gdspy/path.py:828: UserWarning: [GDSPY] Possible inconsistency found in `FlexPath` due to sharp corner.\n",
      "  \"[GDSPY] Possible inconsistency found in \"\n",
      "/home/alena/anaconda3/lib/python3.7/site-packages/ipykernel_launcher.py:1: DeprecationWarning: [GDSPY] Use of the global library is deprecated.  Pass LayoutViewer a GdsLibrary instance.\n",
      "  \"\"\"Entry point for launching an IPython kernel.\n"
     ]
    },
    {
     "data": {
      "text/plain": [
       "<gdspy.viewer.LayoutViewer object .!layoutviewer>"
      ]
     },
     "execution_count": 7,
     "metadata": {},
     "output_type": "execute_result"
    }
   ],
   "source": [
    "design = sample.draw_design()\n",
    "watch()"
   ]
  },
  {
   "cell_type": "code",
   "execution_count": 7,
   "metadata": {},
   "outputs": [
    {
     "data": {
      "text/plain": [
       "[((CPWCoupler \"TL-resonator coupler\", n=5, l=299.760, 'port1', 0),\n",
       "  (RectFanout closed end resonator fanout, n=5, grouping=(1, 4), 'wide', 0)),\n",
       " ((CPWCoupler \"TL-resonator coupler\", n=5, l=299.760, 'port1', 1),\n",
       "  (RectFanout closed end resonator fanout, n=5, grouping=(1, 4), 'wide', 1)),\n",
       " ((CPWCoupler \"TL-resonator coupler\", n=5, l=299.760, 'port1', 2),\n",
       "  (RectFanout closed end resonator fanout, n=5, grouping=(1, 4), 'wide', 2)),\n",
       " ((CPWCoupler \"TL-resonator coupler\", n=5, l=299.760, 'port1', 3),\n",
       "  (RectFanout closed end resonator fanout, n=5, grouping=(1, 4), 'wide', 3)),\n",
       " ((CPWCoupler \"TL-resonator coupler\", n=5, l=299.760, 'port1', 4),\n",
       "  (RectFanout closed end resonator fanout, n=5, grouping=(1, 4), 'wide', 4)),\n",
       " ((RectFanout closed end resonator fanout, n=5, grouping=(1, 4), 'center', 0),\n",
       "  (RectGrounding cl1, 'wide', 0)),\n",
       " ((RectFanout closed end resonator fanout, n=5, grouping=(1, 4), 'center', 1),\n",
       "  (RectGrounding cl1, 'wide', 1)),\n",
       " ((RectFanout closed end resonator fanout, n=5, grouping=(1, 4), 'center', 2),\n",
       "  (RectGrounding cl1, 'wide', 2)),\n",
       " ((CPW \"closed end 1\", l=2299.958, 'port1', 0),\n",
       "  (RectFanout closed end resonator fanout, n=5, grouping=(1, 4), 'up', 0)),\n",
       " ((CPW \"closed end 2\", l=2399.958, 'port1', 0),\n",
       "  (RectFanout closed end resonator fanout, n=5, grouping=(1, 4), 'down', 0)),\n",
       " ((CPWCoupler \"TL-resonator coupler\", n=5, l=299.760, 'port2', 0),\n",
       "  (RectFanout open end resonator fanout, n=5, grouping=(1, 4), 'wide', 0)),\n",
       " ((CPWCoupler \"TL-resonator coupler\", n=5, l=299.760, 'port2', 1),\n",
       "  (RectFanout open end resonator fanout, n=5, grouping=(1, 4), 'wide', 1)),\n",
       " ((CPWCoupler \"TL-resonator coupler\", n=5, l=299.760, 'port2', 2),\n",
       "  (RectFanout open end resonator fanout, n=5, grouping=(1, 4), 'wide', 2)),\n",
       " ((CPWCoupler \"TL-resonator coupler\", n=5, l=299.760, 'port2', 3),\n",
       "  (RectFanout open end resonator fanout, n=5, grouping=(1, 4), 'wide', 3)),\n",
       " ((CPWCoupler \"TL-resonator coupler\", n=5, l=299.760, 'port2', 4),\n",
       "  (RectFanout open end resonator fanout, n=5, grouping=(1, 4), 'wide', 4)),\n",
       " ((RectFanout open end resonator fanout, n=5, grouping=(1, 4), 'center', 0),\n",
       "  (RectGrounding cl2, 'wide', 0)),\n",
       " ((RectFanout open end resonator fanout, n=5, grouping=(1, 4), 'center', 1),\n",
       "  (RectGrounding cl2, 'wide', 1)),\n",
       " ((RectFanout open end resonator fanout, n=5, grouping=(1, 4), 'center', 2),\n",
       "  (RectGrounding cl2, 'wide', 2)),\n",
       " ((RectFanout open end resonator fanout, n=5, grouping=(1, 4), 'down', 0),\n",
       "  (CPW \"open end resonator 1\", l=999.933, 'port1', 0)),\n",
       " ((RectFanout open end resonator fanout, n=5, grouping=(1, 4), 'up', 0),\n",
       "  (CPW \"open end resonator 2\", l=1099.933, 'port1', 0)),\n",
       " ((CPW \"closed end 1\", l=2299.958, 'port2', 0),\n",
       "  (RectGrounding resonator ground 1, 'wide', 0)),\n",
       " ((CPW \"closed end 2\", l=2399.958, 'port2', 0),\n",
       "  (RectGrounding resonator ground 2, 'wide', 0)),\n",
       " ((CPWCoupler \"TL-resonator coupler\", n=5, l=299.760, 'port1', 0),\n",
       "  (RectFanout closed end resonator fanout, n=5, grouping=(1, 4), 'wide', 0)),\n",
       " ((CPWCoupler \"TL-resonator coupler\", n=5, l=299.760, 'port1', 1),\n",
       "  (RectFanout closed end resonator fanout, n=5, grouping=(1, 4), 'wide', 1)),\n",
       " ((CPWCoupler \"TL-resonator coupler\", n=5, l=299.760, 'port1', 2),\n",
       "  (RectFanout closed end resonator fanout, n=5, grouping=(1, 4), 'wide', 2)),\n",
       " ((CPWCoupler \"TL-resonator coupler\", n=5, l=299.760, 'port1', 3),\n",
       "  (RectFanout closed end resonator fanout, n=5, grouping=(1, 4), 'wide', 3)),\n",
       " ((CPWCoupler \"TL-resonator coupler\", n=5, l=299.760, 'port1', 4),\n",
       "  (RectFanout closed end resonator fanout, n=5, grouping=(1, 4), 'wide', 4)),\n",
       " ((RectFanout closed end resonator fanout, n=5, grouping=(1, 4), 'center', 0),\n",
       "  (RectGrounding cl1, 'wide', 0)),\n",
       " ((RectFanout closed end resonator fanout, n=5, grouping=(1, 4), 'center', 1),\n",
       "  (RectGrounding cl1, 'wide', 1)),\n",
       " ((RectFanout closed end resonator fanout, n=5, grouping=(1, 4), 'center', 2),\n",
       "  (RectGrounding cl1, 'wide', 2)),\n",
       " ((CPW \"closed end 1\", l=2299.958, 'port1', 0),\n",
       "  (RectFanout closed end resonator fanout, n=5, grouping=(1, 4), 'up', 0)),\n",
       " ((CPW \"closed end 2\", l=2399.958, 'port1', 0),\n",
       "  (RectFanout closed end resonator fanout, n=5, grouping=(1, 4), 'down', 0)),\n",
       " ((CPWCoupler \"TL-resonator coupler\", n=5, l=299.760, 'port2', 0),\n",
       "  (RectFanout open end resonator fanout, n=5, grouping=(1, 4), 'wide', 0)),\n",
       " ((CPWCoupler \"TL-resonator coupler\", n=5, l=299.760, 'port2', 1),\n",
       "  (RectFanout open end resonator fanout, n=5, grouping=(1, 4), 'wide', 1)),\n",
       " ((CPWCoupler \"TL-resonator coupler\", n=5, l=299.760, 'port2', 2),\n",
       "  (RectFanout open end resonator fanout, n=5, grouping=(1, 4), 'wide', 2)),\n",
       " ((CPWCoupler \"TL-resonator coupler\", n=5, l=299.760, 'port2', 3),\n",
       "  (RectFanout open end resonator fanout, n=5, grouping=(1, 4), 'wide', 3)),\n",
       " ((CPWCoupler \"TL-resonator coupler\", n=5, l=299.760, 'port2', 4),\n",
       "  (RectFanout open end resonator fanout, n=5, grouping=(1, 4), 'wide', 4)),\n",
       " ((RectFanout open end resonator fanout, n=5, grouping=(1, 4), 'center', 0),\n",
       "  (RectGrounding cl2, 'wide', 0)),\n",
       " ((RectFanout open end resonator fanout, n=5, grouping=(1, 4), 'center', 1),\n",
       "  (RectGrounding cl2, 'wide', 1)),\n",
       " ((RectFanout open end resonator fanout, n=5, grouping=(1, 4), 'center', 2),\n",
       "  (RectGrounding cl2, 'wide', 2)),\n",
       " ((RectFanout open end resonator fanout, n=5, grouping=(1, 4), 'down', 0),\n",
       "  (CPW \"open end resonator 1\", l=999.933, 'port1', 0)),\n",
       " ((RectFanout open end resonator fanout, n=5, grouping=(1, 4), 'up', 0),\n",
       "  (CPW \"open end resonator 2\", l=1099.933, 'port1', 0)),\n",
       " ((CPW \"closed end 1\", l=2299.958, 'port2', 0),\n",
       "  (RectGrounding resonator ground 1, 'wide', 0)),\n",
       " ((CPW \"closed end 2\", l=2399.958, 'port2', 0),\n",
       "  (RectGrounding resonator ground 2, 'wide', 0)),\n",
       " ((CPW \"left TL\", l=967.808, 'port1', 0),\n",
       "  (<QCreator.elements.pad.Pad at 0x1e3bdf83880>, 'port', 0)),\n",
       " ((CPW \"left TL\", l=967.808, 'port2', 0), (RectGrounding cl1, 'narrow', 0)),\n",
       " ((CPW \"center TL\", l=1635.808, 'port1', 0), (RectGrounding cl2, 'narrow', 0)),\n",
       " ((CPW \"center TL\", l=1635.808, 'port2', 0), (RectGrounding cl1, 'narrow', 0)),\n",
       " ((CPW \"right TL\", l=4367.808, 'port1', 0),\n",
       "  (<QCreator.elements.pad.Pad at 0x1e3bc37f760>, 'port', 0)),\n",
       " ((CPW \"right TL\", l=4367.808, 'port2', 0), (RectGrounding cl2, 'narrow', 0))]"
      ]
     },
     "execution_count": 7,
     "metadata": {},
     "output_type": "execute_result"
    }
   ],
   "source": [
    "sample.connections"
   ]
  },
  {
   "cell_type": "code",
   "execution_count": 8,
   "metadata": {},
   "outputs": [
    {
     "data": {
      "text/plain": [
       "[<QCreator.elements.chip_edge_ground.ChipEdgeGround at 0x1e3bc4919a0>,\n",
       " <QCreator.elements.grid_ground.GridGround at 0x1e3bc37f7f0>,\n",
       " <QCreator.elements.pad.Pad at 0x1e3bdf83880>,\n",
       " <QCreator.elements.pad.Pad at 0x1e3bc37f760>,\n",
       " CPWCoupler \"TL-resonator coupler\", n=5, l=299.760,\n",
       " RectFanout closed end resonator fanout, n=5, grouping=(1, 4),\n",
       " RectGrounding cl1,\n",
       " CPW \"closed end 1\", l=2299.958,\n",
       " CPW \"closed end 2\", l=2399.958,\n",
       " RectFanout open end resonator fanout, n=5, grouping=(1, 4),\n",
       " RectGrounding cl2,\n",
       " CPW \"open end resonator 1\", l=999.933,\n",
       " CPW \"open end resonator 2\", l=1099.933,\n",
       " RectGrounding resonator ground 1,\n",
       " RectGrounding resonator ground 2,\n",
       " CPWCoupler \"TL-resonator coupler\", n=5, l=299.760,\n",
       " RectFanout closed end resonator fanout, n=5, grouping=(1, 4),\n",
       " RectGrounding cl1,\n",
       " CPW \"closed end 1\", l=2299.958,\n",
       " CPW \"closed end 2\", l=2399.958,\n",
       " RectFanout open end resonator fanout, n=5, grouping=(1, 4),\n",
       " RectGrounding cl2,\n",
       " CPW \"open end resonator 1\", l=999.933,\n",
       " CPW \"open end resonator 2\", l=1099.933,\n",
       " RectGrounding resonator ground 1,\n",
       " RectGrounding resonator ground 2,\n",
       " CPW \"left TL\", l=967.808,\n",
       " CPW \"center TL\", l=1635.808,\n",
       " CPW \"right TL\", l=4367.808]"
      ]
     },
     "execution_count": 8,
     "metadata": {},
     "output_type": "execute_result"
    }
   ],
   "source": [
    "sample.objects"
   ]
  },
  {
   "cell_type": "code",
   "execution_count": 21,
   "metadata": {},
   "outputs": [
    {
     "name": "stderr",
     "output_type": "stream",
     "text": [
      "<ipython-input-2-1fe8b7b94d80>:1: DeprecationWarning: [GDSPY] Use of the global library is deprecated.  Pass LayoutViewer a GdsLibrary instance.\n",
      "  watch=lambda: gdspy.LayoutViewer(depth=0,pattern={'default': 8},background='#FFFFFF') #this opens a viewer\n"
     ]
    },
    {
     "data": {
      "text/plain": [
       "<gdspy.viewer.LayoutViewer object .!layoutviewer>"
      ]
     },
     "execution_count": 21,
     "metadata": {},
     "output_type": "execute_result"
    }
   ],
   "source": [
    "design = sample.draw_design()\n",
    "watch()"
   ]
  },
  {
   "cell_type": "code",
   "execution_count": 10,
   "metadata": {},
   "outputs": [],
   "source": [
    "gdspy.write_gds('1qubit.gds', cells=None, name='library', unit=1e-06, precision=1e-09, timestamp=None, binary_cells=None)"
   ]
  },
  {
   "cell_type": "code",
   "execution_count": 11,
   "metadata": {},
   "outputs": [
    {
     "data": {
      "text/plain": [
       "16"
      ]
     },
     "execution_count": 11,
     "metadata": {},
     "output_type": "execute_result"
    }
   ],
   "source": [
    "resonator_ground"
   ]
  },
  {
   "cell_type": "code",
   "execution_count": 8,
   "metadata": {},
   "outputs": [],
   "source": [
    "sys, connections, elements_ = sample.get_tls()"
   ]
  },
  {
   "cell_type": "code",
   "execution_count": 13,
   "metadata": {},
   "outputs": [
    {
     "data": {
      "text/plain": [
       "[[45],\n",
       " [49],\n",
       " [1, 2, 3, 4, 5, 11, 12, 13, 14, 15],\n",
       " [1, 10],\n",
       " [2, 3, 4, 6, 7, 8],\n",
       " [5, 9],\n",
       " [6, 0],\n",
       " [8, 0],\n",
       " [7, 46],\n",
       " [9, 21],\n",
       " [10, 22],\n",
       " [15, 19],\n",
       " [14, 13, 12, 16, 17, 18],\n",
       " [11, 20],\n",
       " [16, 0],\n",
       " [18, 0],\n",
       " [17, 47],\n",
       " [19, 51],\n",
       " [20, 52],\n",
       " [21],\n",
       " [22],\n",
       " [23, 24, 25, 26, 27, 33, 34, 35, 36, 37],\n",
       " [23, 32],\n",
       " [24, 25, 26, 28, 29, 30],\n",
       " [27, 31],\n",
       " [28, 0],\n",
       " [30, 0],\n",
       " [29, 48],\n",
       " [31, 43],\n",
       " [32, 44],\n",
       " [37, 41],\n",
       " [36, 35, 34, 38, 39, 40],\n",
       " [33, 42],\n",
       " [38, 0],\n",
       " [40, 0],\n",
       " [39, 50],\n",
       " [41, 53],\n",
       " [42, 54],\n",
       " [43],\n",
       " [44],\n",
       " [45, 46],\n",
       " [47, 48],\n",
       " [49, 50]]"
      ]
     },
     "execution_count": 13,
     "metadata": {},
     "output_type": "execute_result"
    }
   ],
   "source": [
    "sys.terminal_node_mapping"
   ]
  },
  {
   "cell_type": "code",
   "execution_count": 14,
   "metadata": {},
   "outputs": [
    {
     "data": {
      "text/plain": [
       "{(CPWCoupler \"TL-resonator coupler\", n=5, l=299.760, 'port1', 0): 1,\n",
       " (RectFanout closed end resonator fanout, n=5, grouping=(1, 4), 'wide', 0): 1,\n",
       " (CPWCoupler \"TL-resonator coupler\", n=5, l=299.760, 'port1', 1): 2,\n",
       " (RectFanout closed end resonator fanout, n=5, grouping=(1, 4), 'wide', 1): 2,\n",
       " (CPWCoupler \"TL-resonator coupler\", n=5, l=299.760, 'port1', 2): 3,\n",
       " (RectFanout closed end resonator fanout, n=5, grouping=(1, 4), 'wide', 2): 3,\n",
       " (CPWCoupler \"TL-resonator coupler\", n=5, l=299.760, 'port1', 3): 4,\n",
       " (RectFanout closed end resonator fanout, n=5, grouping=(1, 4), 'wide', 3): 4,\n",
       " (CPWCoupler \"TL-resonator coupler\", n=5, l=299.760, 'port1', 4): 5,\n",
       " (RectFanout closed end resonator fanout, n=5, grouping=(1, 4), 'wide', 4): 5,\n",
       " (RectFanout closed end resonator fanout, n=5, grouping=(1, 4),\n",
       "  'center',\n",
       "  0): 6,\n",
       " (RectGrounding cl1, 'wide', 0): 6,\n",
       " (RectFanout closed end resonator fanout, n=5, grouping=(1, 4),\n",
       "  'center',\n",
       "  1): 7,\n",
       " (RectGrounding cl1, 'wide', 1): 7,\n",
       " (RectFanout closed end resonator fanout, n=5, grouping=(1, 4),\n",
       "  'center',\n",
       "  2): 8,\n",
       " (RectGrounding cl1, 'wide', 2): 8,\n",
       " (CPW \"closed end 1\", l=2299.958, 'port1', 0): 9,\n",
       " (RectFanout closed end resonator fanout, n=5, grouping=(1, 4), 'up', 0): 9,\n",
       " (CPW \"closed end 2\", l=2399.958, 'port1', 0): 10,\n",
       " (RectFanout closed end resonator fanout, n=5, grouping=(1, 4), 'down', 0): 10,\n",
       " (CPWCoupler \"TL-resonator coupler\", n=5, l=299.760, 'port2', 0): 11,\n",
       " (RectFanout open end resonator fanout, n=5, grouping=(1, 4), 'wide', 0): 11,\n",
       " (CPWCoupler \"TL-resonator coupler\", n=5, l=299.760, 'port2', 1): 12,\n",
       " (RectFanout open end resonator fanout, n=5, grouping=(1, 4), 'wide', 1): 12,\n",
       " (CPWCoupler \"TL-resonator coupler\", n=5, l=299.760, 'port2', 2): 13,\n",
       " (RectFanout open end resonator fanout, n=5, grouping=(1, 4), 'wide', 2): 13,\n",
       " (CPWCoupler \"TL-resonator coupler\", n=5, l=299.760, 'port2', 3): 14,\n",
       " (RectFanout open end resonator fanout, n=5, grouping=(1, 4), 'wide', 3): 14,\n",
       " (CPWCoupler \"TL-resonator coupler\", n=5, l=299.760, 'port2', 4): 15,\n",
       " (RectFanout open end resonator fanout, n=5, grouping=(1, 4), 'wide', 4): 15,\n",
       " (RectFanout open end resonator fanout, n=5, grouping=(1, 4), 'center', 0): 16,\n",
       " (RectGrounding cl2, 'wide', 0): 16,\n",
       " (RectFanout open end resonator fanout, n=5, grouping=(1, 4), 'center', 1): 17,\n",
       " (RectGrounding cl2, 'wide', 1): 17,\n",
       " (RectFanout open end resonator fanout, n=5, grouping=(1, 4), 'center', 2): 18,\n",
       " (RectGrounding cl2, 'wide', 2): 18,\n",
       " (RectFanout open end resonator fanout, n=5, grouping=(1, 4), 'down', 0): 19,\n",
       " (CPW \"open end resonator 1\", l=999.933, 'port1', 0): 19,\n",
       " (RectFanout open end resonator fanout, n=5, grouping=(1, 4), 'up', 0): 20,\n",
       " (CPW \"open end resonator 2\", l=1099.933, 'port1', 0): 20,\n",
       " (CPW \"closed end 1\", l=2299.958, 'port2', 0): 21,\n",
       " (RectGrounding resonator ground 1, 'wide', 0): 21,\n",
       " (CPW \"closed end 2\", l=2399.958, 'port2', 0): 22,\n",
       " (RectGrounding resonator ground 2, 'wide', 0): 22,\n",
       " (CPWCoupler \"TL-resonator coupler\", n=5, l=299.760, 'port1', 0): 23,\n",
       " (RectFanout closed end resonator fanout, n=5, grouping=(1, 4), 'wide', 0): 23,\n",
       " (CPWCoupler \"TL-resonator coupler\", n=5, l=299.760, 'port1', 1): 24,\n",
       " (RectFanout closed end resonator fanout, n=5, grouping=(1, 4), 'wide', 1): 24,\n",
       " (CPWCoupler \"TL-resonator coupler\", n=5, l=299.760, 'port1', 2): 25,\n",
       " (RectFanout closed end resonator fanout, n=5, grouping=(1, 4), 'wide', 2): 25,\n",
       " (CPWCoupler \"TL-resonator coupler\", n=5, l=299.760, 'port1', 3): 26,\n",
       " (RectFanout closed end resonator fanout, n=5, grouping=(1, 4), 'wide', 3): 26,\n",
       " (CPWCoupler \"TL-resonator coupler\", n=5, l=299.760, 'port1', 4): 27,\n",
       " (RectFanout closed end resonator fanout, n=5, grouping=(1, 4), 'wide', 4): 27,\n",
       " (RectFanout closed end resonator fanout, n=5, grouping=(1, 4),\n",
       "  'center',\n",
       "  0): 28,\n",
       " (RectGrounding cl1, 'wide', 0): 28,\n",
       " (RectFanout closed end resonator fanout, n=5, grouping=(1, 4),\n",
       "  'center',\n",
       "  1): 29,\n",
       " (RectGrounding cl1, 'wide', 1): 29,\n",
       " (RectFanout closed end resonator fanout, n=5, grouping=(1, 4),\n",
       "  'center',\n",
       "  2): 30,\n",
       " (RectGrounding cl1, 'wide', 2): 30,\n",
       " (CPW \"closed end 1\", l=2299.958, 'port1', 0): 31,\n",
       " (RectFanout closed end resonator fanout, n=5, grouping=(1, 4), 'up', 0): 31,\n",
       " (CPW \"closed end 2\", l=2399.958, 'port1', 0): 32,\n",
       " (RectFanout closed end resonator fanout, n=5, grouping=(1, 4), 'down', 0): 32,\n",
       " (CPWCoupler \"TL-resonator coupler\", n=5, l=299.760, 'port2', 0): 33,\n",
       " (RectFanout open end resonator fanout, n=5, grouping=(1, 4), 'wide', 0): 33,\n",
       " (CPWCoupler \"TL-resonator coupler\", n=5, l=299.760, 'port2', 1): 34,\n",
       " (RectFanout open end resonator fanout, n=5, grouping=(1, 4), 'wide', 1): 34,\n",
       " (CPWCoupler \"TL-resonator coupler\", n=5, l=299.760, 'port2', 2): 35,\n",
       " (RectFanout open end resonator fanout, n=5, grouping=(1, 4), 'wide', 2): 35,\n",
       " (CPWCoupler \"TL-resonator coupler\", n=5, l=299.760, 'port2', 3): 36,\n",
       " (RectFanout open end resonator fanout, n=5, grouping=(1, 4), 'wide', 3): 36,\n",
       " (CPWCoupler \"TL-resonator coupler\", n=5, l=299.760, 'port2', 4): 37,\n",
       " (RectFanout open end resonator fanout, n=5, grouping=(1, 4), 'wide', 4): 37,\n",
       " (RectFanout open end resonator fanout, n=5, grouping=(1, 4), 'center', 0): 38,\n",
       " (RectGrounding cl2, 'wide', 0): 38,\n",
       " (RectFanout open end resonator fanout, n=5, grouping=(1, 4), 'center', 1): 39,\n",
       " (RectGrounding cl2, 'wide', 1): 39,\n",
       " (RectFanout open end resonator fanout, n=5, grouping=(1, 4), 'center', 2): 40,\n",
       " (RectGrounding cl2, 'wide', 2): 40,\n",
       " (RectFanout open end resonator fanout, n=5, grouping=(1, 4), 'down', 0): 41,\n",
       " (CPW \"open end resonator 1\", l=999.933, 'port1', 0): 41,\n",
       " (RectFanout open end resonator fanout, n=5, grouping=(1, 4), 'up', 0): 42,\n",
       " (CPW \"open end resonator 2\", l=1099.933, 'port1', 0): 42,\n",
       " (CPW \"closed end 1\", l=2299.958, 'port2', 0): 43,\n",
       " (RectGrounding resonator ground 1, 'wide', 0): 43,\n",
       " (CPW \"closed end 2\", l=2399.958, 'port2', 0): 44,\n",
       " (RectGrounding resonator ground 2, 'wide', 0): 44,\n",
       " (CPW \"left TL\", l=967.808, 'port1', 0): 45,\n",
       " (<QCreator.elements.pad.Pad at 0x1e3bdf83880>, 'port', 0): 45,\n",
       " (CPW \"left TL\", l=967.808, 'port2', 0): 46,\n",
       " (RectGrounding cl1, 'narrow', 0): 46,\n",
       " (CPW \"center TL\", l=1635.808, 'port1', 0): 47,\n",
       " (RectGrounding cl2, 'narrow', 0): 47,\n",
       " (CPW \"center TL\", l=1635.808, 'port2', 0): 48,\n",
       " (RectGrounding cl1, 'narrow', 0): 48,\n",
       " (CPW \"right TL\", l=4367.808, 'port1', 0): 49,\n",
       " (<QCreator.elements.pad.Pad at 0x1e3bc37f760>, 'port', 0): 49,\n",
       " (CPW \"right TL\", l=4367.808, 'port2', 0): 50,\n",
       " (RectGrounding cl2, 'narrow', 0): 50,\n",
       " (CPW \"open end resonator 1\", l=999.933, 'port2', 0): 51,\n",
       " (CPW \"open end resonator 2\", l=1099.933, 'port2', 0): 52,\n",
       " (CPW \"open end resonator 1\", l=999.933, 'port2', 0): 53,\n",
       " (CPW \"open end resonator 2\", l=1099.933, 'port2', 0): 54}"
      ]
     },
     "execution_count": 14,
     "metadata": {},
     "output_type": "execute_result"
    }
   ],
   "source": [
    "connections"
   ]
  },
  {
   "cell_type": "code",
   "execution_count": 15,
   "metadata": {},
   "outputs": [
    {
     "data": {
      "text/plain": [
       "{'chip_edge_ground': [],\n",
       " 'p1': [Port p1],\n",
       " 'p2': [Port p2],\n",
       " 'TL-resonator coupler': [TL TL-resonator coupler (n=5)],\n",
       " 'closed end resonator fanout': [TL closed end resonator fanout_group0 (n=1),\n",
       "  TL closed end resonator fanout_group1 (n=3),\n",
       "  TL closed end resonator fanout_group2 (n=1)],\n",
       " 'cl1': [[R cl10, R cl11, TL cl1 (n=1)]],\n",
       " 'closed end 1': [TL closed end 1 (n=1)],\n",
       " 'closed end 2': [TL closed end 2 (n=1)],\n",
       " 'open end resonator fanout': [TL open end resonator fanout_group0 (n=1),\n",
       "  TL open end resonator fanout_group1 (n=3),\n",
       "  TL open end resonator fanout_group2 (n=1)],\n",
       " 'cl2': [[R cl20, R cl21, TL cl2 (n=1)]],\n",
       " 'open end resonator 1': [TL open end resonator 1 (n=1)],\n",
       " 'open end resonator 2': [TL open end resonator 2 (n=1)],\n",
       " 'resonator ground 1': [Short ],\n",
       " 'resonator ground 2': [Short ],\n",
       " 'left TL': [TL left TL (n=1)],\n",
       " 'center TL': [TL center TL (n=1)],\n",
       " 'right TL': [TL right TL (n=1)]}"
      ]
     },
     "execution_count": 15,
     "metadata": {},
     "output_type": "execute_result"
    }
   ],
   "source": [
    "elements_"
   ]
  },
  {
   "cell_type": "code",
   "execution_count": 9,
   "metadata": {},
   "outputs": [
    {
     "name": "stderr",
     "output_type": "stream",
     "text": [
      "../QCreator/general_sample_creator.py:350: FutureWarning: `rcond` parameter will change to the default of machine precision times ``max(M, N)`` where M and N are the input matrix dimensions.\n",
      "To use the future default and silence this warning we advise to pass `rcond=None`, to keep using the old, explicitly pass `rcond=-1`.\n",
      "  s.append(np.linalg.lstsq(m, boundary)[0][a2[0]])\n"
     ]
    },
    {
     "data": {
      "text/plain": [
       "[<matplotlib.lines.Line2D at 0x7f7b782d8b00>]"
      ]
     },
     "execution_count": 9,
     "metadata": {},
     "output_type": "execute_result"
    },
    {
     "data": {
      "image/png": "[encoded data removed]",
      "text/plain": [
       "<Figure size 432x288 with 1 Axes>"
      ]
     },
     "metadata": {
      "needs_background": "light"
     },
     "output_type": "display_data"
    }
   ],
   "source": [
    "f_ = np.linspace(4e9, 10e9, 1001)\n",
    "s11 = sample.get_s21('p1', 'p1', f_)\n",
    "s21 = sample.get_s21('p1', 'p2', f_)\n",
    "from matplotlib import pyplot as plt\n",
    "plt.plot(f_, np.abs(s11))\n",
    "plt.plot(f_, np.abs(s21))"
   ]
  },
  {
   "cell_type": "code",
   "execution_count": 10,
   "metadata": {},
   "outputs": [],
   "source": [
    "%matplotlib qt"
   ]
  },
  {
   "cell_type": "code",
   "execution_count": 11,
   "metadata": {},
   "outputs": [
    {
     "data": {
      "text/plain": [
       "[<matplotlib.lines.Line2D at 0x7f7b5fbd4dd8>]"
      ]
     },
     "execution_count": 11,
     "metadata": {},
     "output_type": "execute_result"
    }
   ],
   "source": [
    "f_ = np.linspace(4e9, 10e9, 1001)\n",
    "plt.plot(f_, np.abs(s11))\n",
    "plt.plot(f_, np.abs(s21))"
   ]
  },
  {
   "cell_type": "code",
   "execution_count": 17,
   "metadata": {},
   "outputs": [
    {
     "data": {
      "text/plain": [
       "(array([7.76986791e+09, 7.79718837e+09, 8.19402896e+09, 8.22977067e+09,\n",
       "        8.27628229e+09, 1.64112271e+10, 2.32610903e+10, 2.32622015e+10,\n",
       "        2.38225021e+10, 2.45298274e+10]),\n",
       " array([1.83940633e+05, 8.54668033e+06, 2.37205695e+05, 1.33619819e+07,\n",
       "        7.01824400e+10, 7.10427558e+10, 1.00877294e+07, 1.26986384e+06,\n",
       "        7.29161776e+10, 1.09593813e+07]))"
      ]
     },
     "execution_count": 17,
     "metadata": {},
     "output_type": "execute_result"
    }
   ],
   "source": [
    "sys, connections, elements_ = sample.get_tls()\n",
    "f, delta, modes = sys.get_modes()\n",
    "f[:10]/(2*np.pi), delta[:10]"
   ]
  },
  {
   "cell_type": "code",
   "execution_count": null,
   "metadata": {},
   "outputs": [],
   "source": []
  }
 ],
 "metadata": {
  "kernelspec": {
   "display_name": "Python 3",
   "language": "python",
   "name": "python3"
  },
  "language_info": {
   "codemirror_mode": {
    "name": "ipython",
    "version": 3
   },
   "file_extension": ".py",
   "mimetype": "text/x-python",
   "name": "python",
   "nbconvert_exporter": "python",
   "pygments_lexer": "ipython3",
   "version": "3.7.3"
  }
 },
 "nbformat": 4,
 "nbformat_minor": 2
}
