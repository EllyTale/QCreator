{
 "cells": [
  {
   "cell_type": "markdown",
   "metadata": {},
   "source": [
    "# Import design libraries"
   ]
  },
  {
   "cell_type": "code",
   "execution_count": 1,
   "metadata": {
    "ExecuteTime": {
     "end_time": "2020-09-06T10:17:16.449804Z",
     "start_time": "2020-09-06T10:17:16.445814Z"
    }
   },
   "outputs": [],
   "source": [
    "import sys\n",
    "sys.path.append('..')"
   ]
  },
  {
   "cell_type": "code",
   "execution_count": 2,
   "metadata": {
    "ExecuteTime": {
     "end_time": "2020-09-06T10:17:17.766979Z",
     "start_time": "2020-09-06T10:17:17.600892Z"
    }
   },
   "outputs": [],
   "source": [
    "import gdspy\n",
    "import numpy as np\n",
    "from importlib import reload\n",
    "#import libraries.conformal_mapping as cm\n",
    "#import libraries.general_design_functions as gdf\n",
    "#import libraries.general_sample_creator as creator\n",
    "#from  ..libraries import general_design_functions as gdf\n",
    "#fr\n",
    "from copy import deepcopy\n",
    "from QCreator import elements\n",
    "from QCreator import general_sample_creator as creator"
   ]
  },
  {
   "cell_type": "code",
   "execution_count": 3,
   "metadata": {
    "ExecuteTime": {
     "end_time": "2020-09-06T10:17:18.100214Z",
     "start_time": "2020-09-06T10:17:18.096225Z"
    }
   },
   "outputs": [],
   "source": [
    "watch=lambda: gdspy.LayoutViewer(depth=0,pattern={'default': 8},background='#FFFFFF') #this opens a viewer"
   ]
  },
  {
   "cell_type": "markdown",
   "metadata": {},
   "source": [
    "# Specify constants, everything in microns"
   ]
  },
  {
   "cell_type": "code",
   "execution_count": 4,
   "metadata": {
    "ExecuteTime": {
     "end_time": "2020-09-06T10:17:18.718772Z",
     "start_time": "2020-09-06T10:17:18.714784Z"
    }
   },
   "outputs": [],
   "source": [
    "tl_core = 20\n",
    "tl_gap = 12\n",
    "tl_ground = 100"
   ]
  },
  {
   "cell_type": "markdown",
   "metadata": {},
   "source": [
    "# Sample generation"
   ]
  },
  {
   "cell_type": "markdown",
   "metadata": {},
   "source": [
    "## borders with pads"
   ]
  },
  {
   "cell_type": "code",
   "execution_count": 5,
   "metadata": {
    "ExecuteTime": {
     "end_time": "2020-09-06T10:17:19.778056Z",
     "start_time": "2020-09-06T10:17:19.662594Z"
    }
   },
   "outputs": [
    {
     "data": {
      "text/plain": [
       "<QCreator.elements.cpw.CPW at 0x21a8f047be0>"
      ]
     },
     "execution_count": 5,
     "metadata": {},
     "output_type": "execute_result"
    }
   ],
   "source": [
    "reload(gdspy)\n",
    "reload(creator)\n",
    "#reload(elements)\n",
    "layers_configuration={\n",
    "    'total':0,\n",
    "    'restricted area':10,\n",
    "    'for removing':100,\n",
    "    'JJs':1,\n",
    "    'air bridges':2,\n",
    "    'air bridge pads':3,\n",
    "    'vertical gridlines':15,\n",
    "    'horizontal gridlines':16\n",
    "}\n",
    "sample = creator.Sample('4_qubits',layers_configuration)\n",
    "\n",
    "#specify sample vertical and horizontal lengths\n",
    "sample.chip_geometry.sample_vertical_size=4.7e3\n",
    "sample.chip_geometry.sample_horizontal_size=9.7e3\n",
    "\n",
    "ChichkovAB = elements.AirBridge(width=15, \n",
    "                                length=60, \n",
    "                                padsize=30, \n",
    "                                min_spacing = 30,\n",
    "                                layer_configuration=sample.layer_configuration)\n",
    "\n",
    "#specify pads for the sample\n",
    "\n",
    "p1 = elements.Pad('p1', (1000,   2350), np.pi, tl_core, tl_gap, tl_ground, \n",
    "                  layer_configuration=sample.layer_configuration, chip_geometry=sample.chip_geometry, \n",
    "                  **elements.default_pad_geometry())\n",
    "p2 = elements.Pad('p2', (8700,  2350), 0, tl_core, tl_gap, tl_ground, \n",
    "                  layer_configuration=sample.layer_configuration, chip_geometry=sample.chip_geometry, \n",
    "                  **elements.default_pad_geometry())\n",
    "#sample.add_pad('p1', tl_core, tl_gap, tl_ground, (810,  2350), 50, np.pi, sample.layer_configuration, sample.chip_geometry)\n",
    "#sample.add_pad('p2', tl_core, tl_gap, tl_ground, (8890, 2350), 50, np.pi, sample.layer_configuration, sample.chip_geometry)\n",
    "#generate borders with pads\n",
    "#sample.generate_sample_edges_and_pads()\n",
    "sample.add(p1)\n",
    "sample.add(p2)\n",
    "\n",
    "chip_edge_ground = elements.ChipEdgeGround(sample.chip_geometry, sample.layer_configuration, sample.pads)\n",
    "sample.add(chip_edge_ground)\n",
    "\n",
    "grid_ground = elements.GridGround(sample.chip_geometry, sample.layer_configuration, sample.objects, \n",
    "                                  width=4, period=500)\n",
    "sample.add(grid_ground)\n",
    "#chip_edge_ground.render()\n",
    "dist = 1000\n",
    "end_element = p1\n",
    "end_port = 'port'\n",
    "\n",
    "n1 = elements.Narrowing(name = 'adapter', \n",
    "                        position = (p1.position[0]+dist, p1.position[1]), \n",
    "                        orientation = 0,\n",
    "                        w1 = tl_core,\n",
    "                        s1 = tl_gap,\n",
    "                        g1 = tl_ground,\n",
    "                        w2 = tl_core*5,\n",
    "                        s2 = tl_gap,\n",
    "                        g2 = tl_ground*2,\n",
    "                        layer_configuration = sample.layer_configuration,\n",
    "                        length = 200)\n",
    "n2 = elements.Narrowing(name = 'adapter', \n",
    "                        position = (p1.position[0]+7*dist, p1.position[1]), \n",
    "                        orientation = 0,\n",
    "                        w2 = tl_core,\n",
    "                        s2 = tl_gap,\n",
    "                        g2 = tl_ground,\n",
    "                        w1 = tl_core*5,\n",
    "                        s1 = tl_gap,\n",
    "                        g1 = tl_ground*2,\n",
    "                        layer_configuration = sample.layer_configuration,\n",
    "                        length = 200)\n",
    "\n",
    "\n",
    "ab1  =elements.CPWGroundAirBridge(name='ab1', \n",
    "                                  position=(p1.position[0]+(5)*dist, p1.position[1]), \n",
    "                                  orientation=0, \n",
    "                                  geometry=ChichkovAB,\n",
    "                                  w = tl_core,\n",
    "                                  s = tl_gap,\n",
    "                                  g = tl_ground,\n",
    "                                  layer_configuration=sample.layer_configuration,\n",
    "                                  l=0,\n",
    "                                  c=0)\n",
    "sample.add(n1)\n",
    "sample.add(n2)\n",
    "#sample.add(ab1)\n",
    "sample.connect_cpw(p1, n1, 'port', 'port1', \n",
    "                   'feedline-narrow-el', [])\n",
    "sample.connect_cpw(n1, n2, 'port2', 'port1', \n",
    "                   'feedline-thick-el', [(5000, 1000), (6000, 1000)])\n",
    "#sample.connect_cpw(n2, ab1, 'port2', 'port1', \n",
    "#                   'feedline-thick-el2', [n2.get_terminals()['port2'].position, (5000, 1000), (6000, 1000), \n",
    "#                                          ab1.get_terminals()['port1'].position])\n",
    "\n",
    "#sample.connect_cpw(ab1, p2, 'port2', 'port', 'feedline', \n",
    "#                   [ab1.get_terminals()['port2'].position, p2.get_terminals()['port'].position])\n",
    "\n",
    "#sample.connect_cpw(p1, p2, 'port', 'port', 'feedline', \n",
    "#                   [p1.get_terminals()['port'].position, p2.get_terminals()['port'].position])\n",
    "\n",
    "sample.connect_cpw(n2, p2, 'port2', 'port', \n",
    "                   'feedline-thick-el2', [])\n"
   ]
  },
  {
   "cell_type": "code",
   "execution_count": 6,
   "metadata": {},
   "outputs": [
    {
     "data": {
      "text/plain": [
       "[<matplotlib.lines.Line2D at 0x21a908400d0>]"
      ]
     },
     "execution_count": 6,
     "metadata": {},
     "output_type": "execute_result"
    },
    {
     "data": {
      "image/png": "[encoded data removed]",
      "text/plain": [
       "<Figure size 432x288 with 1 Axes>"
      ]
     },
     "metadata": {
      "needs_background": "light"
     },
     "output_type": "display_data"
    }
   ],
   "source": [
    "f = np.linspace(1, 20e3, 101)\n",
    "s11 = sample.get_s21('p1', 'p1', f)\n",
    "s21 = sample.get_s21('p1', 'p2', f)\n",
    "from matplotlib import pyplot as plt\n",
    "plt.plot(f, np.abs(s11))\n",
    "plt.plot(f, np.abs(s21))"
   ]
  },
  {
   "cell_type": "code",
   "execution_count": 7,
   "metadata": {},
   "outputs": [],
   "source": [
    "sys, connections, elements_ = sample.get_tls()"
   ]
  },
  {
   "cell_type": "code",
   "execution_count": 26,
   "metadata": {},
   "outputs": [],
   "source": []
  },
  {
   "cell_type": "code",
   "execution_count": 27,
   "metadata": {},
   "outputs": [
    {
     "data": {
      "text/plain": [
       "[<matplotlib.lines.Line2D at 0x1266a8462b0>]"
      ]
     },
     "execution_count": 27,
     "metadata": {},
     "output_type": "execute_result"
    },
    {
     "data": {
      "image/png": "[encoded data removed]",
      "text/plain": [
       "<Figure size 432x288 with 1 Axes>"
      ]
     },
     "metadata": {
      "needs_background": "light"
     },
     "output_type": "display_data"
    }
   ],
   "source": [
    "frequencies = np.linspace(1, 30e3, 1001)\n",
    "fields = []\n",
    "for f_id, f in enumerate(frequencies):\n",
    "    eq_vi, eq_dof = sys.get_element_dynamic_equations(elements_['p1'][0])\n",
    "    v1, i1, a1 = sys.get_element_dofs(elements_['p1'][0])\n",
    "    v2, i2, a2 = sys.get_element_dofs(elements_['p2'][0])\n",
    "    m = sys.create_boundary_problem_matrix(f*np.pi*2)\n",
    "    boundary = np.zeros(len(sys.dof_mapping))\n",
    "    boundary[eq_vi] = 1\n",
    "    fields.append(np.linalg.solve(m, boundary))\n",
    "#plt.plot(frequencies, np.abs(np.asarray(fields)[:, v1[0]]))\n",
    "plt.plot(frequencies, np.abs(np.asarray(fields)[:, a1[0]]))\n",
    "plt.plot(frequencies, np.abs(np.asarray(fields)[:, a2[0]]))"
   ]
  },
  {
   "cell_type": "code",
   "execution_count": 28,
   "metadata": {},
   "outputs": [
    {
     "name": "stderr",
     "output_type": "stream",
     "text": [
      "<ipython-input-3-1fe8b7b94d80>:1: DeprecationWarning: [GDSPY] Use of the global library is deprecated.  Pass LayoutViewer a GdsLibrary instance.\n",
      "  watch=lambda: gdspy.LayoutViewer(depth=0,pattern={'default': 8},background='#FFFFFF') #this opens a viewer\n"
     ]
    },
    {
     "data": {
      "text/plain": [
       "<gdspy.viewer.LayoutViewer object .!layoutviewer>"
      ]
     },
     "execution_count": 28,
     "metadata": {},
     "output_type": "execute_result"
    }
   ],
   "source": [
    "design = sample.draw_design()\n",
    "watch()"
   ]
  },
  {
   "cell_type": "code",
   "execution_count": 29,
   "metadata": {},
   "outputs": [],
   "source": [
    "design.write_gds('results/test_ilya1.gds')"
   ]
  },
  {
   "cell_type": "code",
   "execution_count": 39,
   "metadata": {},
   "outputs": [
    {
     "data": {
      "text/plain": [
       "[1]"
      ]
     },
     "execution_count": 39,
     "metadata": {},
     "output_type": "execute_result"
    }
   ],
   "source": [
    "v2"
   ]
  },
  {
   "cell_type": "code",
   "execution_count": 36,
   "metadata": {},
   "outputs": [
    {
     "data": {
      "text/plain": [
       "array([[  1.,  50.,   0.],\n",
       "       [  1., -50.,   1.],\n",
       "       [  0.,   1.,   0.]])"
      ]
     },
     "execution_count": 36,
     "metadata": {},
     "output_type": "execute_result"
    }
   ],
   "source": [
    "np.round(np.real((sys.create_boundary_problem_matrix(0))),4)"
   ]
  },
  {
   "cell_type": "code",
   "execution_count": 33,
   "metadata": {},
   "outputs": [
    {
     "data": {
      "text/plain": [
       "array([[50.90224235]])"
      ]
     },
     "execution_count": 33,
     "metadata": {},
     "output_type": "execute_result"
    }
   ],
   "source": [
    "np.sqrt(elements_['feedline'][0].Ll/elements_['feedline'][0].Cl)"
   ]
  },
  {
   "cell_type": "code",
   "execution_count": 20,
   "metadata": {},
   "outputs": [
    {
     "data": {
      "text/plain": [
       "({'p1': [<QCreator.transmission_line_simulator.Port at 0x2537f1735b0>],\n",
       "  'p2': [<QCreator.transmission_line_simulator.Port at 0x2537f173370>],\n",
       "  'chip_edge_ground': [],\n",
       "  'feedline': [<QCreator.transmission_line_simulator.TLCoupler at 0x2537f173640>]},\n",
       " array([[ 1.0e+00+0.j  ,  0.0e+00+0.j  ,  0.0e+00+0.j  ,  0.0e+00+0.j  ,\n",
       "          0.0e+00+0.j  ,  0.0e+00+0.j  ,  5.0e+01+0.j  ,  0.0e+00+0.j  ,\n",
       "          0.0e+00+0.j  ,  0.0e+00+0.j  ],\n",
       "        [ 0.0e+00+0.j  ,  0.0e+00+0.j  , -1.0e+00+0.j  ,  0.0e+00+0.j  ,\n",
       "          0.0e+00+0.j  ,  0.0e+00+0.j  ,  1.0e+00+0.j  ,  0.0e+00+0.j  ,\n",
       "          0.0e+00+0.j  ,  0.0e+00+0.j  ],\n",
       "        [ 0.0e+00+0.j  ,  1.0e+00+0.j  ,  0.0e+00+0.j  ,  0.0e+00+0.j  ,\n",
       "          0.0e+00+0.j  ,  0.0e+00+0.j  ,  0.0e+00+0.j  ,  5.0e+01+0.j  ,\n",
       "          0.0e+00+0.j  ,  0.0e+00+0.j  ],\n",
       "        [ 0.0e+00+0.j  ,  0.0e+00+0.j  ,  0.0e+00+0.j  , -1.0e+00+0.j  ,\n",
       "          0.0e+00+0.j  ,  0.0e+00+0.j  ,  0.0e+00+0.j  ,  1.0e+00+0.j  ,\n",
       "          0.0e+00+0.j  ,  0.0e+00+0.j  ],\n",
       "        [ 1.0e+00+0.j  ,  0.0e+00+0.j  ,  0.0e+00+0.j  ,  0.0e+00+0.j  ,\n",
       "          0.0e+00+0.j  ,  0.0e+00+0.j  ,  0.0e+00+0.j  ,  0.0e+00+0.j  ,\n",
       "         -1.0e+00+0.j  ,  1.0e+00+0.j  ],\n",
       "        [ 0.0e+00+0.j  ,  1.0e+00+0.j  ,  0.0e+00+0.j  ,  0.0e+00+0.j  ,\n",
       "          0.0e+00+0.j  ,  0.0e+00+0.j  ,  0.0e+00+0.j  ,  0.0e+00+0.j  ,\n",
       "         -3.7e-01+0.93j,  3.7e-01+0.93j],\n",
       "        [ 0.0e+00+0.j  ,  0.0e+00+0.j  ,  0.0e+00+0.j  ,  0.0e+00+0.j  ,\n",
       "          1.0e+00+0.j  ,  0.0e+00+0.j  ,  0.0e+00+0.j  ,  0.0e+00+0.j  ,\n",
       "          2.0e-02+0.j  ,  2.0e-02+0.j  ],\n",
       "        [ 0.0e+00+0.j  ,  0.0e+00+0.j  ,  0.0e+00+0.j  ,  0.0e+00+0.j  ,\n",
       "          0.0e+00+0.j  ,  1.0e+00+0.j  ,  0.0e+00+0.j  ,  0.0e+00+0.j  ,\n",
       "         -1.0e-02+0.02j, -1.0e-02-0.02j],\n",
       "        [ 0.0e+00+0.j  ,  0.0e+00+0.j  ,  1.0e+00+0.j  ,  0.0e+00+0.j  ,\n",
       "          1.0e+00+0.j  ,  0.0e+00+0.j  ,  0.0e+00+0.j  ,  0.0e+00+0.j  ,\n",
       "          0.0e+00+0.j  ,  0.0e+00+0.j  ],\n",
       "        [ 0.0e+00+0.j  ,  0.0e+00+0.j  ,  0.0e+00+0.j  ,  1.0e+00+0.j  ,\n",
       "          0.0e+00+0.j  ,  1.0e+00+0.j  ,  0.0e+00+0.j  ,  0.0e+00+0.j  ,\n",
       "          0.0e+00+0.j  ,  0.0e+00+0.j  ]]))"
      ]
     },
     "execution_count": 20,
     "metadata": {},
     "output_type": "execute_result"
    }
   ],
   "source": [
    "elements_, np.round(m, 2)"
   ]
  },
  {
   "cell_type": "code",
   "execution_count": 24,
   "metadata": {},
   "outputs": [
    {
     "data": {
      "text/plain": [
       "7699.837999945999"
      ]
     },
     "execution_count": 24,
     "metadata": {},
     "output_type": "execute_result"
    }
   ],
   "source": [
    "elements_['feedline'][0].l"
   ]
  },
  {
   "cell_type": "code",
   "execution_count": 6,
   "metadata": {
    "ExecuteTime": {
     "end_time": "2020-09-06T10:17:31.063577Z",
     "start_time": "2020-09-06T10:17:20.664935Z"
    }
   },
   "outputs": [
    {
     "name": "stderr",
     "output_type": "stream",
     "text": [
      "<ipython-input-3-1fe8b7b94d80>:1: DeprecationWarning: [GDSPY] Use of the global library is deprecated.  Pass LayoutViewer a GdsLibrary instance.\n",
      "  watch=lambda: gdspy.LayoutViewer(depth=0,pattern={'default': 8},background='#FFFFFF') #this opens a viewer\n"
     ]
    },
    {
     "data": {
      "text/plain": [
       "<gdspy.viewer.LayoutViewer object .!layoutviewer>"
      ]
     },
     "execution_count": 6,
     "metadata": {},
     "output_type": "execute_result"
    }
   ],
   "source": [
    "watch()"
   ]
  },
  {
   "cell_type": "code",
   "execution_count": 9,
   "metadata": {},
   "outputs": [
    {
     "data": {
      "text/plain": [
       "[{'type': 'endpoint', 'endpoint': array([6015., 2350.])},\n",
       " {'type': 'segment', 'endpoint': array([6015.16200005, 2350.        ])},\n",
       " {'type': 'turn', 'turn': 0.0},\n",
       " {'type': 'segment', 'endpoint': array([8699.83799995, 2350.        ])},\n",
       " {'type': 'turn', 'turn': 0.0},\n",
       " {'type': 'endpoint', 'endpoint': array([8700, 2350])}]"
      ]
     },
     "execution_count": 9,
     "metadata": {},
     "output_type": "execute_result"
    }
   ],
   "source": [
    "sample.objects[-1].segments"
   ]
  },
  {
   "cell_type": "code",
   "execution_count": 14,
   "metadata": {},
   "outputs": [],
   "source": [
    "sys, connections = sample.get_tls()"
   ]
  },
  {
   "cell_type": "code",
   "execution_count": 15,
   "metadata": {},
   "outputs": [
    {
     "data": {
      "text/plain": [
       "array([[ 1.e+00+0.j,  0.e+00+0.j,  0.e+00+0.j,  0.e+00+0.j,  0.e+00+0.j,\n",
       "         0.e+00+0.j,  5.e+01+0.j,  0.e+00+0.j,  0.e+00+0.j,  0.e+00+0.j],\n",
       "       [ 0.e+00+0.j,  0.e+00+0.j, -1.e+00+0.j,  0.e+00+0.j,  0.e+00+0.j,\n",
       "         0.e+00+0.j,  1.e+00+0.j,  0.e+00+0.j,  0.e+00+0.j,  0.e+00+0.j],\n",
       "       [ 0.e+00+0.j,  1.e+00+0.j,  0.e+00+0.j,  0.e+00+0.j,  0.e+00+0.j,\n",
       "         0.e+00+0.j,  0.e+00+0.j,  5.e+01+0.j,  0.e+00+0.j,  0.e+00+0.j],\n",
       "       [ 0.e+00+0.j,  0.e+00+0.j,  0.e+00+0.j, -1.e+00+0.j,  0.e+00+0.j,\n",
       "         0.e+00+0.j,  0.e+00+0.j,  1.e+00+0.j,  0.e+00+0.j,  0.e+00+0.j],\n",
       "       [ 1.e+00+0.j,  0.e+00+0.j,  0.e+00+0.j,  0.e+00+0.j,  0.e+00+0.j,\n",
       "         0.e+00+0.j,  0.e+00+0.j,  0.e+00+0.j, -1.e+00+0.j,  1.e+00+0.j],\n",
       "       [ 0.e+00+0.j,  1.e+00+0.j,  0.e+00+0.j,  0.e+00+0.j,  0.e+00+0.j,\n",
       "         0.e+00+0.j,  0.e+00+0.j,  0.e+00+0.j, -1.e+00+0.j,  1.e+00+0.j],\n",
       "       [ 0.e+00+0.j,  0.e+00+0.j,  0.e+00+0.j,  0.e+00+0.j,  1.e+00+0.j,\n",
       "         0.e+00+0.j,  0.e+00+0.j,  0.e+00+0.j,  2.e-02+0.j,  2.e-02+0.j],\n",
       "       [ 0.e+00+0.j,  0.e+00+0.j,  0.e+00+0.j,  0.e+00+0.j,  0.e+00+0.j,\n",
       "         1.e+00+0.j,  0.e+00+0.j,  0.e+00+0.j, -2.e-02+0.j, -2.e-02+0.j],\n",
       "       [ 0.e+00+0.j,  0.e+00+0.j,  1.e+00+0.j,  0.e+00+0.j,  1.e+00+0.j,\n",
       "         0.e+00+0.j,  0.e+00+0.j,  0.e+00+0.j,  0.e+00+0.j,  0.e+00+0.j],\n",
       "       [ 0.e+00+0.j,  0.e+00+0.j,  0.e+00+0.j,  1.e+00+0.j,  0.e+00+0.j,\n",
       "         1.e+00+0.j,  0.e+00+0.j,  0.e+00+0.j,  0.e+00+0.j,  0.e+00+0.j]])"
      ]
     },
     "execution_count": 15,
     "metadata": {},
     "output_type": "execute_result"
    }
   ],
   "source": [
    "np.round(sys.create_boundary_problem_matrix(1e9), 2)"
   ]
  },
  {
   "cell_type": "code",
   "execution_count": 16,
   "metadata": {},
   "outputs": [
    {
     "data": {
      "text/plain": [
       "{(<libraries.elements.cpw.CPW at 0x1c1a22b0070>, 'port1'): 1,\n",
       " (<libraries.elements.pad.Pad at 0x1c1a21065e0>, 'port'): 1,\n",
       " (<libraries.elements.cpw.CPW at 0x1c1a22b0070>, 'port2'): 2,\n",
       " (<libraries.elements.pad.Pad at 0x1c1a0a1b520>, 'port'): 2}"
      ]
     },
     "execution_count": 16,
     "metadata": {},
     "output_type": "execute_result"
    }
   ],
   "source": [
    "connections"
   ]
  },
  {
   "cell_type": "markdown",
   "metadata": {},
   "source": [
    "## Feedline"
   ]
  },
  {
   "cell_type": "code",
   "execution_count": 5,
   "metadata": {
    "ExecuteTime": {
     "end_time": "2020-08-18T09:08:16.905070Z",
     "start_time": "2020-08-18T09:08:16.891177Z"
    }
   },
   "outputs": [],
   "source": [
    "points = [p1.position, p2.position]\n",
    "#sample.generate_line('feedline', deepcopy(points), tl_core, tl_gap, tl_ground, None)\n",
    "#('feedline', points, tl_core, tl_gap, tl_ground, sample.layer_configuration, R = 20)\n",
    "sample.add(gdf.CPW('feedline', points, tl_core, tl_gap, tl_ground, None, sample.layer_configuration, R = 100))"
   ]
  },
  {
   "cell_type": "code",
   "execution_count": 6,
   "metadata": {
    "ExecuteTime": {
     "end_time": "2020-08-18T09:08:17.166689Z",
     "start_time": "2020-08-18T09:08:17.139110Z"
    }
   },
   "outputs": [],
   "source": [
    "feedline_bridge_params=creator.Bridges_over_line_param(distance=500, offset=30,\n",
    "                    width=15, length=42, padsize=30, line_type=None)\n",
    "\n",
    "#sample.generate_array_of_bridges(deepcopy(points),feedline_bridge_params)"
   ]
  },
  {
   "cell_type": "code",
   "execution_count": 7,
   "metadata": {},
   "outputs": [
    {
     "name": "stderr",
     "output_type": "stream",
     "text": [
      "<ipython-input-2-1fe8b7b94d80>:1: DeprecationWarning: [GDSPY] Use of the global library is deprecated.  Pass LayoutViewer a GdsLibrary instance.\n",
      "  watch=lambda: gdspy.LayoutViewer(depth=0,pattern={'default': 8},background='#FFFFFF') #this opens a viewer\n"
     ]
    },
    {
     "data": {
      "text/plain": [
       "<gdspy.viewer.LayoutViewer object .!layoutviewer>"
      ]
     },
     "execution_count": 7,
     "metadata": {},
     "output_type": "execute_result"
    }
   ],
   "source": [
    "#sample.finish_him()\n",
    "sample.draw_design()\n",
    "watch()"
   ]
  },
  {
   "cell_type": "code",
   "execution_count": 93,
   "metadata": {},
   "outputs": [
    {
     "data": {
      "text/plain": [
       "{'positive': <gdspy.polygon.PolygonSet at 0x213f036d880>,\n",
       " 'restrict': <gdspy.polygon.PolygonSet at 0x213f036d7c0>,\n",
       " 'remove': <gdspy.polygon.PolygonSet at 0x213f036d580>}"
      ]
     },
     "execution_count": 93,
     "metadata": {},
     "output_type": "execute_result"
    }
   ],
   "source": [
    "sample.objects[3].get()"
   ]
  },
  {
   "cell_type": "markdown",
   "metadata": {},
   "source": [
    "## Resonators"
   ]
  },
  {
   "cell_type": "code",
   "execution_count": 7,
   "metadata": {
    "ExecuteTime": {
     "end_time": "2020-08-18T09:08:17.810027Z",
     "start_time": "2020-08-18T09:08:17.803495Z"
    }
   },
   "outputs": [],
   "source": [
    "ratio=0.04 # to have 100th quality factor\n",
    "def coupler_length(frequency, ratio):\n",
    "    c = 299792458\n",
    "    epsilon_eff = (11.45+1)/2\n",
    "    return c/(4*np.sqrt(epsilon_eff)*frequency)*ratio*1e6"
   ]
  },
  {
   "cell_type": "code",
   "execution_count": 8,
   "metadata": {
    "ExecuteTime": {
     "end_time": "2020-08-18T09:08:18.404361Z",
     "start_time": "2020-08-18T09:08:18.388344Z"
    }
   },
   "outputs": [
    {
     "data": {
      "text/plain": [
       "240.31507815012677"
      ]
     },
     "execution_count": 8,
     "metadata": {},
     "output_type": "execute_result"
    }
   ],
   "source": [
    "coupler_length(5e9,ratio)"
   ]
  },
  {
   "cell_type": "code",
   "execution_count": 9,
   "metadata": {
    "ExecuteTime": {
     "end_time": "2020-08-18T09:08:19.340266Z",
     "start_time": "2020-08-18T09:08:19.015709Z"
    }
   },
   "outputs": [
    {
     "name": "stdout",
     "output_type": "stream",
     "text": [
      "32\n",
      "217.0\n"
     ]
    },
    {
     "ename": "NameError",
     "evalue": "name 'Number_of_points' is not defined",
     "output_type": "error",
     "traceback": [
      "\u001b[1;31m---------------------------------------------------------------------------\u001b[0m",
      "\u001b[1;31mNameError\u001b[0m                                 Traceback (most recent call last)",
      "\u001b[1;32m<ipython-input-9-514a41c64ed1>\u001b[0m in \u001b[0;36m<module>\u001b[1;34m\u001b[0m\n\u001b[0;32m     35\u001b[0m                          start[1] + np.sin(line_angle) * (offset + num_bridge * distance))\n\u001b[0;32m     36\u001b[0m         \u001b[0mfreq_num\u001b[0m\u001b[1;33m=\u001b[0m\u001b[0mrandom\u001b[0m\u001b[1;33m.\u001b[0m\u001b[0mrandint\u001b[0m\u001b[1;33m(\u001b[0m\u001b[1;36m0\u001b[0m\u001b[1;33m,\u001b[0m\u001b[0mlen\u001b[0m\u001b[1;33m(\u001b[0m\u001b[0mfreqs\u001b[0m\u001b[1;33m)\u001b[0m\u001b[1;33m-\u001b[0m\u001b[1;36m2\u001b[0m\u001b[1;33m)\u001b[0m\u001b[1;33m\u001b[0m\u001b[1;33m\u001b[0m\u001b[0m\n\u001b[1;32m---> 37\u001b[1;33m         sample.generate_round_resonator(freqs[freq_num] ,(deepcopy(resonator_center)[0],deepcopy(resonator_center)[1]-30) ,\n\u001b[0m\u001b[0;32m     38\u001b[0m                                \u001b[0mcore\u001b[0m \u001b[1;33m=\u001b[0m \u001b[1;36m7\u001b[0m\u001b[1;33m,\u001b[0m\u001b[1;33m\u001b[0m\u001b[1;33m\u001b[0m\u001b[0m\n\u001b[0;32m     39\u001b[0m                                \u001b[0mgap\u001b[0m \u001b[1;33m=\u001b[0m \u001b[1;36m4\u001b[0m\u001b[1;33m,\u001b[0m\u001b[1;33m\u001b[0m\u001b[1;33m\u001b[0m\u001b[0m\n",
      "\u001b[1;32mC:\\Documents-cloud\\qubits\\simulation\\QCreator\\libraries\\general_sample_creator.py\u001b[0m in \u001b[0;36mgenerate_round_resonator\u001b[1;34m(self, frequency, initial_point, core, gap, ground, open_end_length, open_end, coupler_length, l1, l2, l3, l4, l5, h_end, corner_type, angle, bridge_params)\u001b[0m\n\u001b[0;32m    343\u001b[0m                                l1, l2, l3,l4,l5, h_end,corner_type, self.total_layer, self.restricted_area_layer)\n\u001b[0;32m    344\u001b[0m         \u001b[0mself\u001b[0m\u001b[1;33m.\u001b[0m\u001b[0mresonators\u001b[0m\u001b[1;33m.\u001b[0m\u001b[0mappend\u001b[0m\u001b[1;33m(\u001b[0m\u001b[0mresonator\u001b[0m\u001b[1;33m)\u001b[0m\u001b[1;33m\u001b[0m\u001b[1;33m\u001b[0m\u001b[0m\n\u001b[1;32m--> 345\u001b[1;33m         \u001b[0mline\u001b[0m\u001b[1;33m,\u001b[0m\u001b[0mline1\u001b[0m\u001b[1;33m,\u001b[0m\u001b[0mopen_end\u001b[0m\u001b[1;33m,\u001b[0m \u001b[0mpoints\u001b[0m \u001b[1;33m=\u001b[0m \u001b[0mresonator\u001b[0m\u001b[1;33m.\u001b[0m\u001b[0mgenerate_resonator\u001b[0m\u001b[1;33m(\u001b[0m\u001b[1;33m)\u001b[0m\u001b[1;33m\u001b[0m\u001b[1;33m\u001b[0m\u001b[0m\n\u001b[0m\u001b[0;32m    346\u001b[0m         \u001b[1;32mif\u001b[0m \u001b[0mbridge_params\u001b[0m \u001b[1;32mis\u001b[0m \u001b[1;32mnot\u001b[0m \u001b[1;32mNone\u001b[0m\u001b[1;33m:\u001b[0m\u001b[1;33m\u001b[0m\u001b[1;33m\u001b[0m\u001b[0m\n\u001b[0;32m    347\u001b[0m             \u001b[0mdistance\u001b[0m\u001b[1;33m,\u001b[0m \u001b[0moffset\u001b[0m\u001b[1;33m,\u001b[0m \u001b[0mwidth\u001b[0m\u001b[1;33m,\u001b[0m \u001b[0mlength\u001b[0m\u001b[1;33m,\u001b[0m \u001b[0mpadsize\u001b[0m\u001b[1;33m,\u001b[0m \u001b[0mline_type\u001b[0m \u001b[1;33m=\u001b[0m \u001b[0mbridge_params\u001b[0m\u001b[1;33m\u001b[0m\u001b[1;33m\u001b[0m\u001b[0m\n",
      "\u001b[1;32mC:\\Documents-cloud\\qubits\\simulation\\QCreator\\libraries\\general_design_functions.py\u001b[0m in \u001b[0;36mgenerate_resonator\u001b[1;34m(self)\u001b[0m\n\u001b[0;32m    688\u001b[0m \u001b[1;33m\u001b[0m\u001b[0m\n\u001b[0;32m    689\u001b[0m \u001b[1;33m\u001b[0m\u001b[0m\n\u001b[1;32m--> 690\u001b[1;33m         line1 = Feedline(deepcopy(Number_of_points), self.core, self.gap, self.ground, None, self.total_layer, self.restricted_area_layer,\n\u001b[0m\u001b[0;32m    691\u001b[0m                         R=40)\n\u001b[0;32m    692\u001b[0m         \u001b[0mline1\u001b[0m \u001b[1;33m=\u001b[0m \u001b[0mline1\u001b[0m\u001b[1;33m.\u001b[0m\u001b[0mgenerate_feedline\u001b[0m\u001b[1;33m(\u001b[0m\u001b[0mself\u001b[0m\u001b[1;33m.\u001b[0m\u001b[0mcorner_type\u001b[0m\u001b[1;33m)\u001b[0m\u001b[1;33m\u001b[0m\u001b[1;33m\u001b[0m\u001b[0m\n",
      "\u001b[1;31mNameError\u001b[0m: name 'Number_of_points' is not defined"
     ]
    }
   ],
   "source": [
    "import random\n",
    "open_end={\n",
    "    'type':'open',\n",
    "    'ground':4,\n",
    "    'gap':20,\n",
    "    'end':False,\n",
    "    'begin':True\n",
    "}\n",
    "\n",
    "bridge_params=creator.Bridges_over_line_param(distance=500, offset=30,\n",
    "                    width=15, length=42, padsize=30, line_type=None)\n",
    "\n",
    "\n",
    "distance=500\n",
    "offset=200\n",
    "\n",
    "start_freq = 5.0e9\n",
    "stop_freq = 11e9\n",
    "num=5\n",
    "freqs=np.linspace(start_freq,stop_freq,num)\n",
    "\n",
    "for start,finish in [[sample.pads[0].coordinate,sample.pads[1].coordinate]]:\n",
    "    if finish[0] - start[0] == 0:\n",
    "        line_angle = np.pi / 2\n",
    "    else:\n",
    "        line_angle = np.arctan((finish[1] - start[1]) / (finish[0] - start[0]))\n",
    "    if finish[1] - start[1] < 0 or finish[1] - start[1] == 0 and finish[0] - start[0] < 0:\n",
    "        line_angle += np.pi\n",
    "    line_length = np.sqrt((finish[0] - start[0]) ** 2 + (finish[1] - start[1]) ** 2)\n",
    "    total_bridges = int((line_length - 2 * offset) / distance)\n",
    "    offset = (line_length - total_bridges * float(distance)) / 2\n",
    "    print((int((line_length - 2 * offset) / distance) + 1)*2)\n",
    "    for num_bridge in range(int((line_length - 2 * offset) / distance) + 1):\n",
    "        resonator_center = (start[0] + np.cos(line_angle) * (offset + num_bridge * distance),\n",
    "                         start[1] + np.sin(line_angle) * (offset + num_bridge * distance))\n",
    "        freq_num=random.randint(0,len(freqs)-2)\n",
    "        sample.generate_round_resonator(freqs[freq_num] ,(deepcopy(resonator_center)[0],deepcopy(resonator_center)[1]-30) ,\n",
    "                               core = 7,\n",
    "                               gap = 4,\n",
    "                               ground = 4,\n",
    "                               open_end_length = 700,open_end=open_end,\n",
    "                               coupler_length = coupler_length(freqs[freq_num],ratio),\n",
    "                               l1=100, l2=200, l3=50,l4 =50 ,l5=400, h_end=10, \n",
    "                               corner_type='flush',angle=line_angle)\n",
    "        freqs=np.delete(freqs,freq_num)\n",
    "        freq_num=random.randint(0,len(freqs)-2)\n",
    "        sample.generate_round_resonator( freqs[freq_num],(deepcopy(resonator_center)[0],deepcopy(resonator_center)[1]+30),\n",
    "                               core = 7,\n",
    "                               gap = 4,\n",
    "                               ground = 4,\n",
    "                               open_end_length = 700,open_end=open_end,\n",
    "                               coupler_length = coupler_length(freqs[freq_num],ratio),\n",
    "                               l1=100, l2=200, l3=50,l4 =50 ,l5=400, h_end=10, \n",
    "                               corner_type='flush',angle=line_angle+np.pi)\n",
    "        freqs=np.delete(freqs,freq_num)"
   ]
  },
  {
   "cell_type": "markdown",
   "metadata": {
    "ExecuteTime": {
     "end_time": "2020-08-13T17:39:28.487072Z",
     "start_time": "2020-08-13T17:39:28.482088Z"
    }
   },
   "source": [
    "## Fill holes"
   ]
  },
  {
   "cell_type": "code",
   "execution_count": null,
   "metadata": {
    "ExecuteTime": {
     "end_time": "2020-08-17T11:01:25.917193Z",
     "start_time": "2020-08-17T11:01:25.913176Z"
    }
   },
   "outputs": [],
   "source": [
    "# sample.create_grid(20,20)"
   ]
  },
  {
   "cell_type": "code",
   "execution_count": null,
   "metadata": {
    "ExecuteTime": {
     "end_time": "2020-08-17T11:01:32.049511Z",
     "start_time": "2020-08-17T11:01:26.262865Z"
    }
   },
   "outputs": [],
   "source": [
    "sample.finish_him()\n",
    "watch()"
   ]
  },
  {
   "cell_type": "code",
   "execution_count": null,
   "metadata": {
    "ExecuteTime": {
     "end_time": "2020-08-17T10:39:42.001958Z",
     "start_time": "2020-08-17T10:39:41.991940Z"
    }
   },
   "outputs": [],
   "source": [
    "gdspy.write_gds('resonators.gds', cells=None, name='library', unit=1e-06, precision=1e-09, timestamp=None, binary_cells=None)"
   ]
  },
  {
   "cell_type": "markdown",
   "metadata": {},
   "source": [
    "# Resonator analysis"
   ]
  },
  {
   "cell_type": "code",
   "execution_count": 66,
   "metadata": {
    "ExecuteTime": {
     "end_time": "2020-08-17T16:32:48.134554Z",
     "start_time": "2020-08-17T16:32:34.442762Z"
    }
   },
   "outputs": [
    {
     "data": {
      "text/plain": [
       "<module 'libraries.Analys_resonator' from 'E:\\\\Github\\\\QCreator\\\\libraries\\\\Analys_resonator.py'>"
      ]
     },
     "execution_count": 66,
     "metadata": {},
     "output_type": "execute_result"
    }
   ],
   "source": [
    "import libraries.Analys_resonator\n",
    "reload(libraries.Analys_resonator)"
   ]
  },
  {
   "cell_type": "code",
   "execution_count": 35,
   "metadata": {
    "ExecuteTime": {
     "end_time": "2020-08-17T09:38:36.195766Z",
     "start_time": "2020-08-17T09:38:36.190920Z"
    }
   },
   "outputs": [],
   "source": [
    "Resonators=[]\n",
    "freqs=[]\n",
    "Qs=[]\n",
    "for resonator in sample.resonators:\n",
    "    Resonators.append(libraries.Analys_resonator.ResonatorAnalyser(resonator))\n",
    "    Resonators[-1].res.widths=[4,7,4,6,4,7,4]\n",
    "    Resonators[-1].get_conformal_tables(0,2)\n",
    "    f,q=Resonators[-1].simulate_S21()\n",
    "    freqs.append(f)\n",
    "    Qs.append(q)"
   ]
  },
  {
   "cell_type": "code",
   "execution_count": 40,
   "metadata": {
    "ExecuteTime": {
     "end_time": "2020-08-17T09:38:46.089502Z",
     "start_time": "2020-08-17T09:38:45.751111Z"
    }
   },
   "outputs": [
    {
     "data": {
      "image/png": "[encoded data removed]",
      "text/plain": [
       "<Figure size 1080x360 with 3 Axes>"
      ]
     },
     "metadata": {
      "needs_background": "light"
     },
     "output_type": "display_data"
    }
   ],
   "source": [
    "Resonators[0].plot_S21()"
   ]
  },
  {
   "cell_type": "code",
   "execution_count": 41,
   "metadata": {
    "ExecuteTime": {
     "end_time": "2020-08-17T09:38:47.902378Z",
     "start_time": "2020-08-17T09:38:47.855480Z"
    }
   },
   "outputs": [],
   "source": [
    "fitter=res.fit_S21()"
   ]
  },
  {
   "cell_type": "code",
   "execution_count": 42,
   "metadata": {
    "ExecuteTime": {
     "end_time": "2020-08-17T09:38:48.644499Z",
     "start_time": "2020-08-17T09:38:48.286121Z"
    }
   },
   "outputs": [
    {
     "data": {
      "image/png": "[encoded data removed]",
      "text/plain": [
       "<Figure size 720x720 with 3 Axes>"
      ]
     },
     "metadata": {
      "needs_background": "light"
     },
     "output_type": "display_data"
    }
   ],
   "source": [
    "from pylab import rcParams\n",
    "rcParams['figure.figsize'] = 10, 10\n",
    "fitter.plotall()"
   ]
  },
  {
   "cell_type": "code",
   "execution_count": 43,
   "metadata": {
    "ExecuteTime": {
     "end_time": "2020-08-17T09:38:50.624883Z",
     "start_time": "2020-08-17T09:38:50.619315Z"
    }
   },
   "outputs": [
    {
     "data": {
      "text/plain": [
       "{'Qi_dia_corr': 243075205860.25137,\n",
       " 'Qi_no_corr': 324562852293.27356,\n",
       " 'absQc': 87345.53104605802,\n",
       " 'Qc_dia_corr': 87345.53892619415,\n",
       " 'Ql': 87345.50753985673,\n",
       " 'fr': 8349874626.6699705,\n",
       " 'theta0': -3.141167930407307,\n",
       " 'phi0': 0.0004247774919163716,\n",
       " 'phi0_err': 0.02642655183422184,\n",
       " 'Ql_err': 55243.37968913675,\n",
       " 'absQc_err': 44.90265473554724,\n",
       " 'fr_err': 1261.3698213852558,\n",
       " 'chi_square': 6.841299201388535e-07,\n",
       " 'Qi_no_corr_err': 7.631203033108196e+17,\n",
       " 'Qi_dia_corr_err': 4.2802809141776154e+17}"
      ]
     },
     "execution_count": 43,
     "metadata": {},
     "output_type": "execute_result"
    }
   ],
   "source": [
    "fitter.fitresults"
   ]
  },
  {
   "cell_type": "code",
   "execution_count": 44,
   "metadata": {
    "ExecuteTime": {
     "end_time": "2020-08-17T09:38:51.179396Z",
     "start_time": "2020-08-17T09:38:51.171886Z"
    }
   },
   "outputs": [
    {
     "data": {
      "text/plain": [
       "(8.34987462666997, 1.2613698213852558e-06)"
      ]
     },
     "execution_count": 44,
     "metadata": {},
     "output_type": "execute_result"
    }
   ],
   "source": [
    "(fitter.fitresults['fr']/1e9,fitter.fitresults['fr_err']/1e9)"
   ]
  },
  {
   "cell_type": "code",
   "execution_count": 45,
   "metadata": {
    "ExecuteTime": {
     "end_time": "2020-08-17T09:38:51.566094Z",
     "start_time": "2020-08-17T09:38:51.560946Z"
    }
   },
   "outputs": [
    {
     "data": {
      "text/plain": [
       "(87345.50753985673, 55243.37968913675)"
      ]
     },
     "execution_count": 45,
     "metadata": {},
     "output_type": "execute_result"
    }
   ],
   "source": [
    "(fitter.fitresults['Ql'],fitter.fitresults['Ql_err'])"
   ]
  },
  {
   "cell_type": "code",
   "execution_count": null,
   "metadata": {},
   "outputs": [],
   "source": []
  }
 ],
 "metadata": {
  "kernelspec": {
   "display_name": "Python 3",
   "language": "python",
   "name": "python3"
  },
  "language_info": {
   "codemirror_mode": {
    "name": "ipython",
    "version": 3
   },
   "file_extension": ".py",
   "mimetype": "text/x-python",
   "name": "python",
   "nbconvert_exporter": "python",
   "pygments_lexer": "ipython3",
   "version": "3.8.5"
  },
  "toc": {
   "base_numbering": 1,
   "nav_menu": {},
   "number_sections": true,
   "sideBar": true,
   "skip_h1_title": false,
   "title_cell": "Table of Contents",
   "title_sidebar": "Contents",
   "toc_cell": false,
   "toc_position": {},
   "toc_section_display": true,
   "toc_window_display": false
  }
 },
 "nbformat": 4,
 "nbformat_minor": 4
}
