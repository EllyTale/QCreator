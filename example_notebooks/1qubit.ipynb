{
 "cells": [
  {
   "cell_type": "code",
   "execution_count": 1,
   "metadata": {},
   "outputs": [],
   "source": [
    "import sys\n",
    "sys.path.append('..')\n",
    "import gdspy\n",
    "import numpy as np\n",
    "from importlib import reload\n",
    "#import libraries.conformal_mapping as cm\n",
    "#import libraries.general_design_functions as gdf\n",
    "#import libraries.general_sample_creator as creator\n",
    "#from  ..libraries import general_design_functions as gdf\n",
    "#fr\n",
    "from copy import deepcopy\n",
    "from QCreator import elements\n",
    "from QCreator import general_sample_creator as creator"
   ]
  },
  {
   "cell_type": "code",
   "execution_count": 2,
   "metadata": {},
   "outputs": [],
   "source": [
    "watch=lambda: gdspy.LayoutViewer(depth=0,pattern={'default': 8},background='#FFFFFF') #this opens a viewer"
   ]
  },
  {
   "cell_type": "code",
   "execution_count": 3,
   "metadata": {},
   "outputs": [],
   "source": [
    "tl_core = 20.\n",
    "tl_gap = 12.\n",
    "tl_ground = 10.\n",
    "\n",
    "resonator_core = 8\n",
    "resonator_gap = 7\n",
    "resonator_ground = 16\n",
    "\n",
    "pad_offset = 1000\n",
    "pad_element_offset = 1000\n",
    "\n",
    "coupler_start = pad_offset + pad_element_offset\n",
    "coupler_delta = 500\n",
    "coupler_length = 300\n",
    "num_couplers = 1"
   ]
  },
  {
   "cell_type": "markdown",
   "metadata": {},
   "source": [
    "# Transmission line with resonator (failed version)"
   ]
  },
  {
   "cell_type": "code",
   "execution_count": 45,
   "metadata": {},
   "outputs": [],
   "source": [
    "reload(gdspy)\n",
    "reload(creator)\n",
    "reload(elements)\n",
    "\n",
    "layers_configuration = {\n",
    "    'total':0,\n",
    "    'restricted area':10,\n",
    "    'for removing':100,\n",
    "    'JJs':1,\n",
    "    'air bridges':2,\n",
    "    'air bridge pads':3,\n",
    "    'vertical gridlines':15,\n",
    "    'horizontal gridlines':16\n",
    "}\n",
    "sample = creator.Sample('4_qubits',layers_configuration)\n",
    "\n",
    "#specify sample vertical and horizontal lengths\n",
    "sample.chip_geometry.sample_vertical_size=4.7e3\n",
    "sample.chip_geometry.sample_horizontal_size=9.7e3\n",
    "\n",
    "central_line_y = sample.chip_geometry.sample_vertical_size/2\n",
    "\n",
    "ChichkovAB = elements.AirBridge(width=15, \n",
    "                                length=60, \n",
    "                                padsize=30, \n",
    "                                min_spacing = 30,\n",
    "                                layer_configuration=sample.layer_configuration)\n",
    "\n",
    "chip_edge_ground = elements.ChipEdgeGround(sample.chip_geometry, sample.layer_configuration, sample.pads)\n",
    "sample.add(chip_edge_ground)\n",
    "\n",
    "grid_ground = elements.GridGround(sample.chip_geometry, sample.layer_configuration, sample.objects, \n",
    "                                  width=4, period=500)\n",
    "sample.add(grid_ground)\n",
    "\n",
    "# 1. Create contact pads:\n",
    "\n",
    "p1 = elements.Pad('p1', (pad_offset,  central_line_y), np.pi, tl_core, tl_gap, tl_ground, \n",
    "                  layer_configuration=sample.layer_configuration, chip_geometry=sample.chip_geometry, \n",
    "                  **elements.default_pad_geometry())\n",
    "p2 = elements.Pad('p2', (sample.chip_geometry.sample_horizontal_size-pad_offset,  central_line_y), \n",
    "                  0, tl_core, tl_gap, tl_ground, \n",
    "                  layer_configuration=sample.layer_configuration, chip_geometry=sample.chip_geometry, \n",
    "                  **elements.default_pad_geometry())\n",
    "sample.add(p1)\n",
    "sample.add(p2)\n",
    "\n",
    "# 2. Create main copler:\n",
    "\n",
    "main_coupler = elements.CPWCoupler('TL-resonator coupler', [(coupler_start, central_line_y), \n",
    "                                                            (coupler_start+coupler_length, central_line_y)],\n",
    "                                   [resonator_core, resonator_ground, tl_core],[resonator_gap, resonator_gap, tl_gap, tl_gap],\n",
    "                                   tl_ground, sample.layer_configuration, r=100)\n",
    "sample.add(main_coupler)\n",
    "\n",
    "# 3. Create fanout to create closed enfd of resonator\n",
    "fanout_for_closed_end = sample.fanout(o=main_coupler, port='port1', name='closed end resonator fanout', grouping=[1, 3])\n",
    "\n",
    "# 4. \n",
    "g1 = sample.ground(o=fanout_for_closed_end, port='center', name='cl1', grounding_width=10, grounding_between = [(2,3)])\n",
    "\n",
    "# 5. Create left part of transmission line\n",
    "left_TL = sample.connect_cpw(o1=p1, o2=g1, port1='port', port2='narrow', name='left TL', points=[])\n",
    "\n",
    "# 6. Create closed meander of resonator\n",
    "closed_end_meander = sample.connect_meander(name='closed end', o1=fanout_for_closed_end, port1='up',\n",
    "                                            meander_length=2300,restricted_scale=400, constant_scale=900, radius=0)\n",
    "\n",
    "# 7. Create fanout to create closed enfd of resonator\n",
    "fanout_for_open_end = sample.fanout(o=main_coupler, port='port2', name='open end resonator fanout', grouping=[1, 3])\n",
    "\n",
    "# 8. \n",
    "g2 = sample.ground(o=fanout_for_open_end, port='center', name='cl2', grounding_width=10, grounding_between = [(0,1)])\n",
    "\n",
    "# 9. Create left part of transmission line\n",
    "right_TL = sample.connect_cpw(o1=p2, o2=g2, port1='port', port2='narrow', name='right TL', points=[])\n",
    "\n",
    "# 10. Create closed meander of resonator\n",
    "open_end_resonator = elements.CPW(name='open end resonator', points=[fanout_for_open_end.get_terminals()['down'].position, (fanout_for_open_end.get_terminals()['down'].position[0],\n",
    "                                                                                                                    fanout_for_open_end.get_terminals()['down'].position[1]-1000)],\n",
    "                                  w=fanout_for_open_end.get_terminals()['down'].w, s=fanout_for_open_end.get_terminals()['down'].s,\n",
    "                                  g=fanout_for_open_end.get_terminals()['down'].g, layer_configuration=sample.layer_configuration, r=25)\n",
    "sample.add(open_end_resonator)\n",
    "sample.connections.append(((fanout_for_open_end, 'down', 0), (open_end_resonator, 'port1', 0)))\n",
    "\n",
    "# 11. Create grounding of resonator\n",
    "resonator_ground_ = sample.ground(o=closed_end_meander, port='port2', name='resonator ground', grounding_width=30, grounding_between = [(0,2)])"
   ]
  },
  {
   "cell_type": "code",
   "execution_count": 46,
   "metadata": {},
   "outputs": [
    {
     "data": {
      "text/plain": [
       "[((CPWCoupler \"TL-resonator coupler\", n=3, l=299.798, 'port1', 0),\n",
       "  (RectFanout closed end resonator fanout, n=3, grouping=(0, 2), 'wide', 0)),\n",
       " ((CPWCoupler \"TL-resonator coupler\", n=3, l=299.798, 'port1', 1),\n",
       "  (RectFanout closed end resonator fanout, n=3, grouping=(0, 2), 'wide', 1)),\n",
       " ((CPWCoupler \"TL-resonator coupler\", n=3, l=299.798, 'port1', 2),\n",
       "  (RectFanout closed end resonator fanout, n=3, grouping=(0, 2), 'wide', 2)),\n",
       " ((RectFanout closed end resonator fanout, n=3, grouping=(0, 2), 'center', 0),\n",
       "  (RectGrounding cl1, 'wide', 0)),\n",
       " ((RectFanout closed end resonator fanout, n=3, grouping=(0, 2), 'center', 1),\n",
       "  (RectGrounding cl1, 'wide', 1)),\n",
       " ((CPW \"left TL\", l=968.634, 'port1', 0),\n",
       "  (<QCreator.elements.pad.Pad at 0x2c45a731460>, 'port', 0)),\n",
       " ((CPW \"left TL\", l=968.634, 'port2', 0), (RectGrounding cl1, 'narrow', 0)),\n",
       " ((CPW \"closed end\", l=2299.958, 'port1', 0),\n",
       "  (RectFanout closed end resonator fanout, n=3, grouping=(0, 2), 'up', 0)),\n",
       " ((CPWCoupler \"TL-resonator coupler\", n=3, l=299.798, 'port2', 0),\n",
       "  (RectFanout open end resonator fanout, n=3, grouping=(1, 3), 'wide', 0)),\n",
       " ((CPWCoupler \"TL-resonator coupler\", n=3, l=299.798, 'port2', 1),\n",
       "  (RectFanout open end resonator fanout, n=3, grouping=(1, 3), 'wide', 1)),\n",
       " ((CPWCoupler \"TL-resonator coupler\", n=3, l=299.798, 'port2', 2),\n",
       "  (RectFanout open end resonator fanout, n=3, grouping=(1, 3), 'wide', 2)),\n",
       " ((RectFanout open end resonator fanout, n=3, grouping=(1, 3), 'center', 0),\n",
       "  (RectGrounding cl2, 'wide', 0)),\n",
       " ((RectFanout open end resonator fanout, n=3, grouping=(1, 3), 'center', 1),\n",
       "  (RectGrounding cl2, 'wide', 1)),\n",
       " ((CPW \"right TL\", l=6367.932, 'port1', 0),\n",
       "  (<QCreator.elements.pad.Pad at 0x2c45429f040>, 'port', 0)),\n",
       " ((CPW \"right TL\", l=6367.932, 'port2', 0), (RectGrounding cl2, 'narrow', 0)),\n",
       " ((RectFanout open end resonator fanout, n=3, grouping=(1, 3), 'down', 0),\n",
       "  (CPW \"open end resonator\", l=999.933, 'port1', 0)),\n",
       " ((CPW \"closed end\", l=2299.958, 'port2', 0),\n",
       "  (RectGrounding resonator ground, 'wide', 0))]"
      ]
     },
     "execution_count": 46,
     "metadata": {},
     "output_type": "execute_result"
    }
   ],
   "source": [
    "sample.connections"
   ]
  },
  {
   "cell_type": "code",
   "execution_count": 47,
   "metadata": {},
   "outputs": [
    {
     "data": {
      "text/plain": [
       "[<QCreator.elements.chip_edge_ground.ChipEdgeGround at 0x2c4591060a0>,\n",
       " <QCreator.elements.grid_ground.GridGround at 0x2c45429f0d0>,\n",
       " <QCreator.elements.pad.Pad at 0x2c45a731460>,\n",
       " <QCreator.elements.pad.Pad at 0x2c45429f040>,\n",
       " CPWCoupler \"TL-resonator coupler\", n=3, l=299.798,\n",
       " RectFanout closed end resonator fanout, n=3, grouping=(0, 2),\n",
       " RectGrounding cl1,\n",
       " CPW \"left TL\", l=968.634,\n",
       " CPW \"closed end\", l=2299.958,\n",
       " RectFanout open end resonator fanout, n=3, grouping=(1, 3),\n",
       " RectGrounding cl2,\n",
       " CPW \"right TL\", l=6367.932,\n",
       " CPW \"open end resonator\", l=999.933,\n",
       " RectGrounding resonator ground]"
      ]
     },
     "execution_count": 47,
     "metadata": {},
     "output_type": "execute_result"
    }
   ],
   "source": [
    "sample.objects"
   ]
  },
  {
   "cell_type": "code",
   "execution_count": 48,
   "metadata": {},
   "outputs": [
    {
     "name": "stderr",
     "output_type": "stream",
     "text": [
      "C:\\ProgramData\\Anaconda3\\envs\\py38\\lib\\site-packages\\gdspy\\path.py:814: UserWarning: [GDSPY] Possible inconsistency found in `FlexPath` due to sharp corner.\n",
      "  warnings.warn(\n",
      "<ipython-input-2-1fe8b7b94d80>:1: DeprecationWarning: [GDSPY] Use of the global library is deprecated.  Pass LayoutViewer a GdsLibrary instance.\n",
      "  watch=lambda: gdspy.LayoutViewer(depth=0,pattern={'default': 8},background='#FFFFFF') #this opens a viewer\n"
     ]
    },
    {
     "data": {
      "text/plain": [
       "<gdspy.viewer.LayoutViewer object .!layoutviewer>"
      ]
     },
     "execution_count": 48,
     "metadata": {},
     "output_type": "execute_result"
    }
   ],
   "source": [
    "design = sample.draw_design()\n",
    "watch()"
   ]
  },
  {
   "cell_type": "code",
   "execution_count": 49,
   "metadata": {},
   "outputs": [],
   "source": [
    "gdspy.write_gds('1qubit.gds', cells=None, name='library', unit=1e-06, precision=1e-09, timestamp=None, binary_cells=None)"
   ]
  },
  {
   "cell_type": "code",
   "execution_count": 50,
   "metadata": {},
   "outputs": [
    {
     "data": {
      "text/plain": [
       "16"
      ]
     },
     "execution_count": 50,
     "metadata": {},
     "output_type": "execute_result"
    }
   ],
   "source": [
    "resonator_ground"
   ]
  },
  {
   "cell_type": "code",
   "execution_count": 51,
   "metadata": {},
   "outputs": [],
   "source": [
    "sys, connections, elements_ = sample.get_tls()"
   ]
  },
  {
   "cell_type": "code",
   "execution_count": 52,
   "metadata": {},
   "outputs": [
    {
     "data": {
      "text/plain": [
       "[[6],\n",
       " [14],\n",
       " [1, 2, 3, 9, 10, 11],\n",
       " [1, 2, 4, 5],\n",
       " [3, 8],\n",
       " [5, 0],\n",
       " [4, 7],\n",
       " [6, 7],\n",
       " [8, 17],\n",
       " [11, 16],\n",
       " [10, 9, 12, 13],\n",
       " [12, 0],\n",
       " [13, 15],\n",
       " [14, 15],\n",
       " [16, 18],\n",
       " [17]]"
      ]
     },
     "execution_count": 52,
     "metadata": {},
     "output_type": "execute_result"
    }
   ],
   "source": [
    "sys.terminal_node_mapping"
   ]
  },
  {
   "cell_type": "code",
   "execution_count": 53,
   "metadata": {},
   "outputs": [
    {
     "data": {
      "text/plain": [
       "{(CPWCoupler \"TL-resonator coupler\", n=3, l=299.798, 'port1', 0): 1,\n",
       " (RectFanout closed end resonator fanout, n=3, grouping=(0, 2), 'wide', 0): 1,\n",
       " (CPWCoupler \"TL-resonator coupler\", n=3, l=299.798, 'port1', 1): 2,\n",
       " (RectFanout closed end resonator fanout, n=3, grouping=(0, 2), 'wide', 1): 2,\n",
       " (CPWCoupler \"TL-resonator coupler\", n=3, l=299.798, 'port1', 2): 3,\n",
       " (RectFanout closed end resonator fanout, n=3, grouping=(0, 2), 'wide', 2): 3,\n",
       " (RectFanout closed end resonator fanout, n=3, grouping=(0, 2),\n",
       "  'center',\n",
       "  0): 4,\n",
       " (RectGrounding cl1, 'wide', 0): 4,\n",
       " (RectFanout closed end resonator fanout, n=3, grouping=(0, 2),\n",
       "  'center',\n",
       "  1): 5,\n",
       " (RectGrounding cl1, 'wide', 1): 5,\n",
       " (CPW \"left TL\", l=968.634, 'port1', 0): 6,\n",
       " (<QCreator.elements.pad.Pad at 0x2c45a731460>, 'port', 0): 6,\n",
       " (CPW \"left TL\", l=968.634, 'port2', 0): 7,\n",
       " (RectGrounding cl1, 'narrow', 0): 7,\n",
       " (CPW \"closed end\", l=2299.958, 'port1', 0): 8,\n",
       " (RectFanout closed end resonator fanout, n=3, grouping=(0, 2), 'up', 0): 8,\n",
       " (CPWCoupler \"TL-resonator coupler\", n=3, l=299.798, 'port2', 0): 9,\n",
       " (RectFanout open end resonator fanout, n=3, grouping=(1, 3), 'wide', 0): 9,\n",
       " (CPWCoupler \"TL-resonator coupler\", n=3, l=299.798, 'port2', 1): 10,\n",
       " (RectFanout open end resonator fanout, n=3, grouping=(1, 3), 'wide', 1): 10,\n",
       " (CPWCoupler \"TL-resonator coupler\", n=3, l=299.798, 'port2', 2): 11,\n",
       " (RectFanout open end resonator fanout, n=3, grouping=(1, 3), 'wide', 2): 11,\n",
       " (RectFanout open end resonator fanout, n=3, grouping=(1, 3), 'center', 0): 12,\n",
       " (RectGrounding cl2, 'wide', 0): 12,\n",
       " (RectFanout open end resonator fanout, n=3, grouping=(1, 3), 'center', 1): 13,\n",
       " (RectGrounding cl2, 'wide', 1): 13,\n",
       " (CPW \"right TL\", l=6367.932, 'port1', 0): 14,\n",
       " (<QCreator.elements.pad.Pad at 0x2c45429f040>, 'port', 0): 14,\n",
       " (CPW \"right TL\", l=6367.932, 'port2', 0): 15,\n",
       " (RectGrounding cl2, 'narrow', 0): 15,\n",
       " (RectFanout open end resonator fanout, n=3, grouping=(1, 3), 'down', 0): 16,\n",
       " (CPW \"open end resonator\", l=999.933, 'port1', 0): 16,\n",
       " (CPW \"closed end\", l=2299.958, 'port2', 0): 17,\n",
       " (RectGrounding resonator ground, 'wide', 0): 17,\n",
       " (CPW \"open end resonator\", l=999.933, 'port2', 0): 18}"
      ]
     },
     "execution_count": 53,
     "metadata": {},
     "output_type": "execute_result"
    }
   ],
   "source": [
    "connections"
   ]
  },
  {
   "cell_type": "code",
   "execution_count": 54,
   "metadata": {},
   "outputs": [
    {
     "data": {
      "text/plain": [
       "{'chip_edge_ground': [],\n",
       " 'p1': [Port p1],\n",
       " 'p2': [Port p2],\n",
       " 'TL-resonator coupler': [TL TL-resonator coupler (n=3)],\n",
       " 'closed end resonator fanout': [TL closed end resonator fanout_group1 (n=2),\n",
       "  TL closed end resonator fanout_group2 (n=1)],\n",
       " 'cl1': [[R cl10, TL cl1 (n=1)]],\n",
       " 'left TL': [TL left TL (n=1)],\n",
       " 'closed end': [TL closed end (n=1)],\n",
       " 'open end resonator fanout': [TL open end resonator fanout_group0 (n=1),\n",
       "  TL open end resonator fanout_group1 (n=2)],\n",
       " 'cl2': [[R cl20, TL cl2 (n=1)]],\n",
       " 'right TL': [TL right TL (n=1)],\n",
       " 'open end resonator': [TL open end resonator (n=1)],\n",
       " 'resonator ground': [Short ]}"
      ]
     },
     "execution_count": 54,
     "metadata": {},
     "output_type": "execute_result"
    }
   ],
   "source": [
    "elements_"
   ]
  },
  {
   "cell_type": "code",
   "execution_count": 55,
   "metadata": {},
   "outputs": [
    {
     "name": "stderr",
     "output_type": "stream",
     "text": [
      "..\\QCreator\\general_sample_creator.py:304: FutureWarning: `rcond` parameter will change to the default of machine precision times ``max(M, N)`` where M and N are the input matrix dimensions.\n",
      "To use the future default and silence this warning we advise to pass `rcond=None`, to keep using the old, explicitly pass `rcond=-1`.\n",
      "  s.append(np.linalg.lstsq(m, boundary)[0][a2[0]])\n"
     ]
    },
    {
     "data": {
      "text/plain": [
       "[<matplotlib.lines.Line2D at 0x2c45aa02e50>]"
      ]
     },
     "execution_count": 55,
     "metadata": {},
     "output_type": "execute_result"
    },
    {
     "data": {
      "image/png": "[encoded data removed]",
      "text/plain": [
       "<Figure size 432x288 with 1 Axes>"
      ]
     },
     "metadata": {
      "needs_background": "light"
     },
     "output_type": "display_data"
    }
   ],
   "source": [
    "f = np.linspace(4e9, 10e9, 6001)\n",
    "s11 = sample.get_s21('p1', 'p1', f)\n",
    "s21 = sample.get_s21('p1', 'p2', f)\n",
    "from matplotlib import pyplot as plt\n",
    "plt.plot(f, np.abs(s11))\n",
    "plt.plot(f, np.abs(s21))"
   ]
  },
  {
   "cell_type": "code",
   "execution_count": 57,
   "metadata": {},
   "outputs": [
    {
     "data": {
      "text/plain": [
       "(array([8.01217031e+09, 8.20320246e+09, 1.63715129e+10, 2.47542955e+10,\n",
       "        2.51928373e+10, 3.21080074e+10, 3.26067431e+10, 3.29754970e+10,\n",
       "        3.44920594e+10, 3.73061474e+10, 3.76129874e+10, 4.10496715e+10,\n",
       "        4.24384604e+10, 4.24957520e+10, 4.26787733e+10, 4.32672738e+10,\n",
       "        4.33808811e+10, 5.74085959e+10, 6.13051852e+10, 7.42055462e+10,\n",
       "        9.00811842e+10, 9.38815943e+10, 1.01720791e+11, 1.12216757e+11,\n",
       "        1.16723272e+11, 1.16898045e+11, 1.18113393e+11, 1.18334577e+11,\n",
       "        1.19562526e+11, 1.19664508e+11, 1.20188983e+11, 1.20271182e+11,\n",
       "        1.40350562e+11, 1.40798831e+11, 1.81443006e+11, 1.82835257e+11,\n",
       "        2.18628736e+11, 2.25209742e+11, 2.42436524e+11, 2.45505952e+11,\n",
       "        2.46898992e+11, 2.48510894e+11, 2.61118812e+11, 2.67631129e+11,\n",
       "        2.67948451e+11, 2.73494674e+11, 2.73780942e+11, 2.73943167e+11,\n",
       "        2.74359398e+11, 2.77526768e+11, 2.78185227e+11, 2.78823458e+11,\n",
       "        2.79557098e+11, 2.82163234e+11, 2.83434804e+11, 2.84500232e+11,\n",
       "        2.85137399e+11, 3.30456863e+11, 3.35904179e+11, 3.36674070e+11,\n",
       "        4.05706356e+11, 4.18022785e+11, 5.42111459e+11, 5.42225817e+11,\n",
       "        6.53892918e+11, 6.58481508e+11, 6.92007706e+11, 7.27539765e+11,\n",
       "        7.83628032e+11, 7.85681134e+11, 7.87248665e+11, 8.00181233e+11,\n",
       "        8.18187012e+11, 8.78986830e+11, 8.80511208e+11, 8.87925079e+11,\n",
       "        8.88400823e+11, 8.89992775e+11, 8.91886177e+11, 8.99405472e+11,\n",
       "        9.04462318e+11, 9.08203609e+11, 9.08693315e+11, 9.15078768e+11,\n",
       "        9.15294267e+11, 9.15568681e+11, 9.15961557e+11, 9.19160048e+11,\n",
       "        9.19521733e+11, 9.19560831e+11, 9.20243891e+11, 9.20315962e+11,\n",
       "        9.21853083e+11, 9.25854656e+11, 9.26084462e+11, 9.26161763e+11,\n",
       "        9.26588927e+11, 9.27498112e+11, 1.37177876e+12, 1.38496979e+12,\n",
       "        1.91685509e+12, 2.04166788e+12, 2.27797298e+12, 2.34208747e+12,\n",
       "        2.86929194e+12, 3.01901257e+12, 3.16749930e+12, 3.33550287e+12,\n",
       "        3.67766622e+12, 4.00544087e+12, 4.05367936e+12, 4.53766858e+12,\n",
       "        4.57037431e+12, 4.96825098e+12, 5.44267412e+12, 5.81270302e+12,\n",
       "        5.84810067e+12, 5.92339240e+12, 6.33733144e+12, 6.74974820e+12,\n",
       "        7.01271607e+12, 7.21485836e+12, 7.22858206e+12, 7.26977003e+12,\n",
       "        7.44924655e+12, 7.54107664e+12, 7.61742829e+12, 7.64818210e+12,\n",
       "        7.73046631e+12, 7.84352307e+12, 7.90575790e+12, 8.11224857e+12,\n",
       "        8.11226401e+12, 8.11375162e+12, 8.11394351e+12, 8.13896836e+12,\n",
       "        8.13919907e+12, 8.17011278e+12, 8.19402976e+12, 8.19445567e+12,\n",
       "        8.26033553e+12, 8.26034303e+12, 8.27291342e+12, 8.30672343e+12,\n",
       "        8.33369057e+12, 8.33369063e+12, 8.33475384e+12, 8.33475507e+12,\n",
       "        8.39401439e+12, 8.44938684e+12, 8.45238853e+12, 8.46091307e+12,\n",
       "        8.46098706e+12, 8.50120948e+12, 8.50121089e+12, 8.50177037e+12,\n",
       "        8.53312810e+12, 8.54302798e+12, 8.54945153e+12, 8.54946108e+12,\n",
       "        8.56634018e+12, 8.61628497e+12, 8.62642956e+12, 8.68304845e+12,\n",
       "        8.69577199e+12, 8.71333180e+12, 8.80408011e+12, 8.80410984e+12,\n",
       "        8.82648606e+12, 8.82680554e+12, 8.83193431e+12, 8.83193466e+12,\n",
       "        8.84259065e+12, 8.84259740e+12, 8.87138222e+12, 9.21253213e+12,\n",
       "        9.21359745e+12, 9.21780702e+12, 9.21782092e+12, 1.05369936e+13,\n",
       "        1.05691267e+13, 1.30131624e+13, 1.55595382e+13, 1.81565762e+13,\n",
       "        2.11530309e+13, 2.31129498e+13, 2.33813125e+13, 2.35517006e+13,\n",
       "        2.35923861e+13, 2.37061386e+13, 2.38467507e+13, 2.39128967e+13,\n",
       "        2.43381011e+13, 2.44992069e+13, 2.46072191e+13, 2.47235237e+13,\n",
       "        2.53173883e+13, 2.56547642e+13, 2.69490120e+13, 2.69967667e+13,\n",
       "        2.70833804e+13, 2.71426329e+13, 2.75077452e+13, 2.75557098e+13,\n",
       "        2.76189672e+13, 2.76712862e+13, 4.48472779e+13]),\n",
       " array([ 6.75452737e+10,  5.89066817e+06,  6.65145108e+10,  7.05978770e+06,\n",
       "         6.63971644e+10,  7.26690972e+10,  1.51981612e+11,  1.06567300e+11,\n",
       "         2.24423106e+11,  1.93207106e+10,  1.71975371e+10,  1.22158692e+08,\n",
       "        -8.10012188e+10, -8.01826131e+10,  2.92820715e+11, -2.35451908e+11,\n",
       "        -2.34935545e+11,  2.63569027e+08,  4.11151468e+11,  4.94919379e+07,\n",
       "         3.05357883e+08,  3.24864903e+11,  3.28384697e+08,  3.72699260e+08,\n",
       "         2.17701789e+11, -2.17091054e+11, -2.29768152e+11,  2.29492835e+11,\n",
       "         6.45063997e+11, -6.45952618e+11, -6.56626263e+11,  6.57624817e+11,\n",
       "         3.11002749e+11,  6.29227461e+08,  1.46818408e+07,  3.14674000e+11,\n",
       "         2.11512066e+07,  3.80656695e+11,  1.74498157e+08,  1.37301102e+11,\n",
       "         1.06535818e+11,  6.23698287e+11,  1.54635817e+12,  5.17330724e+11,\n",
       "        -5.19470120e+11, -5.07032067e+11,  1.49672468e+12,  5.09974955e+11,\n",
       "        -1.49827232e+12, -1.49736969e+12,  1.49924307e+12, -5.30793465e+11,\n",
       "        -5.28886148e+11,  2.62801671e+09,  9.66853216e+11, -1.54648947e+12,\n",
       "        -1.54593889e+12,  1.05570619e+08,  6.93614965e+08,  1.71163574e+12,\n",
       "         7.10605482e+06,  1.13158651e+12,  8.78789148e+11,  3.27537191e+09,\n",
       "         5.72132939e+08,  2.08580631e+08,  1.38727848e+09,  1.54225470e+12,\n",
       "         8.68155032e+08,  1.90964320e+12,  3.69925000e+11,  3.56717624e+11,\n",
       "         3.32781588e+12,  4.56997939e+07,  1.96770014e+07, -1.66305140e+12,\n",
       "         1.66482092e+12,  1.60937445e+08,  4.84141949e+12, -1.69850661e+12,\n",
       "        -1.72347628e+12,  1.73642145e+12, -1.74186601e+12, -4.93943414e+12,\n",
       "        -4.95116182e+12,  4.94374361e+12,  4.95730831e+12, -4.98456191e+12,\n",
       "         1.82283265e+12, -1.82344132e+12,  1.84111734e+12, -1.84241083e+12,\n",
       "        -5.01291386e+12,  5.06873016e+12, -5.06226522e+12,  5.06020019e+12,\n",
       "        -5.07561848e+12,  5.47672644e+12,  1.64990192e+10,  3.96180936e+12,\n",
       "         5.75616741e+12,  9.23417433e+09,  1.69710316e+09,  5.93589967e+09,\n",
       "         1.42039940e+10,  5.87804847e+12,  6.36335142e+12,  9.80812934e+12,\n",
       "         7.68378921e+09,  6.31422163e+08,  4.39326785e+09,  6.42508255e+12,\n",
       "         8.15463260e+09,  4.97955717e+12,  4.85211278e+09,  2.60593554e+08,\n",
       "         2.79532833e+09,  6.64621875e+12,  4.48893896e+09,  4.12303370e+12,\n",
       "         1.88134624e+09,  7.45627200e+07,  9.32849784e+08,  3.26472582e+12,\n",
       "         1.58186939e+09,  2.06811733e+12,  3.21390838e+12,  1.29191724e+13,\n",
       "         7.84546223e+12,  1.72218014e+13,  1.85000404e+09,  1.53430961e+13,\n",
       "        -1.53430524e+13,  1.54169595e+13, -1.54163407e+13,  1.67797305e+13,\n",
       "        -1.67774939e+13,  1.97576478e+13,  1.41539858e+13, -1.41544130e+13,\n",
       "        -4.66608330e+13,  4.66608041e+13,  1.49459641e+08,  2.09945470e+09,\n",
       "         4.50726874e+13, -4.50726910e+13,  4.51419614e+13, -4.51418999e+13,\n",
       "        -1.65829159e+13, -1.59802605e+13, -1.60962001e+13, -1.87055930e+13,\n",
       "         1.87083566e+13,  4.93473927e+13, -4.93473514e+13, -1.53694536e+13,\n",
       "        -4.71874410e+13,  4.69090255e+13,  4.41324425e+13, -4.41325361e+13,\n",
       "         4.72473502e+13, -4.67634488e+13, -4.68443545e+13,  4.62831076e+13,\n",
       "         4.66941534e+13, -4.63384262e+13, -1.88888264e+13,  1.88889790e+13,\n",
       "        -1.88001939e+13,  1.88017835e+13,  4.98214984e+13, -4.98214976e+13,\n",
       "        -4.97342788e+13,  4.97342687e+13,  2.21060113e+13, -1.32278415e+13,\n",
       "         1.32110076e+13,  4.72320526e+13, -4.72321235e+13,  2.30624607e+13,\n",
       "         2.90957180e+10,  2.38978402e+13,  2.46550349e+13,  2.51841428e+13,\n",
       "         2.90185007e+13,  4.49989805e+13,  1.06100512e+13,  1.66274618e+14,\n",
       "         1.45584501e+14,  5.95014226e+13,  1.60737685e+13,  9.00544558e+12,\n",
       "         1.11407519e+13,  7.37773086e+13,  1.23199103e+14,  3.02395255e+14,\n",
       "         9.82811999e+13,  2.06916214e+14, -5.16319350e+13, -5.07167702e+13,\n",
       "        -5.19503607e+13, -5.09894106e+13, -1.49636621e+14, -1.50272525e+14,\n",
       "        -1.49258914e+14, -1.49915968e+14,  1.05372299e+10]))"
      ]
     },
     "execution_count": 57,
     "metadata": {},
     "output_type": "execute_result"
    }
   ],
   "source": [
    "sys, connections, elements_ = sample.get_tls()\n",
    "f, delta, modes = sys.get_modes()\n",
    "f/(2*np.pi), delta"
   ]
  },
  {
   "cell_type": "code",
   "execution_count": null,
   "metadata": {},
   "outputs": [],
   "source": []
  }
 ],
 "metadata": {
  "kernelspec": {
   "display_name": "Python 3",
   "language": "python",
   "name": "python3"
  },
  "language_info": {
   "codemirror_mode": {
    "name": "ipython",
    "version": 3
   },
   "file_extension": ".py",
   "mimetype": "text/x-python",
   "name": "python",
   "nbconvert_exporter": "python",
   "pygments_lexer": "ipython3",
   "version": "3.8.5"
  }
 },
 "nbformat": 4,
 "nbformat_minor": 2
}
