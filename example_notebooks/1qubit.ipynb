{
 "cells": [
  {
   "cell_type": "code",
   "execution_count": 7,
   "metadata": {},
   "outputs": [],
   "source": [
    "import sys\n",
    "sys.path.append('..')\n",
    "import gdspy\n",
    "import numpy as np\n",
    "from importlib import reload\n",
    "#import libraries.conformal_mapping as cm\n",
    "#import libraries.general_design_functions as gdf\n",
    "#import libraries.general_sample_creator as creator\n",
    "#from  ..libraries import general_design_functions as gdf\n",
    "#fr\n",
    "from copy import deepcopy\n",
    "from QCreator import elements\n",
    "from QCreator import general_sample_creator as creator"
   ]
  },
  {
   "cell_type": "code",
   "execution_count": 8,
   "metadata": {},
   "outputs": [],
   "source": [
    "watch=lambda: gdspy.LayoutViewer(depth=0,pattern={'default': 8},background='#FFFFFF') #this opens a viewer\n",
    "\n",
    "tl_core = 20.\n",
    "tl_gap = 12.\n",
    "tl_ground = 10.\n",
    "\n",
    "resonator_core = 8\n",
    "resonator_gap = 7\n",
    "resonator_ground = 16\n",
    "\n",
    "pad_offset = 1000\n",
    "pad_element_offset = 1000\n",
    "\n",
    "coupler_start = pad_offset + pad_element_offset\n",
    "coupler_delta = 500\n",
    "coupler_length = 300\n",
    "num_couplers = 1"
   ]
  },
  {
   "cell_type": "markdown",
   "metadata": {},
   "source": [
    "# Transmission line with resonator"
   ]
  },
  {
   "cell_type": "code",
   "execution_count": 9,
   "metadata": {},
   "outputs": [
    {
     "name": "stdout",
     "output_type": "stream",
     "text": [
      "Number of curves 9.0\n",
      "        Scale eff 155.55555555555554\n",
      "        x 88.44444444444444\n",
      "        delta 21.0\n",
      "        check length 2300.0\n",
      "        \n"
     ]
    }
   ],
   "source": [
    "reload(gdspy)\n",
    "reload(creator)\n",
    "reload(elements)\n",
    "\n",
    "layers_configuration = {\n",
    "    'total':0,\n",
    "    'restricted area':10,\n",
    "    'for removing':100,\n",
    "    'JJs':1,\n",
    "    'air bridges':2,\n",
    "    'air bridge pads':3,\n",
    "    'vertical gridlines':15,\n",
    "    'horizontal gridlines':16\n",
    "}\n",
    "sample = creator.Sample('4_qubits',layers_configuration)\n",
    "\n",
    "#specify sample vertical and horizontal lengths\n",
    "sample.chip_geometry.sample_vertical_size=4.7e3\n",
    "sample.chip_geometry.sample_horizontal_size=9.7e3\n",
    "\n",
    "central_line_y = sample.chip_geometry.sample_vertical_size/2\n",
    "\n",
    "ChichkovAB = elements.AirBridge(width=15, \n",
    "                                length=60, \n",
    "                                padsize=30, \n",
    "                                min_spacing = 30,\n",
    "                                layer_configuration=sample.layer_configuration)\n",
    "\n",
    "chip_edge_ground = elements.ChipEdgeGround(sample.chip_geometry, sample.layer_configuration, sample.pads)\n",
    "sample.add(chip_edge_ground)\n",
    "\n",
    "grid_ground = elements.GridGround(sample.chip_geometry, sample.layer_configuration, sample.objects, \n",
    "                                  width=4, period=500)\n",
    "sample.add(grid_ground)\n",
    "\n",
    "# 1. Create contact pads:\n",
    "\n",
    "p1 = elements.Pad('p1', (pad_offset,  central_line_y), np.pi, tl_core, tl_gap, tl_ground, \n",
    "                  layer_configuration=sample.layer_configuration, chip_geometry=sample.chip_geometry, \n",
    "                  **elements.default_pad_geometry())\n",
    "p2 = elements.Pad('p2', (sample.chip_geometry.sample_horizontal_size-pad_offset,  central_line_y), \n",
    "                  0, tl_core, tl_gap, tl_ground, \n",
    "                  layer_configuration=sample.layer_configuration, chip_geometry=sample.chip_geometry, \n",
    "                  **elements.default_pad_geometry())\n",
    "sample.add(p1)\n",
    "sample.add(p2)\n",
    "\n",
    "# 2. Create main copler:\n",
    "\n",
    "main_coupler = elements.CPWCoupler('TL-resonator coupler', [(coupler_start, central_line_y), (coupler_start+coupler_length, central_line_y)],\n",
    "                                   [resonator_core, resonator_ground, tl_core],[resonator_gap, resonator_gap, tl_gap, tl_gap],\n",
    "                                   tl_ground, sample.layer_configuration, r=100)\n",
    "sample.add(main_coupler)\n",
    "\n",
    "# 3. Create fanout to create closed enfd of resonator\n",
    "fanout_for_closed_end = sample.fanout(o=main_coupler, port='port1', name='closed end resonator fanout', grouping=[2,3])\n",
    "\n",
    "# 4. ??? =(\n",
    "g1 = sample.ground(o=fanout_for_closed_end, port='up', name='cl1', grounding_width=10,\n",
    "               grounding_between = [(0,1)])\n",
    "\n",
    "# 5. Create left part of transmission line\n",
    "left_TL = sample.connect_cpw(o1=p1, o2=fanout_for_closed_end , port1='port', port2='center', name='left TL', points=[])\n",
    "\n",
    "# 6. Create closed meander of resonator\n",
    "closed_end_meander = sample.connect_meander(name='closed end', o1=g1, port1='narrow',\n",
    "                                            meander_length=2300,restricted_scale=200, constant_scale=900, radius=25)\n",
    "# 7. Create grounding of resonator\n",
    "resonator_ground = sample.ground(o=closed_end_meander, port='port2', name='resonator ground', grounding_width=10, grounding_between = [(0,2)])\n",
    "\n",
    "# 8. Create fanout to create closed enfd of resonator\n",
    "fanout_for_open_end = sample.fanout(o=main_coupler, port='port2', name='open end resonator fanout', grouping=[2,3])\n",
    "\n",
    "# 9. ??? =(\n",
    "g2 = sample.ground(o=fanout_for_open_end, port='down', name='cl2', grounding_width=10,\n",
    "               grounding_between = [(2,3)])\n",
    "# 10. Create closed meander of resonator\n",
    "open_end_resonator = elements.CPWCoupler(name='open end resonator', points=[g2.get_terminals()['narrow'].position, (g2.get_terminals()['narrow'].position[0],\n",
    "                                                                                                                    g2.get_terminals()['narrow'].position[1]-500)],\n",
    "                                  w=g2.get_terminals()['narrow'].w, s=g2.get_terminals()['narrow'].s,\n",
    "                                  g=g2.get_terminals()['narrow'].g, layer_configuration=sample.layer_configuration, r=25)\n",
    "sample.add(open_end_resonator)\n",
    "# 11. Create left part of transmission line\n",
    "right_TL = sample.connect_cpw(o1=p2, o2=fanout_for_open_end, port1='port', port2='center', name='right TL', points=[])"
   ]
  },
  {
   "cell_type": "code",
   "execution_count": 10,
   "metadata": {},
   "outputs": [
    {
     "name": "stderr",
     "output_type": "stream",
     "text": [
      "/home/alena/anaconda3/lib/python3.7/site-packages/ipykernel_launcher.py:1: DeprecationWarning: [GDSPY] Use of the global library is deprecated.  Pass LayoutViewer a GdsLibrary instance.\n",
      "  \"\"\"Entry point for launching an IPython kernel.\n"
     ]
    },
    {
     "data": {
      "text/plain": [
       "<gdspy.viewer.LayoutViewer object .!layoutviewer>"
      ]
     },
     "execution_count": 10,
     "metadata": {},
     "output_type": "execute_result"
    }
   ],
   "source": [
    "design = sample.draw_design()\n",
    "watch()"
   ]
  },
  {
   "cell_type": "code",
   "execution_count": 29,
   "metadata": {},
   "outputs": [
    {
     "data": {
      "text/plain": [
       "{'port1': Type: mc-cpw, Position: (1200.0, 2350.0), Orientation: 0.0\n",
       " w: [8, 16, 20.0], s: [7, 7, 12.0, 12.0], g: 10.0\n",
       " reversed: False,\n",
       " 'port2': Type: mc-cpw, Position: (1500.0, 2350.0), Orientation: 3.142\n",
       " w: [8, 16, 20.0], s: [7, 7, 12.0, 12.0], g: 10.0\n",
       " reversed: True}"
      ]
     },
     "execution_count": 29,
     "metadata": {},
     "output_type": "execute_result"
    }
   ],
   "source": [
    "main_coupler.get_terminals()"
   ]
  },
  {
   "cell_type": "code",
   "execution_count": 38,
   "metadata": {},
   "outputs": [
    {
     "data": {
      "text/plain": [
       "{'wide': Type: mc-cpw, Position: (1200.0, 2350.0), Orientation: 3.142\n",
       " w: [8, 16, 20.0], s: [7, 7, 12.0, 12.0], g: 10.0\n",
       " reversed: True,\n",
       " 'center': Type: cpw, Position: (1145.0, 2369.0), Orientation: 0.0\n",
       " w: 20.0, s: 12.0, g: 10.0\n",
       " reversed: True,\n",
       " 'up': Type: mc-cpw, Position: (1177.5, 2299.0), Orientation: 1.571\n",
       " w: [16, 8], s: [7, 7, 7], g: 10.0\n",
       " reversed: True}"
      ]
     },
     "execution_count": 38,
     "metadata": {},
     "output_type": "execute_result"
    }
   ],
   "source": [
    "fanout_for_closed_end.get_terminals()"
   ]
  },
  {
   "cell_type": "code",
   "execution_count": 18,
   "metadata": {},
   "outputs": [
    {
     "data": {
      "text/plain": [
       "{'wide': Type: mc-cpw, Position: (1977.5, 2299.0), Orientation: -1.571\n",
       " w: [16, 8], s: [7, 7, 7], g: 10.0\n",
       " reversed: True,\n",
       " 'narrow': Type: mc-cpw, Position: (1966.0, 2289.0), Orientation: 1.571\n",
       " w: [8], s: [7, 7], g: 10.0\n",
       " reversed: True}"
      ]
     },
     "execution_count": 18,
     "metadata": {},
     "output_type": "execute_result"
    }
   ],
   "source": [
    "g1.get_terminals()"
   ]
  },
  {
   "cell_type": "code",
   "execution_count": 13,
   "metadata": {},
   "outputs": [
    {
     "data": {
      "text/plain": [
       "{'wide': Type: mc-cpw, Position: (2300.0, 2350.0), Orientation: 6.283\n",
       " w: [8, 16, 20.0], s: [7, 7, 12.0, 12.0], g: 10.0\n",
       " reversed: False,\n",
       " 'down': Type: mc-cpw, Position: (2322.5, 2299.0), Orientation: 1.571\n",
       " w: [8, 16], s: [7, 7, 7], g: 10.0\n",
       " reversed: True,\n",
       " 'center': Type: cpw, Position: (2355.0, 2369.0), Orientation: 3.142\n",
       " w: 20.0, s: 12.0, g: 10.0\n",
       " reversed: True}"
      ]
     },
     "execution_count": 13,
     "metadata": {},
     "output_type": "execute_result"
    }
   ],
   "source": [
    "fanout_for_open_end.get_terminals()"
   ]
  },
  {
   "cell_type": "code",
   "execution_count": 5,
   "metadata": {},
   "outputs": [
    {
     "data": {
      "text/plain": [
       "Type: mc-cpw, Position: (2311.0, 2289.0), Orientation: 1.571\n",
       "w: [8], s: [7, 7], g: 10.0\n",
       "reversed: True"
      ]
     },
     "execution_count": 5,
     "metadata": {},
     "output_type": "execute_result"
    }
   ],
   "source": [
    "g2.get_terminals()['narrow']"
   ]
  },
  {
   "cell_type": "code",
   "execution_count": null,
   "metadata": {},
   "outputs": [],
   "source": []
  }
 ],
 "metadata": {
  "kernelspec": {
   "display_name": "Python 3",
   "language": "python",
   "name": "python3"
  },
  "language_info": {
   "codemirror_mode": {
    "name": "ipython",
    "version": 3
   },
   "file_extension": ".py",
   "mimetype": "text/x-python",
   "name": "python",
   "nbconvert_exporter": "python",
   "pygments_lexer": "ipython3",
   "version": "3.7.3"
  }
 },
 "nbformat": 4,
 "nbformat_minor": 2
}
