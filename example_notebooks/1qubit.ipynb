{
 "cells": [
  {
   "cell_type": "code",
   "execution_count": 1,
   "metadata": {},
   "outputs": [],
   "source": [
    "import sys\n",
    "sys.path.append('..')\n",
    "import gdspy\n",
    "import numpy as np\n",
    "from importlib import reload\n",
    "#import libraries.conformal_mapping as cm\n",
    "#import libraries.general_design_functions as gdf\n",
    "#import libraries.general_sample_creator as creator\n",
    "#from  ..libraries import general_design_functions as gdf\n",
    "#fr\n",
    "from copy import deepcopy\n",
    "from QCreator import elements\n",
    "from QCreator import general_sample_creator as creator"
   ]
  },
  {
   "cell_type": "code",
   "execution_count": 2,
   "metadata": {},
   "outputs": [],
   "source": [
    "watch=lambda: gdspy.LayoutViewer(depth=0,pattern={'default': 8},background='#FFFFFF') #this opens a viewer"
   ]
  },
  {
   "cell_type": "code",
   "execution_count": 38,
   "metadata": {},
   "outputs": [],
   "source": [
    "tl_core = 20.\n",
    "tl_gap = 12.\n",
    "tl_ground = 10.\n",
    "\n",
    "resonator_core = 8\n",
    "resonator_gap = 7\n",
    "resonator_ground = 16\n",
    "\n",
    "pad_offset = 1000\n",
    "pad_element_offset = 1000\n",
    "\n",
    "coupler_start = pad_offset + pad_element_offset\n",
    "coupler_delta = 500\n",
    "coupler_length = 300\n",
    "num_couplers = 1"
   ]
  },
  {
   "cell_type": "markdown",
   "metadata": {},
   "source": [
    "# Transmission line with resonator (failed version)"
   ]
  },
  {
   "cell_type": "code",
   "execution_count": 39,
   "metadata": {},
   "outputs": [],
   "source": [
    "reload(gdspy)\n",
    "reload(creator)\n",
    "reload(elements)\n",
    "\n",
    "layers_configuration = {\n",
    "    'total':0,\n",
    "    'restricted area':10,\n",
    "    'for removing':100,\n",
    "    'JJs':1,\n",
    "    'air bridges':2,\n",
    "    'air bridge pads':3,\n",
    "    'vertical gridlines':15,\n",
    "    'horizontal gridlines':16\n",
    "}\n",
    "sample = creator.Sample('4_qubits',layers_configuration)\n",
    "\n",
    "#specify sample vertical and horizontal lengths\n",
    "sample.chip_geometry.sample_vertical_size=4.7e3\n",
    "sample.chip_geometry.sample_horizontal_size=9.7e3\n",
    "\n",
    "central_line_y = sample.chip_geometry.sample_vertical_size/2\n",
    "\n",
    "ChichkovAB = elements.AirBridge(width=15, \n",
    "                                length=60, \n",
    "                                padsize=30, \n",
    "                                min_spacing = 30,\n",
    "                                layer_configuration=sample.layer_configuration)\n",
    "\n",
    "chip_edge_ground = elements.ChipEdgeGround(sample.chip_geometry, sample.layer_configuration, sample.pads)\n",
    "sample.add(chip_edge_ground)\n",
    "\n",
    "grid_ground = elements.GridGround(sample.chip_geometry, sample.layer_configuration, sample.objects, \n",
    "                                  width=4, period=500)\n",
    "sample.add(grid_ground)\n",
    "\n",
    "# 1. Create contact pads:\n",
    "\n",
    "p1 = elements.Pad('p1', (pad_offset,  central_line_y), np.pi, tl_core, tl_gap, tl_ground, \n",
    "                  layer_configuration=sample.layer_configuration, chip_geometry=sample.chip_geometry, \n",
    "                  **elements.default_pad_geometry())\n",
    "p2 = elements.Pad('p2', (sample.chip_geometry.sample_horizontal_size-pad_offset,  central_line_y), \n",
    "                  0, tl_core, tl_gap, tl_ground, \n",
    "                  layer_configuration=sample.layer_configuration, chip_geometry=sample.chip_geometry, \n",
    "                  **elements.default_pad_geometry())\n",
    "sample.add(p1)\n",
    "sample.add(p2)\n",
    "\n",
    "def draw_single_resonator(coupler_start_x, coupler_start_y, coupler_length,\n",
    "                         resonator_core, resonator_ground, tl_core, resonator_gap, tl_gap, grounding_width,\n",
    "                         closed_end_meander_length, open_length):\n",
    "    # 2. Create main copler:\n",
    "\n",
    "    main_coupler = elements.CPWCoupler('TL-resonator coupler', [(coupler_start, central_line_y), \n",
    "                                                                (coupler_start+coupler_length, central_line_y)],\n",
    "                                       [resonator_core, resonator_ground, tl_core],[resonator_gap, resonator_gap, tl_gap, tl_gap],\n",
    "                                       tl_ground, sample.layer_configuration, r=100)\n",
    "    sample.add(main_coupler)\n",
    "\n",
    "    # 3. Create fanout to create closed enfd of resonator\n",
    "    fanout_for_closed_end = sample.fanout(o=main_coupler, port='port1', name='closed end resonator fanout', grouping=[1, 3])\n",
    "\n",
    "    # 4. \n",
    "    g1 = sample.ground(o=fanout_for_closed_end, port='center', name='cl1', grounding_width=grounding_width, grounding_between = [(2,3)])\n",
    "\n",
    "    # 6. Create closed meander of resonator\n",
    "    closed_end_meander = sample.connect_meander(name='closed end', o1=fanout_for_closed_end, port1='up',\n",
    "                                                meander_length=closed_end_meander_length,restricted_scale=400, constant_scale=900, radius=0)\n",
    "\n",
    "    # 7. Create fanout to create closed enfd of resonator\n",
    "    fanout_for_open_end = sample.fanout(o=main_coupler, port='port2', name='open end resonator fanout', grouping=[1, 3])\n",
    "\n",
    "    # 8. \n",
    "    g2 = sample.ground(o=fanout_for_open_end, port='center', name='cl2', grounding_width=10, grounding_between = [(0,1)])\n",
    "\n",
    "\n",
    "    # 10. Create closed meander of resonator\n",
    "    open_end_resonator = elements.CPW(name='open end resonator', points=[fanout_for_open_end.get_terminals()['down'].position, \n",
    "                                                                         (fanout_for_open_end.get_terminals()['down'].position[0],\n",
    "                                                                          fanout_for_open_end.get_terminals()['down'].position[1]-open_length)],\n",
    "                                      w=fanout_for_open_end.get_terminals()['down'].w, s=fanout_for_open_end.get_terminals()['down'].s,\n",
    "                                      g=fanout_for_open_end.get_terminals()['down'].g, layer_configuration=sample.layer_configuration, r=25)\n",
    "    sample.add(open_end_resonator)\n",
    "    sample.connections.append(((fanout_for_open_end, 'down', 0), (open_end_resonator, 'port1', 0)))\n",
    "\n",
    "    # 11. Create grounding of resonator\n",
    "    resonator_ground_ = sample.ground(o=closed_end_meander, port='port2', name='resonator ground', grounding_width=30, grounding_between = [(0,2)])\n",
    "    \n",
    "    return g1, g2"
   ]
  },
  {
   "cell_type": "code",
   "execution_count": 40,
   "metadata": {},
   "outputs": [],
   "source": [
    "def draw_double_resonator(coupler_start_x, coupler_start_y, coupler_length,\n",
    "                         resonator_core, resonator_ground, tl_core, resonator_gap, tl_gap, grounding_width,\n",
    "                         closed_end_meander_length1, open_length1, closed_end_meander_length2, open_length2):\n",
    "    # 2. Create main copler:\n",
    "\n",
    "    main_coupler = elements.CPWCoupler('TL-resonator coupler', [(coupler_start, central_line_y), \n",
    "                                                                (coupler_start+coupler_length, central_line_y)],\n",
    "                                       [resonator_core, resonator_ground, tl_core, resonator_ground, resonator_core],\n",
    "                                       [resonator_gap, resonator_gap, tl_gap, tl_gap, resonator_gap, resonator_gap],\n",
    "                                       tl_ground, sample.layer_configuration, r=100)\n",
    "    sample.add(main_coupler)\n",
    "\n",
    "    # 3. Create fanout to create closed end of resonator\n",
    "    fanout_for_closed_end = sample.fanout(o=main_coupler, port='port1', name='closed end resonator fanout', grouping=[1, 4])\n",
    "\n",
    "    # 4. \n",
    "    g1 = sample.ground(o=fanout_for_closed_end, port='center', name='cl1', grounding_width=grounding_width, grounding_between = [(0,1), (3,4)])\n",
    "\n",
    "    # 6. Create closed meander of resonator\n",
    "    closed_end_meander1 = sample.connect_meander(name='closed end 1', o1=fanout_for_closed_end, port1='up',\n",
    "                                                meander_length=closed_end_meander_length1,restricted_scale=400, constant_scale=900, radius=0)\n",
    "    \n",
    "    closed_end_meander2 = sample.connect_meander(name='closed end 2', o1=fanout_for_closed_end, port1='down',\n",
    "                                                meander_length=closed_end_meander_length2,restricted_scale=400, constant_scale=900, radius=0)\n",
    "\n",
    "    # 7. Create fanout to create closed enfd of resonator\n",
    "    fanout_for_open_end = sample.fanout(o=main_coupler, port='port2', name='open end resonator fanout', grouping=[1, 4])\n",
    "\n",
    "    # 8. \n",
    "    g2 = sample.ground(o=fanout_for_open_end, port='center', name='cl2', grounding_width=10, grounding_between = [(0,1), (3,4)])\n",
    "\n",
    "    # 10. Create closed meander of resonator\n",
    "    open_end_resonator1 = elements.CPW(name='open end resonator 1', points=[fanout_for_open_end.get_terminals()['down'].position, \n",
    "                                                                         (fanout_for_open_end.get_terminals()['down'].position[0],\n",
    "                                                                          fanout_for_open_end.get_terminals()['down'].position[1]-open_length1)],\n",
    "                                      w=fanout_for_open_end.get_terminals()['down'].w, s=fanout_for_open_end.get_terminals()['down'].s,\n",
    "                                      g=fanout_for_open_end.get_terminals()['down'].g, layer_configuration=sample.layer_configuration, r=25)\n",
    "    sample.add(open_end_resonator1)\n",
    "    sample.connections.append(((fanout_for_open_end, 'down', 0), (open_end_resonator1, 'port1', 0)))\n",
    "    \n",
    "    open_end_resonator2 = elements.CPW(name='open end resonator 2', points=[fanout_for_open_end.get_terminals()['up'].position, \n",
    "                                                                         (fanout_for_open_end.get_terminals()['up'].position[0],\n",
    "                                                                          fanout_for_open_end.get_terminals()['up'].position[1]+open_length2)],\n",
    "                                      w=fanout_for_open_end.get_terminals()['up'].w, s=fanout_for_open_end.get_terminals()['up'].s,\n",
    "                                      g=fanout_for_open_end.get_terminals()['up'].g, layer_configuration=sample.layer_configuration, r=25)\n",
    "    sample.add(open_end_resonator2)\n",
    "    sample.connections.append(((fanout_for_open_end, 'up', 0), (open_end_resonator2, 'port1', 0)))\n",
    "\n",
    "    # 11. Create grounding of resonator\n",
    "    resonator_ground_1 = sample.ground(o=closed_end_meander1, port='port2', name='resonator ground 1', grounding_width=30, grounding_between = [(0,2)])\n",
    "    resonator_ground_2 = sample.ground(o=closed_end_meander2, port='port2', name='resonator ground 2', grounding_width=30, grounding_between = [(0,2)])\n",
    "    \n",
    "    return g1, g2"
   ]
  },
  {
   "cell_type": "code",
   "execution_count": 41,
   "metadata": {},
   "outputs": [],
   "source": [
    "#g1, g2 = draw_single_resonator(coupler_start, central_line_y, coupler_length,\n",
    "#                         resonator_core, resonator_ground, tl_core, resonator_gap, tl_gap, grounding_width=10,\n",
    "#                         closed_end_meander_length=2300, open_length=1000)\n",
    "g1, g2 = draw_double_resonator(coupler_start, central_line_y, coupler_length,\n",
    "                         resonator_core, resonator_ground, tl_core, resonator_gap, tl_gap, grounding_width=10,\n",
    "                         closed_end_meander_length1=2300, open_length1=1000, \n",
    "                         closed_end_meander_length2=2400, open_length2=1100)\n",
    "# 5. Create left part of transmission line\n",
    "left_TL = sample.connect_cpw(o1=p1, o2=g1, port1='port', port2='narrow', name='left TL', points=[])\n",
    "# 9. Create left part of transmission line\n",
    "right_TL = sample.connect_cpw(o1=p2, o2=g2, port1='port', port2='narrow', name='right TL', points=[])"
   ]
  },
  {
   "cell_type": "code",
   "execution_count": 42,
   "metadata": {},
   "outputs": [
    {
     "data": {
      "text/plain": [
       "[((CPWCoupler \"TL-resonator coupler\", n=5, l=299.760, 'port1', 0),\n",
       "  (RectFanout closed end resonator fanout, n=5, grouping=(1, 4), 'wide', 0)),\n",
       " ((CPWCoupler \"TL-resonator coupler\", n=5, l=299.760, 'port1', 1),\n",
       "  (RectFanout closed end resonator fanout, n=5, grouping=(1, 4), 'wide', 1)),\n",
       " ((CPWCoupler \"TL-resonator coupler\", n=5, l=299.760, 'port1', 2),\n",
       "  (RectFanout closed end resonator fanout, n=5, grouping=(1, 4), 'wide', 2)),\n",
       " ((CPWCoupler \"TL-resonator coupler\", n=5, l=299.760, 'port1', 3),\n",
       "  (RectFanout closed end resonator fanout, n=5, grouping=(1, 4), 'wide', 3)),\n",
       " ((CPWCoupler \"TL-resonator coupler\", n=5, l=299.760, 'port1', 4),\n",
       "  (RectFanout closed end resonator fanout, n=5, grouping=(1, 4), 'wide', 4)),\n",
       " ((RectFanout closed end resonator fanout, n=5, grouping=(1, 4), 'center', 0),\n",
       "  (RectGrounding cl1, 'wide', 0)),\n",
       " ((RectFanout closed end resonator fanout, n=5, grouping=(1, 4), 'center', 1),\n",
       "  (RectGrounding cl1, 'wide', 1)),\n",
       " ((RectFanout closed end resonator fanout, n=5, grouping=(1, 4), 'center', 2),\n",
       "  (RectGrounding cl1, 'wide', 2)),\n",
       " ((CPW \"closed end 1\", l=2299.958, 'port1', 0),\n",
       "  (RectFanout closed end resonator fanout, n=5, grouping=(1, 4), 'up', 0)),\n",
       " ((CPW \"closed end 2\", l=2399.958, 'port1', 0),\n",
       "  (RectFanout closed end resonator fanout, n=5, grouping=(1, 4), 'down', 0)),\n",
       " ((CPWCoupler \"TL-resonator coupler\", n=5, l=299.760, 'port2', 0),\n",
       "  (RectFanout open end resonator fanout, n=5, grouping=(1, 4), 'wide', 0)),\n",
       " ((CPWCoupler \"TL-resonator coupler\", n=5, l=299.760, 'port2', 1),\n",
       "  (RectFanout open end resonator fanout, n=5, grouping=(1, 4), 'wide', 1)),\n",
       " ((CPWCoupler \"TL-resonator coupler\", n=5, l=299.760, 'port2', 2),\n",
       "  (RectFanout open end resonator fanout, n=5, grouping=(1, 4), 'wide', 2)),\n",
       " ((CPWCoupler \"TL-resonator coupler\", n=5, l=299.760, 'port2', 3),\n",
       "  (RectFanout open end resonator fanout, n=5, grouping=(1, 4), 'wide', 3)),\n",
       " ((CPWCoupler \"TL-resonator coupler\", n=5, l=299.760, 'port2', 4),\n",
       "  (RectFanout open end resonator fanout, n=5, grouping=(1, 4), 'wide', 4)),\n",
       " ((RectFanout open end resonator fanout, n=5, grouping=(1, 4), 'center', 0),\n",
       "  (RectGrounding cl2, 'wide', 0)),\n",
       " ((RectFanout open end resonator fanout, n=5, grouping=(1, 4), 'center', 1),\n",
       "  (RectGrounding cl2, 'wide', 1)),\n",
       " ((RectFanout open end resonator fanout, n=5, grouping=(1, 4), 'center', 2),\n",
       "  (RectGrounding cl2, 'wide', 2)),\n",
       " ((RectFanout open end resonator fanout, n=5, grouping=(1, 4), 'down', 0),\n",
       "  (CPW \"open end resonator 1\", l=999.933, 'port1', 0)),\n",
       " ((RectFanout open end resonator fanout, n=5, grouping=(1, 4), 'up', 0),\n",
       "  (CPW \"open end resonator 2\", l=1099.933, 'port1', 0)),\n",
       " ((CPW \"closed end 1\", l=2299.958, 'port2', 0),\n",
       "  (RectGrounding resonator ground 1, 'wide', 0)),\n",
       " ((CPW \"closed end 2\", l=2399.958, 'port2', 0),\n",
       "  (RectGrounding resonator ground 2, 'wide', 0)),\n",
       " ((CPW \"left TL\", l=967.808, 'port1', 0),\n",
       "  (<QCreator.elements.pad.Pad at 0x1a9876477c0>, 'port', 0)),\n",
       " ((CPW \"left TL\", l=967.808, 'port2', 0), (RectGrounding cl1, 'narrow', 0)),\n",
       " ((CPW \"right TL\", l=6367.808, 'port1', 0),\n",
       "  (<QCreator.elements.pad.Pad at 0x1a9872878b0>, 'port', 0)),\n",
       " ((CPW \"right TL\", l=6367.808, 'port2', 0), (RectGrounding cl2, 'narrow', 0))]"
      ]
     },
     "execution_count": 42,
     "metadata": {},
     "output_type": "execute_result"
    }
   ],
   "source": [
    "sample.connections"
   ]
  },
  {
   "cell_type": "code",
   "execution_count": 43,
   "metadata": {},
   "outputs": [
    {
     "data": {
      "text/plain": [
       "[<QCreator.elements.chip_edge_ground.ChipEdgeGround at 0x1a98767aca0>,\n",
       " <QCreator.elements.grid_ground.GridGround at 0x1a987647730>,\n",
       " <QCreator.elements.pad.Pad at 0x1a9876477c0>,\n",
       " <QCreator.elements.pad.Pad at 0x1a9872878b0>,\n",
       " CPWCoupler \"TL-resonator coupler\", n=5, l=299.760,\n",
       " RectFanout closed end resonator fanout, n=5, grouping=(1, 4),\n",
       " RectGrounding cl1,\n",
       " CPW \"closed end 1\", l=2299.958,\n",
       " CPW \"closed end 2\", l=2399.958,\n",
       " RectFanout open end resonator fanout, n=5, grouping=(1, 4),\n",
       " RectGrounding cl2,\n",
       " CPW \"open end resonator 1\", l=999.933,\n",
       " CPW \"open end resonator 2\", l=1099.933,\n",
       " RectGrounding resonator ground 1,\n",
       " RectGrounding resonator ground 2,\n",
       " CPW \"left TL\", l=967.808,\n",
       " CPW \"right TL\", l=6367.808]"
      ]
     },
     "execution_count": 43,
     "metadata": {},
     "output_type": "execute_result"
    }
   ],
   "source": [
    "sample.objects"
   ]
  },
  {
   "cell_type": "code",
   "execution_count": 44,
   "metadata": {},
   "outputs": [
    {
     "name": "stderr",
     "output_type": "stream",
     "text": [
      "<ipython-input-2-1fe8b7b94d80>:1: DeprecationWarning: [GDSPY] Use of the global library is deprecated.  Pass LayoutViewer a GdsLibrary instance.\n",
      "  watch=lambda: gdspy.LayoutViewer(depth=0,pattern={'default': 8},background='#FFFFFF') #this opens a viewer\n"
     ]
    },
    {
     "data": {
      "text/plain": [
       "<gdspy.viewer.LayoutViewer object .!layoutviewer>"
      ]
     },
     "execution_count": 44,
     "metadata": {},
     "output_type": "execute_result"
    }
   ],
   "source": [
    "design = sample.draw_design()\n",
    "watch()"
   ]
  },
  {
   "cell_type": "code",
   "execution_count": 45,
   "metadata": {},
   "outputs": [],
   "source": [
    "gdspy.write_gds('1qubit.gds', cells=None, name='library', unit=1e-06, precision=1e-09, timestamp=None, binary_cells=None)"
   ]
  },
  {
   "cell_type": "code",
   "execution_count": 46,
   "metadata": {},
   "outputs": [
    {
     "data": {
      "text/plain": [
       "16"
      ]
     },
     "execution_count": 46,
     "metadata": {},
     "output_type": "execute_result"
    }
   ],
   "source": [
    "resonator_ground"
   ]
  },
  {
   "cell_type": "code",
   "execution_count": 47,
   "metadata": {},
   "outputs": [],
   "source": [
    "sys, connections, elements_ = sample.get_tls()"
   ]
  },
  {
   "cell_type": "code",
   "execution_count": 48,
   "metadata": {},
   "outputs": [
    {
     "data": {
      "text/plain": [
       "[[23],\n",
       " [25],\n",
       " [1, 2, 3, 4, 5, 11, 12, 13, 14, 15],\n",
       " [1, 10],\n",
       " [2, 3, 4, 6, 7, 8],\n",
       " [5, 9],\n",
       " [6, 0],\n",
       " [8, 0],\n",
       " [7, 24],\n",
       " [9, 21],\n",
       " [10, 22],\n",
       " [15, 19],\n",
       " [14, 13, 12, 16, 17, 18],\n",
       " [11, 20],\n",
       " [16, 0],\n",
       " [18, 0],\n",
       " [17, 26],\n",
       " [19, 27],\n",
       " [20, 28],\n",
       " [21],\n",
       " [22],\n",
       " [23, 24],\n",
       " [25, 26]]"
      ]
     },
     "execution_count": 48,
     "metadata": {},
     "output_type": "execute_result"
    }
   ],
   "source": [
    "sys.terminal_node_mapping"
   ]
  },
  {
   "cell_type": "code",
   "execution_count": 49,
   "metadata": {},
   "outputs": [
    {
     "data": {
      "text/plain": [
       "{(CPWCoupler \"TL-resonator coupler\", n=5, l=299.760, 'port1', 0): 1,\n",
       " (RectFanout closed end resonator fanout, n=5, grouping=(1, 4), 'wide', 0): 1,\n",
       " (CPWCoupler \"TL-resonator coupler\", n=5, l=299.760, 'port1', 1): 2,\n",
       " (RectFanout closed end resonator fanout, n=5, grouping=(1, 4), 'wide', 1): 2,\n",
       " (CPWCoupler \"TL-resonator coupler\", n=5, l=299.760, 'port1', 2): 3,\n",
       " (RectFanout closed end resonator fanout, n=5, grouping=(1, 4), 'wide', 2): 3,\n",
       " (CPWCoupler \"TL-resonator coupler\", n=5, l=299.760, 'port1', 3): 4,\n",
       " (RectFanout closed end resonator fanout, n=5, grouping=(1, 4), 'wide', 3): 4,\n",
       " (CPWCoupler \"TL-resonator coupler\", n=5, l=299.760, 'port1', 4): 5,\n",
       " (RectFanout closed end resonator fanout, n=5, grouping=(1, 4), 'wide', 4): 5,\n",
       " (RectFanout closed end resonator fanout, n=5, grouping=(1, 4),\n",
       "  'center',\n",
       "  0): 6,\n",
       " (RectGrounding cl1, 'wide', 0): 6,\n",
       " (RectFanout closed end resonator fanout, n=5, grouping=(1, 4),\n",
       "  'center',\n",
       "  1): 7,\n",
       " (RectGrounding cl1, 'wide', 1): 7,\n",
       " (RectFanout closed end resonator fanout, n=5, grouping=(1, 4),\n",
       "  'center',\n",
       "  2): 8,\n",
       " (RectGrounding cl1, 'wide', 2): 8,\n",
       " (CPW \"closed end 1\", l=2299.958, 'port1', 0): 9,\n",
       " (RectFanout closed end resonator fanout, n=5, grouping=(1, 4), 'up', 0): 9,\n",
       " (CPW \"closed end 2\", l=2399.958, 'port1', 0): 10,\n",
       " (RectFanout closed end resonator fanout, n=5, grouping=(1, 4), 'down', 0): 10,\n",
       " (CPWCoupler \"TL-resonator coupler\", n=5, l=299.760, 'port2', 0): 11,\n",
       " (RectFanout open end resonator fanout, n=5, grouping=(1, 4), 'wide', 0): 11,\n",
       " (CPWCoupler \"TL-resonator coupler\", n=5, l=299.760, 'port2', 1): 12,\n",
       " (RectFanout open end resonator fanout, n=5, grouping=(1, 4), 'wide', 1): 12,\n",
       " (CPWCoupler \"TL-resonator coupler\", n=5, l=299.760, 'port2', 2): 13,\n",
       " (RectFanout open end resonator fanout, n=5, grouping=(1, 4), 'wide', 2): 13,\n",
       " (CPWCoupler \"TL-resonator coupler\", n=5, l=299.760, 'port2', 3): 14,\n",
       " (RectFanout open end resonator fanout, n=5, grouping=(1, 4), 'wide', 3): 14,\n",
       " (CPWCoupler \"TL-resonator coupler\", n=5, l=299.760, 'port2', 4): 15,\n",
       " (RectFanout open end resonator fanout, n=5, grouping=(1, 4), 'wide', 4): 15,\n",
       " (RectFanout open end resonator fanout, n=5, grouping=(1, 4), 'center', 0): 16,\n",
       " (RectGrounding cl2, 'wide', 0): 16,\n",
       " (RectFanout open end resonator fanout, n=5, grouping=(1, 4), 'center', 1): 17,\n",
       " (RectGrounding cl2, 'wide', 1): 17,\n",
       " (RectFanout open end resonator fanout, n=5, grouping=(1, 4), 'center', 2): 18,\n",
       " (RectGrounding cl2, 'wide', 2): 18,\n",
       " (RectFanout open end resonator fanout, n=5, grouping=(1, 4), 'down', 0): 19,\n",
       " (CPW \"open end resonator 1\", l=999.933, 'port1', 0): 19,\n",
       " (RectFanout open end resonator fanout, n=5, grouping=(1, 4), 'up', 0): 20,\n",
       " (CPW \"open end resonator 2\", l=1099.933, 'port1', 0): 20,\n",
       " (CPW \"closed end 1\", l=2299.958, 'port2', 0): 21,\n",
       " (RectGrounding resonator ground 1, 'wide', 0): 21,\n",
       " (CPW \"closed end 2\", l=2399.958, 'port2', 0): 22,\n",
       " (RectGrounding resonator ground 2, 'wide', 0): 22,\n",
       " (CPW \"left TL\", l=967.808, 'port1', 0): 23,\n",
       " (<QCreator.elements.pad.Pad at 0x1a9876477c0>, 'port', 0): 23,\n",
       " (CPW \"left TL\", l=967.808, 'port2', 0): 24,\n",
       " (RectGrounding cl1, 'narrow', 0): 24,\n",
       " (CPW \"right TL\", l=6367.808, 'port1', 0): 25,\n",
       " (<QCreator.elements.pad.Pad at 0x1a9872878b0>, 'port', 0): 25,\n",
       " (CPW \"right TL\", l=6367.808, 'port2', 0): 26,\n",
       " (RectGrounding cl2, 'narrow', 0): 26,\n",
       " (CPW \"open end resonator 1\", l=999.933, 'port2', 0): 27,\n",
       " (CPW \"open end resonator 2\", l=1099.933, 'port2', 0): 28}"
      ]
     },
     "execution_count": 49,
     "metadata": {},
     "output_type": "execute_result"
    }
   ],
   "source": [
    "connections"
   ]
  },
  {
   "cell_type": "code",
   "execution_count": 50,
   "metadata": {},
   "outputs": [
    {
     "data": {
      "text/plain": [
       "{'chip_edge_ground': [],\n",
       " 'p1': [Port p1],\n",
       " 'p2': [Port p2],\n",
       " 'TL-resonator coupler': [TL TL-resonator coupler (n=5)],\n",
       " 'closed end resonator fanout': [TL closed end resonator fanout_group0 (n=1),\n",
       "  TL closed end resonator fanout_group1 (n=3),\n",
       "  TL closed end resonator fanout_group2 (n=1)],\n",
       " 'cl1': [[R cl10, R cl11, TL cl1 (n=1)]],\n",
       " 'closed end 1': [TL closed end 1 (n=1)],\n",
       " 'closed end 2': [TL closed end 2 (n=1)],\n",
       " 'open end resonator fanout': [TL open end resonator fanout_group0 (n=1),\n",
       "  TL open end resonator fanout_group1 (n=3),\n",
       "  TL open end resonator fanout_group2 (n=1)],\n",
       " 'cl2': [[R cl20, R cl21, TL cl2 (n=1)]],\n",
       " 'open end resonator 1': [TL open end resonator 1 (n=1)],\n",
       " 'open end resonator 2': [TL open end resonator 2 (n=1)],\n",
       " 'resonator ground 1': [Short ],\n",
       " 'resonator ground 2': [Short ],\n",
       " 'left TL': [TL left TL (n=1)],\n",
       " 'right TL': [TL right TL (n=1)]}"
      ]
     },
     "execution_count": 50,
     "metadata": {},
     "output_type": "execute_result"
    }
   ],
   "source": [
    "elements_"
   ]
  },
  {
   "cell_type": "code",
   "execution_count": 51,
   "metadata": {},
   "outputs": [
    {
     "name": "stderr",
     "output_type": "stream",
     "text": [
      "..\\QCreator\\general_sample_creator.py:304: FutureWarning: `rcond` parameter will change to the default of machine precision times ``max(M, N)`` where M and N are the input matrix dimensions.\n",
      "To use the future default and silence this warning we advise to pass `rcond=None`, to keep using the old, explicitly pass `rcond=-1`.\n",
      "  s.append(np.linalg.lstsq(m, boundary)[0][a2[0]])\n"
     ]
    },
    {
     "data": {
      "text/plain": [
       "[<matplotlib.lines.Line2D at 0x1a987cb3b80>]"
      ]
     },
     "execution_count": 51,
     "metadata": {},
     "output_type": "execute_result"
    },
    {
     "data": {
      "image/png": "[encoded data removed]",
      "text/plain": [
       "<Figure size 432x288 with 1 Axes>"
      ]
     },
     "metadata": {
      "needs_background": "light"
     },
     "output_type": "display_data"
    }
   ],
   "source": [
    "f = np.linspace(4e9, 10e9, 6001)\n",
    "s11 = sample.get_s21('p1', 'p1', f)\n",
    "s21 = sample.get_s21('p1', 'p2', f)\n",
    "from matplotlib import pyplot as plt\n",
    "plt.plot(f, np.abs(s11))\n",
    "plt.plot(f, np.abs(s21))"
   ]
  },
  {
   "cell_type": "code",
   "execution_count": 52,
   "metadata": {},
   "outputs": [
    {
     "data": {
      "text/plain": [
       "(array([7.79662003e+09, 8.00477502e+09, 8.22883734e+09, 1.63171392e+10,\n",
       "        2.32615279e+10, 2.45304306e+10, 2.50547285e+10, 3.18208250e+10,\n",
       "        3.27222661e+10, 3.30235897e+10, 3.44496965e+10, 3.73414902e+10,\n",
       "        3.75872331e+10, 3.89775318e+10, 4.11072098e+10, 4.24457204e+10,\n",
       "        4.24902004e+10, 4.27117462e+10, 4.32750339e+10, 4.33746644e+10,\n",
       "        5.45772413e+10, 5.76329388e+10, 6.40230374e+10, 6.98498876e+10,\n",
       "        7.36752167e+10, 8.55026114e+10, 9.00412485e+10, 9.44492108e+10,\n",
       "        9.70993211e+10, 1.01946750e+11, 1.06476020e+11, 1.11839295e+11,\n",
       "        1.11926822e+11, 1.12262213e+11, 1.13419224e+11, 1.13574346e+11,\n",
       "        1.13986551e+11, 1.14261634e+11, 1.15671019e+11, 1.15979771e+11,\n",
       "        1.16723481e+11, 1.16839799e+11, 1.18341904e+11, 1.18565796e+11,\n",
       "        1.18947262e+11, 1.19220451e+11, 1.20712244e+11, 1.21030440e+11,\n",
       "        1.31482072e+11, 1.39398189e+11, 1.40653811e+11, 1.67861336e+11,\n",
       "        1.69874707e+11, 1.79980417e+11, 1.81054030e+11, 2.02815726e+11,\n",
       "        2.18846672e+11, 2.21976131e+11, 2.23923342e+11, 2.42420524e+11,\n",
       "        2.44795675e+11, 2.45822812e+11, 2.46015377e+11, 2.46022379e+11,\n",
       "        2.46364438e+11, 2.46978995e+11, 2.47134206e+11, 2.49849840e+11,\n",
       "        2.50309984e+11, 2.51174317e+11, 2.51713629e+11, 2.66698875e+11,\n",
       "        2.68145197e+11, 2.68830326e+11, 2.69305072e+11, 2.72177224e+11,\n",
       "        2.72983255e+11, 2.75091863e+11, 2.75450841e+11, 2.76188154e+11,\n",
       "        2.76582888e+11, 2.77629689e+11, 2.79130391e+11, 2.79723541e+11,\n",
       "        2.81413428e+11, 2.84721357e+11, 2.85402474e+11, 3.08318063e+11,\n",
       "        3.29953602e+11, 3.33101957e+11, 3.36910062e+11, 4.00311944e+11,\n",
       "        4.05336939e+11, 4.72652876e+11, 4.93874426e+11, 5.01381530e+11,\n",
       "        5.42416192e+11, 5.48006384e+11, 6.50696612e+11, 6.56020040e+11,\n",
       "        6.57185073e+11, 6.85665710e+11, 6.88879880e+11, 6.98983917e+11,\n",
       "        7.76826270e+11, 7.82782176e+11, 7.87689112e+11, 7.88704081e+11,\n",
       "        7.95938695e+11, 8.20857422e+11, 8.26419976e+11, 8.76844986e+11,\n",
       "        8.79250098e+11, 8.80069108e+11, 8.82586739e+11, 8.82587740e+11,\n",
       "        8.85702486e+11, 8.87659583e+11, 8.89073974e+11, 8.91829186e+11,\n",
       "        8.94072375e+11, 8.94074494e+11, 8.99890523e+11, 9.02506911e+11,\n",
       "        9.04119800e+11, 9.04965096e+11, 9.06750373e+11, 9.09082507e+11,\n",
       "        9.09086162e+11, 9.12017682e+11, 9.12069235e+11, 9.14855977e+11,\n",
       "        9.14856281e+11, 9.14905109e+11, 9.15316632e+11, 9.15318229e+11,\n",
       "        9.17274181e+11, 9.19530152e+11, 9.19531708e+11, 9.20272919e+11,\n",
       "        9.20301225e+11, 9.20392090e+11, 9.20951742e+11, 9.21094200e+11,\n",
       "        9.21248156e+11, 9.25097569e+11, 9.25097580e+11, 9.25150319e+11,\n",
       "        9.25150320e+11, 9.26570582e+11, 9.26585275e+11, 9.28233143e+11,\n",
       "        9.28840975e+11, 9.31832814e+11, 1.32526970e+12, 1.34898138e+12,\n",
       "        1.44921131e+12, 1.49747089e+12, 1.90018527e+12, 2.02862984e+12,\n",
       "        2.05588156e+12, 2.27271447e+12, 2.32337746e+12, 2.36170212e+12,\n",
       "        2.84024552e+12, 2.86739063e+12, 3.10876918e+12, 3.13662674e+12,\n",
       "        3.17681990e+12, 3.22754535e+12, 3.67489457e+12, 3.68664920e+12,\n",
       "        4.00326548e+12, 4.03865774e+12, 4.07284647e+12, 4.51805584e+12,\n",
       "        4.55311218e+12, 4.57671263e+12, 4.90690778e+12, 4.93639959e+12,\n",
       "        5.44293052e+12, 5.44866428e+12, 5.81174572e+12, 5.83693866e+12,\n",
       "        5.86411943e+12, 5.90784760e+12, 6.32707188e+12, 6.34425313e+12,\n",
       "        6.65619769e+12, 6.71660248e+12, 7.01273617e+12, 7.01585034e+12,\n",
       "        7.21458892e+12, 7.22425108e+12, 7.23510140e+12, 7.26754481e+12,\n",
       "        7.44543284e+12, 7.45238425e+12, 7.57726827e+12, 7.61591073e+12,\n",
       "        7.61872569e+12, 7.64143595e+12, 7.89337744e+12, 7.90560667e+12,\n",
       "        7.90938039e+12, 7.93203411e+12, 8.11215851e+12, 8.11215932e+12,\n",
       "        8.11330465e+12, 8.11330465e+12, 8.11443209e+12, 8.11448572e+12,\n",
       "        8.13682757e+12, 8.13683858e+12, 8.14037789e+12, 8.14095689e+12,\n",
       "        8.16135843e+12, 8.19245401e+12, 8.19333183e+12, 8.19458947e+12,\n",
       "        8.19472111e+12, 8.22119719e+12, 8.22119719e+12, 8.25823785e+12,\n",
       "        8.25823835e+12, 8.26223148e+12, 8.26225164e+12, 8.27239075e+12,\n",
       "        8.28478915e+12, 8.28478915e+12, 8.29582228e+12, 8.32401468e+12,\n",
       "        8.33358905e+12, 8.33358908e+12, 8.33434351e+12, 8.33434351e+12,\n",
       "        8.33496896e+12, 8.33497017e+12, 8.36859515e+12, 8.44606059e+12,\n",
       "        8.45575784e+12, 8.46060637e+12, 8.46069809e+12, 8.46430489e+12,\n",
       "        8.46434736e+12, 8.48160192e+12, 8.48160192e+12, 8.49404205e+12,\n",
       "        8.50034711e+12, 8.50034754e+12, 8.50195579e+12, 8.50457616e+12,\n",
       "        8.50458418e+12, 8.51653245e+12, 8.54723948e+12, 8.54725604e+12,\n",
       "        8.55044402e+12, 8.55044722e+12, 8.56493964e+12, 8.61419030e+12,\n",
       "        8.62850313e+12, 8.68519786e+12, 8.74053865e+12, 8.75568695e+12,\n",
       "        8.80391495e+12, 8.80391783e+12, 8.81952865e+12, 8.81952865e+12,\n",
       "        8.83200428e+12, 8.83200428e+12, 8.83835537e+12, 8.83846773e+12,\n",
       "        8.83939155e+12, 8.83939156e+12, 8.84859643e+12, 8.84859790e+12,\n",
       "        8.89446369e+12, 8.98903177e+12, 8.98903177e+12, 9.19190166e+12,\n",
       "        9.19395295e+12, 9.21393577e+12, 9.21399125e+12, 9.22241976e+12,\n",
       "        9.22242060e+12, 9.23433712e+12, 9.23439448e+12, 1.04848188e+13,\n",
       "        1.05107958e+13, 1.06629590e+13, 1.31679561e+13, 1.55378679e+13,\n",
       "        1.82050055e+13, 1.95634287e+13, 2.11295848e+13, 2.31698475e+13,\n",
       "        2.33634164e+13, 2.33700695e+13, 2.35842246e+13, 2.36986343e+13,\n",
       "        2.38553219e+13, 2.39098944e+13, 2.40195148e+13, 2.43381540e+13,\n",
       "        2.45250655e+13, 2.46989906e+13, 2.53053448e+13, 2.56273309e+13,\n",
       "        2.69484709e+13, 2.70042957e+13, 2.70757250e+13, 2.71432497e+13,\n",
       "        2.75075225e+13, 2.75461166e+13, 2.76288750e+13, 2.76715131e+13,\n",
       "        4.47880972e+13, 4.49959144e+13]),\n",
       " array([ 4.92626621e+06,  6.87839380e+10,  7.79000094e+06,  6.79867542e+10,\n",
       "         5.47792200e+06,  5.90064250e+06,  6.84101379e+10,  7.34509484e+10,\n",
       "         1.03398003e+11,  1.50914235e+11,  2.25753468e+11,  1.91952780e+10,\n",
       "         1.73171559e+10,  1.16006266e+08,  1.57551981e+08, -8.09627921e+10,\n",
       "        -8.02269098e+10,  2.97394995e+11, -2.35446757e+11, -2.34950827e+11,\n",
       "         2.27284903e+08,  3.89041027e+08,  4.16235341e+11,  3.28725207e+07,\n",
       "         4.45958345e+07,  4.03781594e+08,  4.08263930e+08,  3.35685606e+11,\n",
       "         3.94702297e+08,  4.87910935e+08,  3.55321331e+08,  2.17683547e+11,\n",
       "        -2.19174683e+11,  6.13142286e+08, -2.07270266e+11,  2.09008397e+11,\n",
       "        -6.26756094e+11,  6.25980209e+11,  6.21886562e+11, -6.20933504e+11,\n",
       "         2.26791673e+11, -2.28540188e+11, -2.16331476e+11,  2.18784023e+11,\n",
       "        -6.53974659e+11,  6.53323466e+11,  6.48789662e+11, -6.47948258e+11,\n",
       "         1.18814893e+09,  3.11280694e+11,  1.34144587e+09,  4.91731392e+07,\n",
       "         5.15305757e+07,  3.09439051e+11,  1.97393780e+07,  1.87894801e+05,\n",
       "         3.35891278e+07,  3.65896622e+11,  5.92976121e+07,  3.03475733e+08,\n",
       "         4.65200010e+11, -4.57391787e+11, -4.75641402e+11,  1.38067474e+11,\n",
       "         6.06747891e+11,  1.06234228e+11,  4.68953193e+11,  1.35209268e+12,\n",
       "        -1.34884801e+12, -1.37478782e+12,  1.37188447e+12,  1.53875760e+12,\n",
       "         5.06722769e+11, -5.06708274e+11,  4.86690244e+09, -5.22484384e+11,\n",
       "         5.23398816e+11,  1.48696897e+12, -1.48390888e+12, -1.51199689e+12,\n",
       "         1.50929226e+12,  9.13716498e+11, -5.31571741e+11, -5.28997240e+11,\n",
       "         1.25776291e+09, -1.54830690e+12, -1.54674776e+12,  1.59549888e+12,\n",
       "         3.22091435e+06,  3.06388567e+05,  1.98272484e+08,  7.21742479e+04,\n",
       "         4.42364604e+06,  1.44131695e+12,  4.83997174e+06,  6.78782987e+11,\n",
       "         5.25909433e+09,  3.80759959e+09,  9.25433490e+08,  9.80193354e+06,\n",
       "         1.17292890e+08,  1.55376593e+12,  1.01050508e+08,  1.69878258e+09,\n",
       "         1.24953535e+07,  2.35832584e+09,  3.33350577e+08,  2.84413441e+11,\n",
       "         3.95608884e+11,  1.71138352e+12,  3.20139969e+12,  5.70736994e+07,\n",
       "         2.61957679e+07,  1.93235898e+07,  1.65339876e+12, -1.65341274e+12,\n",
       "         1.31673711e+07, -1.65472560e+12,  1.65770501e+12,  1.95825306e+08,\n",
       "         1.68055232e+12, -1.68039991e+12, -1.69792673e+12, -1.71336439e+12,\n",
       "         4.88440892e+12,  1.72435769e+12, -1.73678545e+12, -1.75672383e+12,\n",
       "         1.75666925e+12, -4.91587848e+12,  4.91688601e+12,  4.94029961e+12,\n",
       "        -4.94030770e+12, -4.94463447e+12, -4.95013137e+12,  4.95012807e+12,\n",
       "         4.96662600e+12, -1.83092585e+12,  1.83091323e+12,  1.83078824e+12,\n",
       "        -1.83137964e+12, -4.99683018e+12, -5.00202187e+12,  1.85534137e+12,\n",
       "        -1.85799092e+12, -5.05813254e+12,  5.05813246e+12,  5.04740409e+12,\n",
       "        -5.04740396e+12,  5.06924689e+12, -5.06990698e+12,  5.09889990e+12,\n",
       "        -5.10727018e+12,  5.47058480e+12,  3.90843990e+09,  4.63011567e+10,\n",
       "         2.99560595e+12,  4.84106164e+07,  5.75747917e+12,  2.09733748e+10,\n",
       "         9.30932239e+08,  1.33113173e+09,  1.07161424e+06,  3.28221650e+09,\n",
       "         9.79629686e+08,  3.78626912e+10,  3.77048637e+12,  2.27295922e+06,\n",
       "         6.30955261e+12,  1.46905057e+13,  1.58441227e+10,  2.28489353e+09,\n",
       "         2.46833112e+08,  1.09318833e+05,  1.91185346e+09,  6.46058067e+12,\n",
       "         3.66991628e+08,  2.06925916e+10,  2.41460143e+05,  3.66969219e+12,\n",
       "         5.99321794e+09,  5.49989041e+09,  5.15237132e+07,  1.42011318e+04,\n",
       "         9.51318694e+08,  6.64510571e+12,  1.88887936e+08,  1.12045616e+10,\n",
       "         3.55751077e+04,  2.92667181e+12,  1.12960809e+09,  3.33332156e+09,\n",
       "         9.50489159e+06,  7.69787818e+02,  2.84086165e+08,  3.27898853e+12,\n",
       "         6.68358829e+07,  3.95787935e+09,  1.61445751e+12,  3.20352113e+12,\n",
       "         9.61339836e+03,  1.28482243e+13,  1.75817280e+13,  8.12848708e+08,\n",
       "         3.62541077e+09,  9.04359723e+12,  1.53421203e+13, -1.53421121e+13,\n",
       "         1.53934405e+13, -1.53934405e+13,  1.54532058e+13, -1.54529913e+13,\n",
       "         1.67643531e+13, -1.67642601e+13,  1.67990144e+13, -1.67931672e+13,\n",
       "         1.97393534e+13,  1.41703256e+13, -1.41718053e+13,  1.41539661e+13,\n",
       "        -1.41536032e+13, -1.77861129e+13,  1.77861129e+13, -4.66528716e+13,\n",
       "         4.66528701e+13, -4.66771467e+13,  4.66770162e+13,  1.43982170e+07,\n",
       "         4.80633217e+13, -4.80633217e+13, -4.80047757e+03,  6.22075945e+08,\n",
       "         4.50724718e+13, -4.50724718e+13,  4.51204573e+13, -4.51204573e+13,\n",
       "         4.51788298e+13, -4.51788188e+13, -1.68252270e+13, -1.59858385e+13,\n",
       "        -1.60912792e+13, -1.87034311e+13,  1.87039839e+13, -1.87074832e+13,\n",
       "         1.87136118e+13,  1.25660473e+13, -1.25660473e+13, -4.73592171e+13,\n",
       "        -4.93437787e+13,  4.93437857e+13,  4.72124379e+13,  4.93461769e+13,\n",
       "        -4.93460679e+13, -1.49812350e+13,  4.41495186e+13, -4.41498123e+13,\n",
       "         4.41311387e+13, -4.41311479e+13,  4.72454456e+13, -4.67454523e+13,\n",
       "        -4.68628091e+13,  4.62854094e+13,  4.62928358e+13, -4.60676693e+13,\n",
       "        -1.88907463e+13,  1.88907467e+13,  1.88299704e+13, -1.88299704e+13,\n",
       "        -4.98223071e+13,  4.98223072e+13, -1.87563086e+13,  1.87566932e+13,\n",
       "         4.97620576e+13, -4.97620576e+13, -4.96887228e+13,  4.96887245e+13,\n",
       "         2.25127250e+13, -4.40163431e+13,  4.40163431e+13, -1.31410219e+13,\n",
       "         1.30986291e+13,  4.71854780e+13, -4.71856338e+13,  4.72591396e+13,\n",
       "        -4.72591447e+13, -1.33026710e+13,  1.33019485e+13,  1.29897855e+09,\n",
       "         2.30996982e+13,  7.15336785e+10,  2.35927624e+13,  2.46845433e+13,\n",
       "         2.46966981e+13,  2.27336846e+03,  2.89936614e+13,  4.43885713e+13,\n",
       "         1.64411164e+14,  1.06481713e+13,  1.45525211e+14,  5.94442141e+13,\n",
       "         1.60604032e+13,  9.00436095e+12,  2.96031493e+14,  1.10516499e+13,\n",
       "         7.25979572e+13,  1.21233944e+14,  9.81813262e+13,  2.06863452e+14,\n",
       "        -5.16286025e+13, -5.07152429e+13, -5.19463030e+13, -5.09931170e+13,\n",
       "        -1.49634179e+14, -1.50262120e+14, -1.49266304e+14, -1.49918583e+14,\n",
       "         9.69429876e+08,  2.47365307e+10]))"
      ]
     },
     "execution_count": 52,
     "metadata": {},
     "output_type": "execute_result"
    }
   ],
   "source": [
    "sys, connections, elements_ = sample.get_tls()\n",
    "f, delta, modes = sys.get_modes()\n",
    "f/(2*np.pi), delta"
   ]
  },
  {
   "cell_type": "code",
   "execution_count": null,
   "metadata": {},
   "outputs": [],
   "source": []
  }
 ],
 "metadata": {
  "kernelspec": {
   "display_name": "Python 3",
   "language": "python",
   "name": "python3"
  },
  "language_info": {
   "codemirror_mode": {
    "name": "ipython",
    "version": 3
   },
   "file_extension": ".py",
   "mimetype": "text/x-python",
   "name": "python",
   "nbconvert_exporter": "python",
   "pygments_lexer": "ipython3",
   "version": "3.8.5"
  }
 },
 "nbformat": 4,
 "nbformat_minor": 2
}
