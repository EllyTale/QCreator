{
 "cells": [
  {
   "cell_type": "code",
   "execution_count": 9,
   "metadata": {},
   "outputs": [],
   "source": [
    "import sys\n",
    "sys.path.append('..')"
   ]
  },
  {
   "cell_type": "code",
   "execution_count": 10,
   "metadata": {},
   "outputs": [],
   "source": [
    "import gdspy\n",
    "import numpy as np\n",
    "from importlib import reload\n",
    "#import libraries.conformal_mapping as cm\n",
    "#import libraries.general_design_functions as gdf\n",
    "#import libraries.general_sample_creator as creator\n",
    "#from  ..libraries import general_design_functions as gdf\n",
    "#fr\n",
    "from copy import deepcopy\n",
    "from QCreator import elements\n",
    "from QCreator import general_sample_creator as creator"
   ]
  },
  {
   "cell_type": "code",
   "execution_count": 11,
   "metadata": {},
   "outputs": [],
   "source": [
    "watch=lambda: gdspy.LayoutViewer(depth=0,pattern={'default': 8},background='#FFFFFF') #this opens a viewer"
   ]
  },
  {
   "cell_type": "code",
   "execution_count": 12,
   "metadata": {},
   "outputs": [],
   "source": [
    "tl_core = 20\n",
    "tl_gap = 12\n",
    "tl_ground = 10\n",
    "\n",
    "resonator_core = 8\n",
    "resonator_gap = 7\n",
    "resonator_ground = 16\n",
    "\n",
    "pad_offset = 1000\n",
    "pad_element_offset = 1000\n",
    "\n",
    "coupler_start = pad_offset + pad_element_offset\n",
    "coupler_delta = 500\n",
    "coupler_length = 300\n",
    "num_couplers = 1"
   ]
  },
  {
   "cell_type": "markdown",
   "metadata": {},
   "source": [
    "# Transmission line with resonator"
   ]
  },
  {
   "cell_type": "code",
   "execution_count": 13,
   "metadata": {},
   "outputs": [],
   "source": [
    "reload(gdspy)\n",
    "reload(creator)\n",
    "# reload(elements)\n",
    "\n",
    "layers_configuration = {\n",
    "    'total':0,\n",
    "    'restricted area':10,\n",
    "    'for removing':100,\n",
    "    'JJs':1,\n",
    "    'air bridges':2,\n",
    "    'air bridge pads':3,\n",
    "    'vertical gridlines':15,\n",
    "    'horizontal gridlines':16\n",
    "}\n",
    "sample = creator.Sample('4_qubits',layers_configuration)\n",
    "\n",
    "#specify sample vertical and horizontal lengths\n",
    "sample.chip_geometry.sample_vertical_size=4.7e3\n",
    "sample.chip_geometry.sample_horizontal_size=9.7e3\n",
    "\n",
    "central_line_y = sample.chip_geometry.sample_vertical_size/2\n",
    "\n",
    "ChichkovAB = elements.AirBridge(width=15, \n",
    "                                length=60, \n",
    "                                padsize=30, \n",
    "                                min_spacing = 30,\n",
    "                                layer_configuration=sample.layer_configuration)\n",
    "\n",
    "chip_edge_ground = elements.ChipEdgeGround(sample.chip_geometry, sample.layer_configuration, sample.pads)\n",
    "sample.add(chip_edge_ground)\n",
    "\n",
    "grid_ground = elements.GridGround(sample.chip_geometry, sample.layer_configuration, sample.objects, \n",
    "                                  width=4, period=500)\n",
    "sample.add(grid_ground)\n",
    "\n",
    "# 1. Create contact pads:\n",
    "\n",
    "p1 = elements.Pad('p1', (pad_offset,  central_line_y), np.pi, tl_core, tl_gap, tl_ground, \n",
    "                  layer_configuration=sample.layer_configuration, chip_geometry=sample.chip_geometry, \n",
    "                  **elements.default_pad_geometry())\n",
    "p2 = elements.Pad('p2', (sample.chip_geometry.sample_horizontal_size-pad_offset,  central_line_y), \n",
    "                  0, tl_core, tl_gap, tl_ground, \n",
    "                  layer_configuration=sample.layer_configuration, chip_geometry=sample.chip_geometry, \n",
    "                  **elements.default_pad_geometry())\n",
    "sample.add(p1)\n",
    "sample.add(p2)\n",
    "\n",
    "# 2. Create main copler:\n",
    "\n",
    "main_coupler = elements.CPWCoupler('TL-resonator coupler', [(coupler_start, central_line_y), (coupler_start+coupler_length, central_line_y)],\n",
    "                                   [resonator_core, resonator_ground, tl_core], [resonator_gap, resonator_gap, tl_gap, tl_gap],\n",
    "                                   tl_ground, sample.layer_configuration, r=100)\n",
    "sample.add(main_coupler)\n",
    "\n",
    "# 3. Create fanout to create closed enfd of resonator\n",
    "fanout_for_closed_end = sample.fanout(o=main_coupler, port='port1', name='closed end resonator fanout', grouping=[1, 3])\n",
    "\n",
    "# 4. \n",
    "g1 = sample.ground(o=fanout_for_closed_end, port='center', name='cl1', grounding_width=10, grounding_between = [(2,3)])\n",
    "\n",
    "# 5. Create left part of transmission line\n",
    "left_TL = sample.connect_cpw(o1=p1, o2=g1, port1='port', port2='narrow', name='left TL', points=[])\n",
    "\n",
    "# 6. Create closed meander of resonator\n",
    "closed_end_meander = sample.connect_meander(name='closed end', o1=fanout_for_closed_end, port1='up',\n",
    "                                            meander_length=3300,restricted_scale=400, constant_scale=900, radius=25)\n",
    "\n",
    "# 7. Create fanout to create closed enfd of resonator\n",
    "fanout_for_open_end = sample.fanout(o=main_coupler, port='port2', name='open end resonator fanout', grouping=[1, 3])\n",
    "\n",
    "# 8. \n",
    "g2 = sample.ground(o=fanout_for_open_end, port='center', name='cl2', grounding_width=10, grounding_between = [(0,1)])\n",
    "\n",
    "# 9. Create left part of transmission line\n",
    "right_TL = sample.connect_cpw(o1=p2, o2=g2, port1='port', port2='narrow', name='right TL', points=[])\n",
    "\n",
    "# 10. Create closed meander of resonator\n",
    "open_end_resonator = elements.CPW(name='open end resonator', points=[fanout_for_open_end.get_terminals()['down'].position, (fanout_for_open_end.get_terminals()['down'].position[0],\n",
    "                                                                                                                    fanout_for_open_end.get_terminals()['down'].position[1]-1000)],\n",
    "                                  w=fanout_for_open_end.get_terminals()['down'].w, s=fanout_for_open_end.get_terminals()['down'].s,\n",
    "                                  g=fanout_for_open_end.get_terminals()['down'].g, layer_configuration=sample.layer_configuration, r=25)\n",
    "sample.add(open_end_resonator)\n",
    "#smth wrong\n",
    "# 11. Create grounding of resonator\n",
    "resonator_ground = sample.ground(o=closed_end_meander, port='port2', name='resonator ground', grounding_width=30, grounding_between = [(0,2)])"
   ]
  },
  {
   "cell_type": "code",
   "execution_count": 14,
   "metadata": {},
   "outputs": [
    {
     "name": "stderr",
     "output_type": "stream",
     "text": [
      "/home/alena/anaconda3/lib/python3.7/site-packages/gdspy/path.py:828: UserWarning: [GDSPY] Possible inconsistency found in `FlexPath` due to sharp corner.\n",
      "  \"[GDSPY] Possible inconsistency found in \"\n",
      "/home/alena/anaconda3/lib/python3.7/site-packages/ipykernel_launcher.py:1: DeprecationWarning: [GDSPY] Use of the global library is deprecated.  Pass LayoutViewer a GdsLibrary instance.\n",
      "  \"\"\"Entry point for launching an IPython kernel.\n"
     ]
    },
    {
     "data": {
      "text/plain": [
       "<gdspy.viewer.LayoutViewer object .!layoutviewer>"
      ]
     },
     "execution_count": 14,
     "metadata": {},
     "output_type": "execute_result"
    }
   ],
   "source": [
    "design = sample.draw_design()\n",
    "watch()"
   ]
  },
  {
   "cell_type": "code",
   "execution_count": 68,
   "metadata": {},
   "outputs": [],
   "source": [
    "gdspy.write_gds('1qubit.gds', cells=None, name='library', unit=1e-06, precision=1e-09, timestamp=None, binary_cells=None)"
   ]
  },
  {
   "cell_type": "code",
   "execution_count": 77,
   "metadata": {},
   "outputs": [
    {
     "data": {
      "text/plain": [
       "RectGrounding resonator ground"
      ]
     },
     "execution_count": 77,
     "metadata": {},
     "output_type": "execute_result"
    }
   ],
   "source": [
    "resonator_ground"
   ]
  },
  {
   "cell_type": "code",
   "execution_count": 15,
   "metadata": {},
   "outputs": [
    {
     "data": {
      "text/plain": [
       "(array([4.59291001e+09, 8.53551647e+09, 9.78795780e+09, 1.46445793e+10,\n",
       "        1.53362550e+10, 2.37391775e+10, 2.87444736e+10, 3.01944184e+10,\n",
       "        5.69020437e+10, 6.09110624e+10, 6.43473729e+10, 9.36927263e+10,\n",
       "        9.62754665e+10, 1.00822637e+11, 1.17671137e+11, 1.64298503e+11,\n",
       "        1.68768131e+11, 2.84988691e+11, 2.93955123e+11, 2.97250120e+11,\n",
       "        2.98143651e+11, 3.45089539e+11, 3.48851308e+11, 5.10152913e+11,\n",
       "        5.34402985e+11, 5.92093726e+11, 6.24655462e+11, 1.18116067e+12,\n",
       "        1.23051601e+12, 1.99910827e+12, 2.05289124e+12, 2.07230970e+12,\n",
       "        2.07755844e+12, 2.66387634e+12, 2.67727014e+12, 2.94390817e+12,\n",
       "        2.95425226e+12, 2.95778671e+12, 2.95854342e+12, 3.19625180e+12,\n",
       "        3.20517729e+12, 3.73078459e+12, 3.76826796e+12, 3.78109136e+12,\n",
       "        3.78343672e+12, 6.54362478e+12, 6.63338361e+12]),\n",
       " array([ 4.25632780e+10, -0.00000000e+00,  8.57913099e+10,  1.09757506e+10,\n",
       "         8.94731102e+09, -0.00000000e+00, -0.00000000e+00,  2.79816810e+11,\n",
       "        -0.00000000e+00, -1.32508108e-03,  5.64003802e+11, -5.50709359e-03,\n",
       "         7.21560850e+10,  5.88208460e+10,  6.15915792e-03,  7.21056736e-03,\n",
       "        -8.41275416e-03, -9.40779581e-02,  1.25241509e-01, -5.63307378e-03,\n",
       "         2.52763060e-02,  3.88409297e-02,  1.14637672e-02,  2.23851835e-01,\n",
       "        -2.38231038e-02, -6.95589266e-03, -1.56372800e-01,  1.50406531e-01,\n",
       "         1.24211731e-01,  4.53005989e-01, -1.78571931e+00,  4.32691972e-02,\n",
       "        -6.42471739e-01, -2.49105120e+00,  2.48119341e-01,  2.69243718e-01,\n",
       "        -1.17942875e+00, -5.15831470e-01, -7.29409822e-01, -9.65366314e-01,\n",
       "        -5.24443157e-01,  4.05201765e-01, -5.56542132e-01,  5.03147379e-01,\n",
       "        -1.28128842e+00,  2.15879681e+00,  9.59745125e-01]))"
      ]
     },
     "execution_count": 15,
     "metadata": {},
     "output_type": "execute_result"
    }
   ],
   "source": [
    "sys, connections, elements_ = sample.get_tls()\n",
    "f, delta, modes = sys.get_modes()\n",
    "f/(2*np.pi), delta"
   ]
  },
  {
   "cell_type": "code",
   "execution_count": 16,
   "metadata": {},
   "outputs": [
    {
     "data": {
      "text/plain": [
       "{(CPWCoupler \"TL-resonator coupler\", n=3, l=299.798, 'port1', 0): 1,\n",
       " (RectFanout closed end resonator fanout, n=3, grouping=(0, 2), 'wide', 0): 1,\n",
       " (CPWCoupler \"TL-resonator coupler\", n=3, l=299.798, 'port1', 1): 2,\n",
       " (RectFanout closed end resonator fanout, n=3, grouping=(0, 2), 'wide', 1): 2,\n",
       " (CPWCoupler \"TL-resonator coupler\", n=3, l=299.798, 'port1', 2): 3,\n",
       " (RectFanout closed end resonator fanout, n=3, grouping=(0, 2), 'wide', 2): 3,\n",
       " (RectFanout closed end resonator fanout, n=3, grouping=(0, 2),\n",
       "  'center',\n",
       "  0): 4,\n",
       " (RectGrounding cl1, 'wide', 0): 4,\n",
       " (RectFanout closed end resonator fanout, n=3, grouping=(0, 2),\n",
       "  'center',\n",
       "  1): 5,\n",
       " (RectGrounding cl1, 'wide', 1): 5,\n",
       " (CPW \"left TL\", l=968.634, 'port1', 0): 6,\n",
       " (<QCreator.elements.pad.Pad at 0x7fde4cec9a90>, 'port', 0): 6,\n",
       " (CPW \"left TL\", l=968.634, 'port2', 0): 7,\n",
       " (RectGrounding cl1, 'narrow', 0): 7,\n",
       " (CPWCoupler \"TL-resonator coupler\", n=3, l=299.798, 'port2', 0): 8,\n",
       " (RectFanout open end resonator fanout, n=3, grouping=(1, 3), 'wide', 0): 8,\n",
       " (CPWCoupler \"TL-resonator coupler\", n=3, l=299.798, 'port2', 1): 9,\n",
       " (RectFanout open end resonator fanout, n=3, grouping=(1, 3), 'wide', 1): 9,\n",
       " (CPWCoupler \"TL-resonator coupler\", n=3, l=299.798, 'port2', 2): 10,\n",
       " (RectFanout open end resonator fanout, n=3, grouping=(1, 3), 'wide', 2): 10,\n",
       " (RectFanout open end resonator fanout, n=3, grouping=(1, 3), 'center', 0): 11,\n",
       " (RectGrounding cl2, 'wide', 0): 11,\n",
       " (RectFanout open end resonator fanout, n=3, grouping=(1, 3), 'center', 1): 12,\n",
       " (RectGrounding cl2, 'wide', 1): 12,\n",
       " (CPW \"right TL\", l=6367.932, 'port1', 0): 13,\n",
       " (<QCreator.elements.pad.Pad at 0x7fde4f060b00>, 'port', 0): 13,\n",
       " (CPW \"right TL\", l=6367.932, 'port2', 0): 14,\n",
       " (RectGrounding cl2, 'narrow', 0): 14,\n",
       " (CPW \"closed end\", l=3528.252, 'port2', 0): 15,\n",
       " (RectGrounding resonator ground, 'wide', 0): 15,\n",
       " (RectFanout closed end resonator fanout, n=3, grouping=(0, 2), 'up', 0): 16,\n",
       " (CPW \"closed end\", l=3528.252, 'port1', 0): 17,\n",
       " (RectFanout open end resonator fanout, n=3, grouping=(1, 3), 'down', 0): 18,\n",
       " (CPW \"open end resonator\", l=999.933, 'port1', 0): 19,\n",
       " (CPW \"open end resonator\", l=999.933, 'port2', 0): 20}"
      ]
     },
     "execution_count": 16,
     "metadata": {},
     "output_type": "execute_result"
    }
   ],
   "source": [
    "connections"
   ]
  },
  {
   "cell_type": "code",
   "execution_count": 18,
   "metadata": {},
   "outputs": [
    {
     "data": {
      "text/plain": [
       "{'chip_edge_ground': [],\n",
       " 'p1': [Port p1],\n",
       " 'p2': [Port p2],\n",
       " 'TL-resonator coupler': [TL TL-resonator coupler (n=3)],\n",
       " 'closed end resonator fanout': [TL closed end resonator fanout_group1 (n=2),\n",
       "  TL closed end resonator fanout_group2 (n=1)]}"
      ]
     },
     "execution_count": 18,
     "metadata": {},
     "output_type": "execute_result"
    }
   ],
   "source": [
    "elements_"
   ]
  },
  {
   "cell_type": "code",
   "execution_count": 19,
   "metadata": {},
   "outputs": [
    {
     "data": {
      "text/plain": [
       "[20, 16, 8]"
      ]
     },
     "execution_count": 19,
     "metadata": {},
     "output_type": "execute_result"
    }
   ],
   "source": [
    "fanout_for_closed_end.w"
   ]
  },
  {
   "cell_type": "code",
   "execution_count": 20,
   "metadata": {},
   "outputs": [
    {
     "data": {
      "text/plain": [
       "{'wide': Type: mc-cpw, Position: (2000.0, 2350.0), Orientation: 3.142\n",
       " w: [8, 16, 20], s: [7, 7, 12, 12], g: 10\n",
       " reversed: True,\n",
       " 'center': Type: mc-cpw, Position: (1978.0, 2357.5), Orientation: 0.0\n",
       " w: [20, 16], s: [12, 12, 7], g: 10\n",
       " reversed: True,\n",
       " 'up': Type: cpw, Position: (1989.0, 2299.0), Orientation: 1.571\n",
       " w: 8, s: 7, g: 10\n",
       " reversed: True}"
      ]
     },
     "execution_count": 20,
     "metadata": {},
     "output_type": "execute_result"
    }
   ],
   "source": [
    "fanout_for_closed_end.get_terminals()"
   ]
  },
  {
   "cell_type": "code",
   "execution_count": 27,
   "metadata": {},
   "outputs": [
    {
     "data": {
      "text/plain": [
       "[((CPWCoupler \"TL-resonator coupler\", n=3, l=299.798, 'port1', 0),\n",
       "  (RectFanout closed end resonator fanout, n=3, grouping=(0, 2), 'wide', 0)),\n",
       " ((CPWCoupler \"TL-resonator coupler\", n=3, l=299.798, 'port1', 1),\n",
       "  (RectFanout closed end resonator fanout, n=3, grouping=(0, 2), 'wide', 1)),\n",
       " ((CPWCoupler \"TL-resonator coupler\", n=3, l=299.798, 'port1', 2),\n",
       "  (RectFanout closed end resonator fanout, n=3, grouping=(0, 2), 'wide', 2))]"
      ]
     },
     "execution_count": 27,
     "metadata": {},
     "output_type": "execute_result"
    }
   ],
   "source": [
    "sample.connections"
   ]
  },
  {
   "cell_type": "code",
   "execution_count": null,
   "metadata": {},
   "outputs": [],
   "source": [
    "[((CPWCoupler \"TL-resonator coupler\", n=3, l=299.798, 'port1', 0),\n",
    "  (RectFanout closed end resonator fanout, n=3, grouping=(0, 2), 'wide', 0)),\n",
    " ((CPWCoupler \"TL-resonator coupler\", n=3, l=299.798, 'port1', 1),\n",
    "  (RectFanout closed end resonator fanout, n=3, grouping=(0, 2), 'wide', 1)),\n",
    " ((CPWCoupler \"TL-resonator coupler\", n=3, l=299.798, 'port1', 2),\n",
    "  (RectFanout closed end resonator fanout, n=3, grouping=(0, 2), 'wide', 2))]"
   ]
  }
 ],
 "metadata": {
  "kernelspec": {
   "display_name": "Python 3",
   "language": "python",
   "name": "python3"
  },
  "language_info": {
   "codemirror_mode": {
    "name": "ipython",
    "version": 3
   },
   "file_extension": ".py",
   "mimetype": "text/x-python",
   "name": "python",
   "nbconvert_exporter": "python",
   "pygments_lexer": "ipython3",
   "version": "3.7.3"
  }
 },
 "nbformat": 4,
 "nbformat_minor": 2
}
